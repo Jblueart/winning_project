{
 "cells": [
  {
   "cell_type": "code",
   "execution_count": 25,
   "id": "1f356949",
   "metadata": {},
   "outputs": [],
   "source": [
    "import pandas as pd\n",
    "from statsmodels.tsa.holtwinters import ExponentialSmoothing\n",
    "import matplotlib as plot\n",
    "import warnings\n",
    "import numpy as np\n",
    "from statsmodels.tools.sm_exceptions import ConvergenceWarning\n",
    "warnings.simplefilter('ignore', ConvergenceWarning)\n"
   ]
  },
  {
   "cell_type": "code",
   "execution_count": 2,
   "id": "bc1c673d",
   "metadata": {},
   "outputs": [
    {
     "data": {
      "text/html": [
       "<div>\n",
       "<style scoped>\n",
       "    .dataframe tbody tr th:only-of-type {\n",
       "        vertical-align: middle;\n",
       "    }\n",
       "\n",
       "    .dataframe tbody tr th {\n",
       "        vertical-align: top;\n",
       "    }\n",
       "\n",
       "    .dataframe thead th {\n",
       "        text-align: right;\n",
       "    }\n",
       "</style>\n",
       "<table border=\"1\" class=\"dataframe\">\n",
       "  <thead>\n",
       "    <tr style=\"text-align: right;\">\n",
       "      <th></th>\n",
       "      <th>CPI</th>\n",
       "    </tr>\n",
       "    <tr>\n",
       "      <th>Date</th>\n",
       "      <th></th>\n",
       "    </tr>\n",
       "  </thead>\n",
       "  <tbody>\n",
       "    <tr>\n",
       "      <th>1952-01-01</th>\n",
       "      <td>31.2</td>\n",
       "    </tr>\n",
       "    <tr>\n",
       "      <th>1952-02-01</th>\n",
       "      <td>30.7</td>\n",
       "    </tr>\n",
       "    <tr>\n",
       "      <th>1952-03-01</th>\n",
       "      <td>30.7</td>\n",
       "    </tr>\n",
       "    <tr>\n",
       "      <th>1952-04-01</th>\n",
       "      <td>30.8</td>\n",
       "    </tr>\n",
       "    <tr>\n",
       "      <th>1952-05-01</th>\n",
       "      <td>30.8</td>\n",
       "    </tr>\n",
       "  </tbody>\n",
       "</table>\n",
       "</div>"
      ],
      "text/plain": [
       "             CPI\n",
       "Date            \n",
       "1952-01-01  31.2\n",
       "1952-02-01  30.7\n",
       "1952-03-01  30.7\n",
       "1952-04-01  30.8\n",
       "1952-05-01  30.8"
      ]
     },
     "execution_count": 2,
     "metadata": {},
     "output_type": "execute_result"
    }
   ],
   "source": [
    "# Read the csvs into pandas\n",
    "food_cpi_df = pd.read_csv(\"food_cpi_cleaned.csv\", index_col=\"Date\")\n",
    "food_cpi_df.head()"
   ]
  },
  {
   "cell_type": "code",
   "execution_count": 7,
   "id": "35d8ee0a",
   "metadata": {},
   "outputs": [
    {
     "data": {
      "text/html": [
       "<div>\n",
       "<style scoped>\n",
       "    .dataframe tbody tr th:only-of-type {\n",
       "        vertical-align: middle;\n",
       "    }\n",
       "\n",
       "    .dataframe tbody tr th {\n",
       "        vertical-align: top;\n",
       "    }\n",
       "\n",
       "    .dataframe thead th {\n",
       "        text-align: right;\n",
       "    }\n",
       "</style>\n",
       "<table border=\"1\" class=\"dataframe\">\n",
       "  <thead>\n",
       "    <tr style=\"text-align: right;\">\n",
       "      <th></th>\n",
       "      <th>CPI</th>\n",
       "    </tr>\n",
       "    <tr>\n",
       "      <th>Date</th>\n",
       "      <th></th>\n",
       "    </tr>\n",
       "  </thead>\n",
       "  <tbody>\n",
       "    <tr>\n",
       "      <th>2020-09-01</th>\n",
       "      <td>251.303</td>\n",
       "    </tr>\n",
       "    <tr>\n",
       "      <th>2020-10-01</th>\n",
       "      <td>251.478</td>\n",
       "    </tr>\n",
       "    <tr>\n",
       "      <th>2020-11-01</th>\n",
       "      <td>251.241</td>\n",
       "    </tr>\n",
       "    <tr>\n",
       "      <th>2020-12-01</th>\n",
       "      <td>252.009</td>\n",
       "    </tr>\n",
       "    <tr>\n",
       "      <th>2021-01-01</th>\n",
       "      <td>252.270</td>\n",
       "    </tr>\n",
       "  </tbody>\n",
       "</table>\n",
       "</div>"
      ],
      "text/plain": [
       "                CPI\n",
       "Date               \n",
       "2020-09-01  251.303\n",
       "2020-10-01  251.478\n",
       "2020-11-01  251.241\n",
       "2020-12-01  252.009\n",
       "2021-01-01  252.270"
      ]
     },
     "execution_count": 7,
     "metadata": {},
     "output_type": "execute_result"
    }
   ],
   "source": [
    "fm_foodcpi_df = pd.read_csv(\"food_cpi_filtered_match.csv\", index_col='Date')\n",
    "gas_clean_df = pd.read_csv(\"gas_prices_cleaned.csv\", index_col='Date')\n",
    "fm_gas_df = pd.read_csv(\"gas_prices_cleaned.csv\", index_col=\"Date\")\n",
    "\n",
    "fm_foodcpi_df.tail()"
   ]
  },
  {
   "cell_type": "code",
   "execution_count": 6,
   "id": "2f0dfad1",
   "metadata": {},
   "outputs": [
    {
     "data": {
      "text/html": [
       "<div>\n",
       "<style scoped>\n",
       "    .dataframe tbody tr th:only-of-type {\n",
       "        vertical-align: middle;\n",
       "    }\n",
       "\n",
       "    .dataframe tbody tr th {\n",
       "        vertical-align: top;\n",
       "    }\n",
       "\n",
       "    .dataframe thead th {\n",
       "        text-align: right;\n",
       "    }\n",
       "</style>\n",
       "<table border=\"1\" class=\"dataframe\">\n",
       "  <thead>\n",
       "    <tr style=\"text-align: right;\">\n",
       "      <th></th>\n",
       "      <th>all_grades_all_formulation</th>\n",
       "      <th>all_grades_conventional</th>\n",
       "      <th>all_grades_reformulated</th>\n",
       "      <th>regular_all_formulation</th>\n",
       "      <th>regular_conventional</th>\n",
       "      <th>regular_reformulated</th>\n",
       "      <th>midgrade_all_formulation</th>\n",
       "      <th>midgrade_conventional</th>\n",
       "      <th>midgrade_reformulated</th>\n",
       "      <th>premium_all_formulation</th>\n",
       "      <th>premium_conventional</th>\n",
       "      <th>premium_reformulated</th>\n",
       "      <th>no_2_diesel</th>\n",
       "    </tr>\n",
       "    <tr>\n",
       "      <th>Date</th>\n",
       "      <th></th>\n",
       "      <th></th>\n",
       "      <th></th>\n",
       "      <th></th>\n",
       "      <th></th>\n",
       "      <th></th>\n",
       "      <th></th>\n",
       "      <th></th>\n",
       "      <th></th>\n",
       "      <th></th>\n",
       "      <th></th>\n",
       "      <th></th>\n",
       "      <th></th>\n",
       "    </tr>\n",
       "  </thead>\n",
       "  <tbody>\n",
       "    <tr>\n",
       "      <th>2020-12-28</th>\n",
       "      <td>2.330</td>\n",
       "      <td>2.225</td>\n",
       "      <td>2.535</td>\n",
       "      <td>2.243</td>\n",
       "      <td>2.158</td>\n",
       "      <td>2.423</td>\n",
       "      <td>2.634</td>\n",
       "      <td>2.482</td>\n",
       "      <td>2.858</td>\n",
       "      <td>2.889</td>\n",
       "      <td>2.770</td>\n",
       "      <td>3.031</td>\n",
       "      <td>2.635</td>\n",
       "    </tr>\n",
       "    <tr>\n",
       "      <th>2021-01-04</th>\n",
       "      <td>2.336</td>\n",
       "      <td>2.227</td>\n",
       "      <td>2.549</td>\n",
       "      <td>2.249</td>\n",
       "      <td>2.160</td>\n",
       "      <td>2.437</td>\n",
       "      <td>2.639</td>\n",
       "      <td>2.484</td>\n",
       "      <td>2.867</td>\n",
       "      <td>2.895</td>\n",
       "      <td>2.771</td>\n",
       "      <td>3.042</td>\n",
       "      <td>2.640</td>\n",
       "    </tr>\n",
       "    <tr>\n",
       "      <th>2021-01-11</th>\n",
       "      <td>2.403</td>\n",
       "      <td>2.298</td>\n",
       "      <td>2.610</td>\n",
       "      <td>2.317</td>\n",
       "      <td>2.232</td>\n",
       "      <td>2.498</td>\n",
       "      <td>2.702</td>\n",
       "      <td>2.550</td>\n",
       "      <td>2.927</td>\n",
       "      <td>2.959</td>\n",
       "      <td>2.839</td>\n",
       "      <td>3.101</td>\n",
       "      <td>2.670</td>\n",
       "    </tr>\n",
       "    <tr>\n",
       "      <th>2021-01-18</th>\n",
       "      <td>2.464</td>\n",
       "      <td>2.351</td>\n",
       "      <td>2.688</td>\n",
       "      <td>2.379</td>\n",
       "      <td>2.285</td>\n",
       "      <td>2.579</td>\n",
       "      <td>2.759</td>\n",
       "      <td>2.601</td>\n",
       "      <td>2.995</td>\n",
       "      <td>3.014</td>\n",
       "      <td>2.885</td>\n",
       "      <td>3.166</td>\n",
       "      <td>2.696</td>\n",
       "    </tr>\n",
       "    <tr>\n",
       "      <th>2021-01-25</th>\n",
       "      <td>2.478</td>\n",
       "      <td>2.363</td>\n",
       "      <td>2.703</td>\n",
       "      <td>2.392</td>\n",
       "      <td>2.298</td>\n",
       "      <td>2.593</td>\n",
       "      <td>2.776</td>\n",
       "      <td>2.615</td>\n",
       "      <td>3.014</td>\n",
       "      <td>3.033</td>\n",
       "      <td>2.900</td>\n",
       "      <td>3.191</td>\n",
       "      <td>2.716</td>\n",
       "    </tr>\n",
       "  </tbody>\n",
       "</table>\n",
       "</div>"
      ],
      "text/plain": [
       "            all_grades_all_formulation  all_grades_conventional  \\\n",
       "Date                                                              \n",
       "2020-12-28                       2.330                    2.225   \n",
       "2021-01-04                       2.336                    2.227   \n",
       "2021-01-11                       2.403                    2.298   \n",
       "2021-01-18                       2.464                    2.351   \n",
       "2021-01-25                       2.478                    2.363   \n",
       "\n",
       "            all_grades_reformulated  regular_all_formulation  \\\n",
       "Date                                                           \n",
       "2020-12-28                    2.535                    2.243   \n",
       "2021-01-04                    2.549                    2.249   \n",
       "2021-01-11                    2.610                    2.317   \n",
       "2021-01-18                    2.688                    2.379   \n",
       "2021-01-25                    2.703                    2.392   \n",
       "\n",
       "            regular_conventional  regular_reformulated  \\\n",
       "Date                                                     \n",
       "2020-12-28                 2.158                 2.423   \n",
       "2021-01-04                 2.160                 2.437   \n",
       "2021-01-11                 2.232                 2.498   \n",
       "2021-01-18                 2.285                 2.579   \n",
       "2021-01-25                 2.298                 2.593   \n",
       "\n",
       "            midgrade_all_formulation  midgrade_conventional  \\\n",
       "Date                                                          \n",
       "2020-12-28                     2.634                  2.482   \n",
       "2021-01-04                     2.639                  2.484   \n",
       "2021-01-11                     2.702                  2.550   \n",
       "2021-01-18                     2.759                  2.601   \n",
       "2021-01-25                     2.776                  2.615   \n",
       "\n",
       "            midgrade_reformulated  premium_all_formulation  \\\n",
       "Date                                                         \n",
       "2020-12-28                  2.858                    2.889   \n",
       "2021-01-04                  2.867                    2.895   \n",
       "2021-01-11                  2.927                    2.959   \n",
       "2021-01-18                  2.995                    3.014   \n",
       "2021-01-25                  3.014                    3.033   \n",
       "\n",
       "            premium_conventional  premium_reformulated  no_2_diesel  \n",
       "Date                                                                 \n",
       "2020-12-28                 2.770                 3.031        2.635  \n",
       "2021-01-04                 2.771                 3.042        2.640  \n",
       "2021-01-11                 2.839                 3.101        2.670  \n",
       "2021-01-18                 2.885                 3.166        2.696  \n",
       "2021-01-25                 2.900                 3.191        2.716  "
      ]
     },
     "execution_count": 6,
     "metadata": {},
     "output_type": "execute_result"
    }
   ],
   "source": [
    "fm_gas_df.tail()"
   ]
  },
  {
   "cell_type": "code",
   "execution_count": 23,
   "id": "6719ced7",
   "metadata": {},
   "outputs": [
    {
     "data": {
      "text/plain": [
       "all_grades_all_formulation    float64\n",
       "all_grades_conventional       float64\n",
       "all_grades_reformulated       float64\n",
       "regular_all_formulation       float64\n",
       "regular_conventional          float64\n",
       "regular_reformulated          float64\n",
       "midgrade_all_formulation      float64\n",
       "midgrade_conventional         float64\n",
       "midgrade_reformulated         float64\n",
       "premium_all_formulation       float64\n",
       "premium_conventional          float64\n",
       "premium_reformulated          float64\n",
       "no_2_diesel                   float64\n",
       "dtype: object"
      ]
     },
     "execution_count": 23,
     "metadata": {},
     "output_type": "execute_result"
    }
   ],
   "source": [
    "fm_gas_df.dtypes"
   ]
  },
  {
   "cell_type": "code",
   "execution_count": 11,
   "id": "d8f9ff9d",
   "metadata": {},
   "outputs": [
    {
     "data": {
      "text/plain": [
       "DatetimeIndex(['1995-01-31', '1995-02-28', '1995-03-31', '1995-04-30',\n",
       "               '1995-05-31', '1995-06-30', '1995-07-31', '1995-08-31',\n",
       "               '1995-09-30', '1995-10-31',\n",
       "               ...\n",
       "               '2020-03-31', '2020-04-30', '2020-05-31', '2020-06-30',\n",
       "               '2020-07-31', '2020-08-31', '2020-09-30', '2020-10-31',\n",
       "               '2020-11-30', '2020-12-31'],\n",
       "              dtype='datetime64[ns]', name='Date', length=312, freq='M')"
      ]
     },
     "execution_count": 11,
     "metadata": {},
     "output_type": "execute_result"
    }
   ],
   "source": [
    "#setup frequency as monthly\n",
    "fm_gas_df=fm_gas_df.asfreq(\"M\")\n",
    "fm_gas_df.index"
   ]
  },
  {
   "cell_type": "code",
   "execution_count": 31,
   "id": "6493d1d5",
   "metadata": {},
   "outputs": [],
   "source": [
    "#create/train model\n"
   ]
  },
  {
   "cell_type": "code",
   "execution_count": 15,
   "id": "770978c4",
   "metadata": {},
   "outputs": [],
   "source": [
    "# predict and forecast with the magic of the python\n",
    "\n",
    "predictions= model.forecast(24)\n"
   ]
  },
  {
   "cell_type": "code",
   "execution_count": 16,
   "id": "d781f5e1",
   "metadata": {
    "scrolled": true
   },
   "outputs": [
    {
     "data": {
      "text/plain": [
       "2021-01-31   NaN\n",
       "2021-02-28   NaN\n",
       "2021-03-31   NaN\n",
       "2021-04-30   NaN\n",
       "2021-05-31   NaN\n",
       "2021-06-30   NaN\n",
       "2021-07-31   NaN\n",
       "2021-08-31   NaN\n",
       "2021-09-30   NaN\n",
       "2021-10-31   NaN\n",
       "2021-11-30   NaN\n",
       "2021-12-31   NaN\n",
       "2022-01-31   NaN\n",
       "2022-02-28   NaN\n",
       "2022-03-31   NaN\n",
       "2022-04-30   NaN\n",
       "2022-05-31   NaN\n",
       "2022-06-30   NaN\n",
       "2022-07-31   NaN\n",
       "2022-08-31   NaN\n",
       "2022-09-30   NaN\n",
       "2022-10-31   NaN\n",
       "2022-11-30   NaN\n",
       "2022-12-31   NaN\n",
       "Freq: M, dtype: float64"
      ]
     },
     "execution_count": 16,
     "metadata": {},
     "output_type": "execute_result"
    }
   ],
   "source": [
    "predictions"
   ]
  },
  {
   "cell_type": "code",
   "execution_count": 28,
   "id": "331f55eb",
   "metadata": {},
   "outputs": [],
   "source": [
    "# Linear regression \n",
    "from sklearn import linear_model\n",
    "from sklearn import preprocessing, svm\n",
    "from sklearn.model_selection import train_test_split\n",
    "from sklearn.linear_model import LinearRegression\n"
   ]
  },
  {
   "cell_type": "code",
   "execution_count": 34,
   "id": "7e8a1055",
   "metadata": {},
   "outputs": [
    {
     "ename": "AttributeError",
     "evalue": "'list' object has no attribute 'values'",
     "output_type": "error",
     "traceback": [
      "\u001b[1;31m---------------------------------------------------------------------------\u001b[0m",
      "\u001b[1;31mAttributeError\u001b[0m                            Traceback (most recent call last)",
      "\u001b[1;32m~\\AppData\\Local\\Temp\\ipykernel_30732\\2554833295.py\u001b[0m in \u001b[0;36m<module>\u001b[1;34m\u001b[0m\n\u001b[0;32m      1\u001b[0m \u001b[0mx\u001b[0m\u001b[1;33m=\u001b[0m\u001b[1;33m(\u001b[0m\u001b[0mfm_gas_df\u001b[0m\u001b[1;33m,\u001b[0m\u001b[1;33m[\u001b[0m\u001b[1;34m'Date'\u001b[0m\u001b[1;33m]\u001b[0m\u001b[1;33m)\u001b[0m\u001b[1;33m\u001b[0m\u001b[1;33m\u001b[0m\u001b[0m\n\u001b[1;32m----> 2\u001b[1;33m \u001b[0my\u001b[0m\u001b[1;33m=\u001b[0m\u001b[0mfm_gas_df\u001b[0m\u001b[1;33m,\u001b[0m\u001b[1;33m[\u001b[0m\u001b[1;34m'all_grades_all_formulation'\u001b[0m\u001b[1;33m]\u001b[0m\u001b[1;33m.\u001b[0m\u001b[0mvalues\u001b[0m\u001b[1;33m.\u001b[0m\u001b[0mreshape\u001b[0m\u001b[1;33m(\u001b[0m\u001b[1;33m-\u001b[0m\u001b[1;36m1\u001b[0m\u001b[1;33m,\u001b[0m \u001b[1;36m1\u001b[0m\u001b[1;33m)\u001b[0m\u001b[1;33m\u001b[0m\u001b[1;33m\u001b[0m\u001b[0m\n\u001b[0m\u001b[0;32m      3\u001b[0m \u001b[1;33m\u001b[0m\u001b[0m\n\u001b[0;32m      4\u001b[0m \u001b[0mlm\u001b[0m \u001b[1;33m=\u001b[0m \u001b[0mlinear_model\u001b[0m\u001b[1;33m.\u001b[0m\u001b[0mLinearRegression\u001b[0m\u001b[1;33m(\u001b[0m\u001b[1;33m)\u001b[0m\u001b[1;33m\u001b[0m\u001b[1;33m\u001b[0m\u001b[0m\n\u001b[0;32m      5\u001b[0m \u001b[0mmodel\u001b[0m \u001b[1;33m=\u001b[0m \u001b[0mlm\u001b[0m\u001b[1;33m.\u001b[0m\u001b[0mfit\u001b[0m\u001b[1;33m(\u001b[0m\u001b[0mx\u001b[0m\u001b[1;33m.\u001b[0m\u001b[0mvalues\u001b[0m\u001b[1;33m.\u001b[0m\u001b[0mreshape\u001b[0m\u001b[1;33m(\u001b[0m\u001b[1;33m-\u001b[0m\u001b[1;36m1\u001b[0m\u001b[1;33m,\u001b[0m \u001b[1;36m1\u001b[0m\u001b[1;33m)\u001b[0m\u001b[1;33m,\u001b[0m\u001b[0my\u001b[0m\u001b[1;33m)\u001b[0m\u001b[1;33m\u001b[0m\u001b[1;33m\u001b[0m\u001b[0m\n",
      "\u001b[1;31mAttributeError\u001b[0m: 'list' object has no attribute 'values'"
     ]
    }
   ],
   "source": [
    "x=(fm_gas_df,['Date'])\n",
    "y=fm_gas_df,['all_grades_all_formulation'].values.reshape(-1, 1)\n",
    "\n",
    "lm = linear_model.LinearRegression()\n",
    "model = lm.fit(x.values.reshape(-1, 1),y)\n",
    "\n",
    "predictions = lm.predict(y.values.astype(float64).reshape(-1, 1))\n",
    "\n",
    "f, ax = plt.subplots(1, 1)\n",
    "ax.plot(y, predictions,label='Linear fit')\n",
    "ax.scatter(x, y,label='value', marker='o', color='r')\n",
    "plt.ylabel('all_grades_all_formulation')\n",
    "ax.legend();\n",
    "\n",
    "plt.show()"
   ]
  },
  {
   "cell_type": "code",
   "execution_count": null,
   "id": "46d5ddf5",
   "metadata": {},
   "outputs": [],
   "source": []
  },
  {
   "cell_type": "code",
   "execution_count": null,
   "id": "4c604316",
   "metadata": {},
   "outputs": [],
   "source": []
  },
  {
   "cell_type": "code",
   "execution_count": null,
   "id": "b93fd3df",
   "metadata": {},
   "outputs": [],
   "source": []
  }
 ],
 "metadata": {
  "kernelspec": {
   "display_name": "PythonData",
   "language": "python",
   "name": "pythondata"
  },
  "language_info": {
   "codemirror_mode": {
    "name": "ipython",
    "version": 3
   },
   "file_extension": ".py",
   "mimetype": "text/x-python",
   "name": "python",
   "nbconvert_exporter": "python",
   "pygments_lexer": "ipython3",
   "version": "3.7.13"
  }
 },
 "nbformat": 4,
 "nbformat_minor": 5
}
