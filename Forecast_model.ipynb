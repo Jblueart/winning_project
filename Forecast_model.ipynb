{
 "cells": [
  {
   "cell_type": "code",
   "execution_count": 49,
   "id": "43e751c3",
   "metadata": {},
   "outputs": [],
   "source": [
    "import pandas as pd\n",
    "from statsmodels.tsa.holtwinters import ExponentialSmoothing\n",
    "import matplotlib as plot"
   ]
  },
  {
   "cell_type": "code",
   "execution_count": 50,
   "id": "1b1da10d",
   "metadata": {},
   "outputs": [],
   "source": [
    "import warnings\n",
    "from statsmodels.tools.sm_exceptions import ConvergenceWarning\n",
    "warnings.simplefilter('ignore', ConvergenceWarning)"
   ]
  },
  {
   "cell_type": "code",
   "execution_count": 51,
   "id": "324b57d2",
   "metadata": {},
   "outputs": [
    {
     "data": {
      "text/html": [
       "<div>\n",
       "<style scoped>\n",
       "    .dataframe tbody tr th:only-of-type {\n",
       "        vertical-align: middle;\n",
       "    }\n",
       "\n",
       "    .dataframe tbody tr th {\n",
       "        vertical-align: top;\n",
       "    }\n",
       "\n",
       "    .dataframe thead th {\n",
       "        text-align: right;\n",
       "    }\n",
       "</style>\n",
       "<table border=\"1\" class=\"dataframe\">\n",
       "  <thead>\n",
       "    <tr style=\"text-align: right;\">\n",
       "      <th></th>\n",
       "      <th>Unnamed: 0</th>\n",
       "      <th>A1</th>\n",
       "      <th>A2</th>\n",
       "      <th>A3</th>\n",
       "      <th>R1</th>\n",
       "      <th>R2</th>\n",
       "      <th>R3</th>\n",
       "      <th>M1</th>\n",
       "      <th>M2</th>\n",
       "      <th>M3</th>\n",
       "      <th>P1</th>\n",
       "      <th>P2</th>\n",
       "      <th>P3</th>\n",
       "      <th>D1</th>\n",
       "      <th>CPI</th>\n",
       "    </tr>\n",
       "    <tr>\n",
       "      <th>Date</th>\n",
       "      <th></th>\n",
       "      <th></th>\n",
       "      <th></th>\n",
       "      <th></th>\n",
       "      <th></th>\n",
       "      <th></th>\n",
       "      <th></th>\n",
       "      <th></th>\n",
       "      <th></th>\n",
       "      <th></th>\n",
       "      <th></th>\n",
       "      <th></th>\n",
       "      <th></th>\n",
       "      <th></th>\n",
       "      <th></th>\n",
       "    </tr>\n",
       "  </thead>\n",
       "  <tbody>\n",
       "    <tr>\n",
       "      <th>1995-01</th>\n",
       "      <td>0</td>\n",
       "      <td>1.13000</td>\n",
       "      <td>1.1072</td>\n",
       "      <td>1.22820</td>\n",
       "      <td>1.08180</td>\n",
       "      <td>1.06620</td>\n",
       "      <td>1.16640</td>\n",
       "      <td>1.17360</td>\n",
       "      <td>1.16120</td>\n",
       "      <td>1.29680</td>\n",
       "      <td>1.27480</td>\n",
       "      <td>1.25320</td>\n",
       "      <td>1.38120</td>\n",
       "      <td>1.09820</td>\n",
       "      <td>147.0</td>\n",
       "    </tr>\n",
       "    <tr>\n",
       "      <th>1995-02</th>\n",
       "      <td>1</td>\n",
       "      <td>1.12025</td>\n",
       "      <td>1.0990</td>\n",
       "      <td>1.21500</td>\n",
       "      <td>1.07250</td>\n",
       "      <td>1.05800</td>\n",
       "      <td>1.15550</td>\n",
       "      <td>1.16475</td>\n",
       "      <td>1.15275</td>\n",
       "      <td>1.28225</td>\n",
       "      <td>1.26475</td>\n",
       "      <td>1.24450</td>\n",
       "      <td>1.36500</td>\n",
       "      <td>1.08775</td>\n",
       "      <td>147.7</td>\n",
       "    </tr>\n",
       "    <tr>\n",
       "      <th>1995-03</th>\n",
       "      <td>2</td>\n",
       "      <td>1.11850</td>\n",
       "      <td>1.0990</td>\n",
       "      <td>1.20250</td>\n",
       "      <td>1.07200</td>\n",
       "      <td>1.05925</td>\n",
       "      <td>1.14200</td>\n",
       "      <td>1.16125</td>\n",
       "      <td>1.15225</td>\n",
       "      <td>1.26875</td>\n",
       "      <td>1.25800</td>\n",
       "      <td>1.23975</td>\n",
       "      <td>1.35275</td>\n",
       "      <td>1.08750</td>\n",
       "      <td>147.1</td>\n",
       "    </tr>\n",
       "    <tr>\n",
       "      <th>1995-04</th>\n",
       "      <td>3</td>\n",
       "      <td>1.15725</td>\n",
       "      <td>1.1430</td>\n",
       "      <td>1.21275</td>\n",
       "      <td>1.11125</td>\n",
       "      <td>1.10350</td>\n",
       "      <td>1.15625</td>\n",
       "      <td>1.19875</td>\n",
       "      <td>1.19450</td>\n",
       "      <td>1.27700</td>\n",
       "      <td>1.29475</td>\n",
       "      <td>1.28325</td>\n",
       "      <td>1.36125</td>\n",
       "      <td>1.10400</td>\n",
       "      <td>148.7</td>\n",
       "    </tr>\n",
       "    <tr>\n",
       "      <th>1995-05</th>\n",
       "      <td>4</td>\n",
       "      <td>1.22520</td>\n",
       "      <td>1.2128</td>\n",
       "      <td>1.27040</td>\n",
       "      <td>1.17840</td>\n",
       "      <td>1.17240</td>\n",
       "      <td>1.21600</td>\n",
       "      <td>1.26840</td>\n",
       "      <td>1.26620</td>\n",
       "      <td>1.33160</td>\n",
       "      <td>1.36420</td>\n",
       "      <td>1.35680</td>\n",
       "      <td>1.41580</td>\n",
       "      <td>1.12500</td>\n",
       "      <td>148.7</td>\n",
       "    </tr>\n",
       "  </tbody>\n",
       "</table>\n",
       "</div>"
      ],
      "text/plain": [
       "         Unnamed: 0       A1      A2       A3       R1       R2       R3  \\\n",
       "Date                                                                       \n",
       "1995-01           0  1.13000  1.1072  1.22820  1.08180  1.06620  1.16640   \n",
       "1995-02           1  1.12025  1.0990  1.21500  1.07250  1.05800  1.15550   \n",
       "1995-03           2  1.11850  1.0990  1.20250  1.07200  1.05925  1.14200   \n",
       "1995-04           3  1.15725  1.1430  1.21275  1.11125  1.10350  1.15625   \n",
       "1995-05           4  1.22520  1.2128  1.27040  1.17840  1.17240  1.21600   \n",
       "\n",
       "              M1       M2       M3       P1       P2       P3       D1    CPI  \n",
       "Date                                                                           \n",
       "1995-01  1.17360  1.16120  1.29680  1.27480  1.25320  1.38120  1.09820  147.0  \n",
       "1995-02  1.16475  1.15275  1.28225  1.26475  1.24450  1.36500  1.08775  147.7  \n",
       "1995-03  1.16125  1.15225  1.26875  1.25800  1.23975  1.35275  1.08750  147.1  \n",
       "1995-04  1.19875  1.19450  1.27700  1.29475  1.28325  1.36125  1.10400  148.7  \n",
       "1995-05  1.26840  1.26620  1.33160  1.36420  1.35680  1.41580  1.12500  148.7  "
      ]
     },
     "execution_count": 51,
     "metadata": {},
     "output_type": "execute_result"
    }
   ],
   "source": [
    "# Read the database (pre_covid contains)\n",
    "pre_covid_df = pd.read_csv(\"pre_covid.csv\",index_col=\"Date\")\n",
    "pre_covid_df.head()"
   ]
  },
  {
   "cell_type": "code",
   "execution_count": 37,
   "id": "1785050b",
   "metadata": {},
   "outputs": [],
   "source": [
    "# Drop the unnamed row\n",
    "pre_covid_df.drop(pre_covid_df.columns[[0]], axis=1, inplace=True)"
   ]
  },
  {
   "cell_type": "code",
   "execution_count": 52,
   "id": "9f0d397e",
   "metadata": {},
   "outputs": [
    {
     "data": {
      "text/html": [
       "<div>\n",
       "<style scoped>\n",
       "    .dataframe tbody tr th:only-of-type {\n",
       "        vertical-align: middle;\n",
       "    }\n",
       "\n",
       "    .dataframe tbody tr th {\n",
       "        vertical-align: top;\n",
       "    }\n",
       "\n",
       "    .dataframe thead th {\n",
       "        text-align: right;\n",
       "    }\n",
       "</style>\n",
       "<table border=\"1\" class=\"dataframe\">\n",
       "  <thead>\n",
       "    <tr style=\"text-align: right;\">\n",
       "      <th></th>\n",
       "      <th>Unnamed: 0</th>\n",
       "      <th>A1</th>\n",
       "      <th>A2</th>\n",
       "      <th>A3</th>\n",
       "      <th>R1</th>\n",
       "      <th>R2</th>\n",
       "      <th>R3</th>\n",
       "      <th>M1</th>\n",
       "      <th>M2</th>\n",
       "      <th>M3</th>\n",
       "      <th>P1</th>\n",
       "      <th>P2</th>\n",
       "      <th>P3</th>\n",
       "      <th>D1</th>\n",
       "      <th>CPI</th>\n",
       "    </tr>\n",
       "    <tr>\n",
       "      <th>Date</th>\n",
       "      <th></th>\n",
       "      <th></th>\n",
       "      <th></th>\n",
       "      <th></th>\n",
       "      <th></th>\n",
       "      <th></th>\n",
       "      <th></th>\n",
       "      <th></th>\n",
       "      <th></th>\n",
       "      <th></th>\n",
       "      <th></th>\n",
       "      <th></th>\n",
       "      <th></th>\n",
       "      <th></th>\n",
       "      <th></th>\n",
       "    </tr>\n",
       "  </thead>\n",
       "  <tbody>\n",
       "    <tr>\n",
       "      <th>1995-01</th>\n",
       "      <td>0</td>\n",
       "      <td>1.13000</td>\n",
       "      <td>1.1072</td>\n",
       "      <td>1.22820</td>\n",
       "      <td>1.08180</td>\n",
       "      <td>1.06620</td>\n",
       "      <td>1.16640</td>\n",
       "      <td>1.17360</td>\n",
       "      <td>1.16120</td>\n",
       "      <td>1.29680</td>\n",
       "      <td>1.27480</td>\n",
       "      <td>1.25320</td>\n",
       "      <td>1.38120</td>\n",
       "      <td>1.09820</td>\n",
       "      <td>147.0</td>\n",
       "    </tr>\n",
       "    <tr>\n",
       "      <th>1995-02</th>\n",
       "      <td>1</td>\n",
       "      <td>1.12025</td>\n",
       "      <td>1.0990</td>\n",
       "      <td>1.21500</td>\n",
       "      <td>1.07250</td>\n",
       "      <td>1.05800</td>\n",
       "      <td>1.15550</td>\n",
       "      <td>1.16475</td>\n",
       "      <td>1.15275</td>\n",
       "      <td>1.28225</td>\n",
       "      <td>1.26475</td>\n",
       "      <td>1.24450</td>\n",
       "      <td>1.36500</td>\n",
       "      <td>1.08775</td>\n",
       "      <td>147.7</td>\n",
       "    </tr>\n",
       "    <tr>\n",
       "      <th>1995-03</th>\n",
       "      <td>2</td>\n",
       "      <td>1.11850</td>\n",
       "      <td>1.0990</td>\n",
       "      <td>1.20250</td>\n",
       "      <td>1.07200</td>\n",
       "      <td>1.05925</td>\n",
       "      <td>1.14200</td>\n",
       "      <td>1.16125</td>\n",
       "      <td>1.15225</td>\n",
       "      <td>1.26875</td>\n",
       "      <td>1.25800</td>\n",
       "      <td>1.23975</td>\n",
       "      <td>1.35275</td>\n",
       "      <td>1.08750</td>\n",
       "      <td>147.1</td>\n",
       "    </tr>\n",
       "    <tr>\n",
       "      <th>1995-04</th>\n",
       "      <td>3</td>\n",
       "      <td>1.15725</td>\n",
       "      <td>1.1430</td>\n",
       "      <td>1.21275</td>\n",
       "      <td>1.11125</td>\n",
       "      <td>1.10350</td>\n",
       "      <td>1.15625</td>\n",
       "      <td>1.19875</td>\n",
       "      <td>1.19450</td>\n",
       "      <td>1.27700</td>\n",
       "      <td>1.29475</td>\n",
       "      <td>1.28325</td>\n",
       "      <td>1.36125</td>\n",
       "      <td>1.10400</td>\n",
       "      <td>148.7</td>\n",
       "    </tr>\n",
       "    <tr>\n",
       "      <th>1995-05</th>\n",
       "      <td>4</td>\n",
       "      <td>1.22520</td>\n",
       "      <td>1.2128</td>\n",
       "      <td>1.27040</td>\n",
       "      <td>1.17840</td>\n",
       "      <td>1.17240</td>\n",
       "      <td>1.21600</td>\n",
       "      <td>1.26840</td>\n",
       "      <td>1.26620</td>\n",
       "      <td>1.33160</td>\n",
       "      <td>1.36420</td>\n",
       "      <td>1.35680</td>\n",
       "      <td>1.41580</td>\n",
       "      <td>1.12500</td>\n",
       "      <td>148.7</td>\n",
       "    </tr>\n",
       "  </tbody>\n",
       "</table>\n",
       "</div>"
      ],
      "text/plain": [
       "         Unnamed: 0       A1      A2       A3       R1       R2       R3  \\\n",
       "Date                                                                       \n",
       "1995-01           0  1.13000  1.1072  1.22820  1.08180  1.06620  1.16640   \n",
       "1995-02           1  1.12025  1.0990  1.21500  1.07250  1.05800  1.15550   \n",
       "1995-03           2  1.11850  1.0990  1.20250  1.07200  1.05925  1.14200   \n",
       "1995-04           3  1.15725  1.1430  1.21275  1.11125  1.10350  1.15625   \n",
       "1995-05           4  1.22520  1.2128  1.27040  1.17840  1.17240  1.21600   \n",
       "\n",
       "              M1       M2       M3       P1       P2       P3       D1    CPI  \n",
       "Date                                                                           \n",
       "1995-01  1.17360  1.16120  1.29680  1.27480  1.25320  1.38120  1.09820  147.0  \n",
       "1995-02  1.16475  1.15275  1.28225  1.26475  1.24450  1.36500  1.08775  147.7  \n",
       "1995-03  1.16125  1.15225  1.26875  1.25800  1.23975  1.35275  1.08750  147.1  \n",
       "1995-04  1.19875  1.19450  1.27700  1.29475  1.28325  1.36125  1.10400  148.7  \n",
       "1995-05  1.26840  1.26620  1.33160  1.36420  1.35680  1.41580  1.12500  148.7  "
      ]
     },
     "execution_count": 52,
     "metadata": {},
     "output_type": "execute_result"
    }
   ],
   "source": [
    "pre_covid_df.head()"
   ]
  },
  {
   "cell_type": "code",
   "execution_count": 55,
   "id": "389984d9",
   "metadata": {},
   "outputs": [
    {
     "data": {
      "text/plain": [
       "DatetimeIndex(['1995-01-31', '1995-02-28', '1995-03-31', '1995-04-30',\n",
       "               '1995-05-31', '1995-06-30', '1995-07-31', '1995-08-31',\n",
       "               '1995-09-30', '1995-10-31',\n",
       "               ...\n",
       "               '2018-04-30', '2018-05-31', '2018-06-30', '2018-07-31',\n",
       "               '2018-08-31', '2018-09-30', '2018-10-31', '2018-11-30',\n",
       "               '2018-12-31', '2019-01-31'],\n",
       "              dtype='datetime64[ns]', name='Date', length=289, freq='M')"
      ]
     },
     "execution_count": 55,
     "metadata": {},
     "output_type": "execute_result"
    }
   ],
   "source": [
    "# Set up the dataframe frequency as monthly\n",
    "pre_covid_df=pre_covid_df.asfreq(\"M\")\n",
    "pre_covid_df.index"
   ]
  },
  {
   "cell_type": "code",
   "execution_count": 56,
   "id": "c2c48ee8",
   "metadata": {},
   "outputs": [
    {
     "data": {
      "text/plain": [
       "<statsmodels.tsa.holtwinters.results.HoltWintersResultsWrapper at 0x1891eabd788>"
      ]
     },
     "execution_count": 56,
     "metadata": {},
     "output_type": "execute_result"
    }
   ],
   "source": [
    "# Cerate/train the model\n",
    "model = ExponentialSmoothing(endog=pre_covid_df[\"A1\"]).fit()\n",
    "model"
   ]
  },
  {
   "cell_type": "code",
   "execution_count": 46,
   "id": "f3ff4cfd",
   "metadata": {},
   "outputs": [],
   "source": [
    "# Predit/forecast for 29 months\n",
    "predictions= model.forecast(20)"
   ]
  },
  {
   "cell_type": "code",
   "execution_count": 57,
   "id": "808ee16c",
   "metadata": {},
   "outputs": [
    {
     "data": {
      "text/plain": [
       "2022-07-31   NaN\n",
       "2022-08-31   NaN\n",
       "2022-09-30   NaN\n",
       "2022-10-31   NaN\n",
       "2022-11-30   NaN\n",
       "2022-12-31   NaN\n",
       "2023-01-31   NaN\n",
       "2023-02-28   NaN\n",
       "2023-03-31   NaN\n",
       "2023-04-30   NaN\n",
       "2023-05-31   NaN\n",
       "2023-06-30   NaN\n",
       "2023-07-31   NaN\n",
       "2023-08-31   NaN\n",
       "2023-09-30   NaN\n",
       "2023-10-31   NaN\n",
       "2023-11-30   NaN\n",
       "2023-12-31   NaN\n",
       "2024-01-31   NaN\n",
       "2024-02-29   NaN\n",
       "Freq: M, dtype: float64"
      ]
     },
     "execution_count": 57,
     "metadata": {},
     "output_type": "execute_result"
    }
   ],
   "source": [
    "# The predictions should have a column of numbers noy NaN.. need figure out why\n",
    "predictions"
   ]
  },
  {
   "cell_type": "code",
   "execution_count": 58,
   "id": "4571b8b4",
   "metadata": {},
   "outputs": [
    {
     "data": {
      "text/plain": [
       "<AxesSubplot:xlabel='Date'>"
      ]
     },
     "execution_count": 58,
     "metadata": {},
     "output_type": "execute_result"
    },
    {
     "data": {
      "image/png": "[encoded data removed]",
      "text/plain": [
       "<Figure size 648x648 with 1 Axes>"
      ]
     },
     "metadata": {
      "needs_background": "light"
     },
     "output_type": "display_data"
    }
   ],
   "source": [
    "# Plot out the data with the predictions\n",
    "pre_covid_df[\"A1\"].plot(figsize=(9,9))\n",
    "predictions.plot()"
   ]
  },
  {
   "cell_type": "code",
   "execution_count": null,
   "id": "85905d7f",
   "metadata": {},
   "outputs": [],
   "source": []
  },
  {
   "cell_type": "code",
   "execution_count": null,
   "id": "95f7b503",
   "metadata": {},
   "outputs": [],
   "source": []
  }
 ],
 "metadata": {
  "kernelspec": {
   "display_name": "mlenv",
   "language": "python",
   "name": "mlenv"
  },
  "language_info": {
   "codemirror_mode": {
    "name": "ipython",
    "version": 3
   },
   "file_extension": ".py",
   "mimetype": "text/x-python",
   "name": "python",
   "nbconvert_exporter": "python",
   "pygments_lexer": "ipython3",
   "version": "3.7.13"
  }
 },
 "nbformat": 4,
 "nbformat_minor": 5
}
