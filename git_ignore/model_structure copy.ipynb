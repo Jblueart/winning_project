{
 "cells": [
  {
   "cell_type": "code",
   "execution_count": null,
   "id": "73f6d3e3",
   "metadata": {},
   "outputs": [],
   "source": [
    "import pandas as pd"
   ]
  },
  {
   "cell_type": "code",
   "execution_count": null,
   "id": "954772db",
   "metadata": {},
   "outputs": [],
   "source": [
    "# Read the dataset1\n",
    "gas_df = pd.read_csv(\"gasline_price.csv\")"
   ]
  },
  {
   "cell_type": "code",
   "execution_count": null,
   "id": "b7f801b1",
   "metadata": {},
   "outputs": [],
   "source": [
    "# Restructure/clean the dataset to the desired dataframe"
   ]
  },
  {
   "cell_type": "code",
   "execution_count": null,
   "id": "728f725b",
   "metadata": {},
   "outputs": [],
   "source": [
    "# Read the dataset2\n",
    "CPI_df=pd.read_csv(\"CPI_Urban_US_City_avg (version 1).csv\")"
   ]
  }
 ],
 "metadata": {
  "kernelspec": {
   "display_name": "mlenv",
   "language": "python",
   "name": "mlenv"
  },
  "language_info": {
   "codemirror_mode": {
    "name": "ipython",
    "version": 3
   },
   "file_extension": ".py",
   "mimetype": "text/x-python",
   "name": "python",
   "nbconvert_exporter": "python",
   "pygments_lexer": "ipython3",
   "version": "3.7.13"
  }
 },
 "nbformat": 4,
 "nbformat_minor": 5
}
