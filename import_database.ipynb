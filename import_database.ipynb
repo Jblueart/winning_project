{
 "cells": [
  {
   "cell_type": "code",
   "execution_count": 29,
   "id": "fdcd1dae",
   "metadata": {},
   "outputs": [
    {
     "ename": "ImportError",
     "evalue": "cannot import name 'password' from 'config' (C:\\Bootcamp\\Final project\\config.py)",
     "output_type": "error",
     "traceback": [
      "\u001b[1;31m---------------------------------------------------------------------------\u001b[0m",
      "\u001b[1;31mImportError\u001b[0m                               Traceback (most recent call last)",
      "\u001b[1;32m~\\AppData\\Local\\Temp\\ipykernel_22596\\2320368535.py\u001b[0m in \u001b[0;36m<module>\u001b[1;34m\u001b[0m\n\u001b[0;32m      4\u001b[0m \u001b[1;31m# Pandas\u001b[0m\u001b[1;33m\u001b[0m\u001b[1;33m\u001b[0m\u001b[1;33m\u001b[0m\u001b[0m\n\u001b[0;32m      5\u001b[0m \u001b[1;32mimport\u001b[0m \u001b[0mpandas\u001b[0m \u001b[1;32mas\u001b[0m \u001b[0mpd\u001b[0m\u001b[1;33m\u001b[0m\u001b[1;33m\u001b[0m\u001b[0m\n\u001b[1;32m----> 6\u001b[1;33m \u001b[1;32mfrom\u001b[0m \u001b[0mconfig\u001b[0m \u001b[1;32mimport\u001b[0m \u001b[0mpassword\u001b[0m\u001b[1;33m\u001b[0m\u001b[1;33m\u001b[0m\u001b[0m\n\u001b[0m",
      "\u001b[1;31mImportError\u001b[0m: cannot import name 'password' from 'config' (C:\\Bootcamp\\Final project\\config.py)"
     ]
    }
   ],
   "source": [
    "# SQLAlchemy\n",
    "from sqlalchemy import create_engine\n",
    "from sqlalchemy import inspect\n",
    "# Pandas\n",
    "import pandas as pd\n",
    "from config import password \n"
   ]
  },
  {
   "cell_type": "code",
   "execution_count": null,
   "id": "ccb9ff59",
   "metadata": {},
   "outputs": [],
   "source": [
    "#!pip install ipython-sql"
   ]
  },
  {
   "cell_type": "code",
   "execution_count": 11,
   "id": "aa3760c1",
   "metadata": {},
   "outputs": [
    {
     "name": "stdout",
     "output_type": "stream",
     "text": [
      "Requirement already satisfied: psycopg2-binary in c:\\users\\julie\\anaconda4\\lib\\site-packages (2.9.3)\n"
     ]
    }
   ],
   "source": [
    "# !pip install psycopg2-binary"
   ]
  },
  {
   "cell_type": "code",
   "execution_count": 18,
   "id": "b3865b13",
   "metadata": {},
   "outputs": [],
   "source": [
    "import psycopg2"
   ]
  },
  {
   "cell_type": "markdown",
   "id": "f68e1f65",
   "metadata": {},
   "source": [
    "## (Maybe)Another method to import the data from pgAdmin(postgreSQL)"
   ]
  },
  {
   "cell_type": "code",
   "execution_count": 19,
   "id": "0b336364",
   "metadata": {},
   "outputs": [],
   "source": [
    "conn = psycopg2.connect(user=\"postgres\",\n",
    "                       password=password,\n",
    "                       host=\"localhost\",\n",
    "                       port=\"5432\",\n",
    "                       database=\"FinalProject\")"
   ]
  },
  {
   "cell_type": "code",
   "execution_count": 20,
   "id": "a93c96c9",
   "metadata": {},
   "outputs": [],
   "source": [
    "cursor = conn.cursor()\n",
    "postgreSQL_select_Query = \"select * from CPI\"\n",
    "\n",
    "cursor.execute(postgreSQL_select_Query)"
   ]
  },
  {
   "cell_type": "code",
   "execution_count": 21,
   "id": "7b36995b",
   "metadata": {},
   "outputs": [],
   "source": [
    "CPI_price = cursor.fetchall()"
   ]
  },
  {
   "cell_type": "code",
   "execution_count": 23,
   "id": "9ec97710",
   "metadata": {},
   "outputs": [],
   "source": [
    "CPI_price_df = pd.read_sql(\"select * from CPI\",conn)"
   ]
  },
  {
   "cell_type": "code",
   "execution_count": 24,
   "id": "11e8fa8d",
   "metadata": {},
   "outputs": [
    {
     "data": {
      "text/html": [
       "<div>\n",
       "<style scoped>\n",
       "    .dataframe tbody tr th:only-of-type {\n",
       "        vertical-align: middle;\n",
       "    }\n",
       "\n",
       "    .dataframe tbody tr th {\n",
       "        vertical-align: top;\n",
       "    }\n",
       "\n",
       "    .dataframe thead th {\n",
       "        text-align: right;\n",
       "    }\n",
       "</style>\n",
       "<table border=\"1\" class=\"dataframe\">\n",
       "  <thead>\n",
       "    <tr style=\"text-align: right;\">\n",
       "      <th></th>\n",
       "      <th>DATE</th>\n",
       "      <th>CPI</th>\n",
       "    </tr>\n",
       "  </thead>\n",
       "  <tbody>\n",
       "    <tr>\n",
       "      <th>0</th>\n",
       "      <td>1952-01-01</td>\n",
       "      <td>31.200</td>\n",
       "    </tr>\n",
       "    <tr>\n",
       "      <th>1</th>\n",
       "      <td>1952-02-01</td>\n",
       "      <td>30.700</td>\n",
       "    </tr>\n",
       "    <tr>\n",
       "      <th>2</th>\n",
       "      <td>1952-03-01</td>\n",
       "      <td>30.700</td>\n",
       "    </tr>\n",
       "    <tr>\n",
       "      <th>3</th>\n",
       "      <td>1952-04-01</td>\n",
       "      <td>30.800</td>\n",
       "    </tr>\n",
       "    <tr>\n",
       "      <th>4</th>\n",
       "      <td>1952-05-01</td>\n",
       "      <td>30.800</td>\n",
       "    </tr>\n",
       "    <tr>\n",
       "      <th>...</th>\n",
       "      <td>...</td>\n",
       "      <td>...</td>\n",
       "    </tr>\n",
       "    <tr>\n",
       "      <th>842</th>\n",
       "      <td>2022-03-01</td>\n",
       "      <td>278.735</td>\n",
       "    </tr>\n",
       "    <tr>\n",
       "      <th>843</th>\n",
       "      <td>2022-04-01</td>\n",
       "      <td>281.653</td>\n",
       "    </tr>\n",
       "    <tr>\n",
       "      <th>844</th>\n",
       "      <td>2022-05-01</td>\n",
       "      <td>285.711</td>\n",
       "    </tr>\n",
       "    <tr>\n",
       "      <th>845</th>\n",
       "      <td>2022-06-01</td>\n",
       "      <td>288.618</td>\n",
       "    </tr>\n",
       "    <tr>\n",
       "      <th>846</th>\n",
       "      <td>2022-07-01</td>\n",
       "      <td>292.495</td>\n",
       "    </tr>\n",
       "  </tbody>\n",
       "</table>\n",
       "<p>847 rows × 2 columns</p>\n",
       "</div>"
      ],
      "text/plain": [
       "           DATE      CPI\n",
       "0    1952-01-01   31.200\n",
       "1    1952-02-01   30.700\n",
       "2    1952-03-01   30.700\n",
       "3    1952-04-01   30.800\n",
       "4    1952-05-01   30.800\n",
       "..          ...      ...\n",
       "842  2022-03-01  278.735\n",
       "843  2022-04-01  281.653\n",
       "844  2022-05-01  285.711\n",
       "845  2022-06-01  288.618\n",
       "846  2022-07-01  292.495\n",
       "\n",
       "[847 rows x 2 columns]"
      ]
     },
     "execution_count": 24,
     "metadata": {},
     "output_type": "execute_result"
    }
   ],
   "source": [
    "CPI_price_df"
   ]
  },
  {
   "cell_type": "code",
   "execution_count": null,
   "id": "32e9c827",
   "metadata": {},
   "outputs": [],
   "source": []
  }
 ],
 "metadata": {
  "kernelspec": {
   "display_name": "mlenv",
   "language": "python",
   "name": "mlenv"
  },
  "language_info": {
   "codemirror_mode": {
    "name": "ipython",
    "version": 3
   },
   "file_extension": ".py",
   "mimetype": "text/x-python",
   "name": "python",
   "nbconvert_exporter": "python",
   "pygments_lexer": "ipython3",
   "version": "3.7.13"
  }
 },
 "nbformat": 4,
 "nbformat_minor": 5
}
