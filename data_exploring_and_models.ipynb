{
 "cells": [
  {
   "cell_type": "code",
   "execution_count": 4,
   "id": "47009ae9",
   "metadata": {},
   "outputs": [],
   "source": [
    "import pandas as pd\n",
    "import matplotlib.pyplot as plt\n",
    "import pandas as pd\n",
    "import matplotlib.dates as mdates\n"
   ]
  },
  {
   "cell_type": "markdown",
   "id": "ff0bc956",
   "metadata": {},
   "source": [
    "# Read the filtered data and merge two tables\n",
    "(Filtered data: all dates would be the first of the month, like YYYY/MM/01) "
   ]
  },
  {
   "cell_type": "code",
   "execution_count": 5,
   "id": "45274e54",
   "metadata": {},
   "outputs": [
    {
     "ename": "FileNotFoundError",
     "evalue": "[Errno 2] No such file or directory: 'food_cpi_filtered_match.csv'",
     "output_type": "error",
     "traceback": [
      "\u001b[1;31m---------------------------------------------------------------------------\u001b[0m",
      "\u001b[1;31mFileNotFoundError\u001b[0m                         Traceback (most recent call last)",
      "\u001b[1;32m~\\AppData\\Local\\Temp\\ipykernel_2804\\1663263657.py\u001b[0m in \u001b[0;36m<module>\u001b[1;34m\u001b[0m\n\u001b[0;32m      1\u001b[0m \u001b[1;31m# Read food_cpi_filtered file\u001b[0m\u001b[1;33m\u001b[0m\u001b[1;33m\u001b[0m\u001b[1;33m\u001b[0m\u001b[0m\n\u001b[1;32m----> 2\u001b[1;33m \u001b[0mcpi_df\u001b[0m\u001b[1;33m=\u001b[0m \u001b[0mpd\u001b[0m\u001b[1;33m.\u001b[0m\u001b[0mread_csv\u001b[0m\u001b[1;33m(\u001b[0m\u001b[1;34m\"food_cpi_filtered_match.csv\"\u001b[0m\u001b[1;33m,\u001b[0m\u001b[0mindex_col\u001b[0m\u001b[1;33m=\u001b[0m\u001b[1;34m\"Date\"\u001b[0m\u001b[1;33m,\u001b[0m\u001b[0mparse_dates\u001b[0m\u001b[1;33m=\u001b[0m\u001b[1;32mTrue\u001b[0m\u001b[1;33m)\u001b[0m\u001b[1;33m\u001b[0m\u001b[1;33m\u001b[0m\u001b[0m\n\u001b[0m\u001b[0;32m      3\u001b[0m \u001b[0mcpi_df\u001b[0m\u001b[1;33m.\u001b[0m\u001b[0mhead\u001b[0m\u001b[1;33m(\u001b[0m\u001b[1;33m)\u001b[0m\u001b[1;33m\u001b[0m\u001b[1;33m\u001b[0m\u001b[0m\n",
      "\u001b[1;32m~\\anaconda3\\envs\\mlenv\\lib\\site-packages\\pandas\\util\\_decorators.py\u001b[0m in \u001b[0;36mwrapper\u001b[1;34m(*args, **kwargs)\u001b[0m\n\u001b[0;32m    309\u001b[0m                     \u001b[0mstacklevel\u001b[0m\u001b[1;33m=\u001b[0m\u001b[0mstacklevel\u001b[0m\u001b[1;33m,\u001b[0m\u001b[1;33m\u001b[0m\u001b[1;33m\u001b[0m\u001b[0m\n\u001b[0;32m    310\u001b[0m                 )\n\u001b[1;32m--> 311\u001b[1;33m             \u001b[1;32mreturn\u001b[0m \u001b[0mfunc\u001b[0m\u001b[1;33m(\u001b[0m\u001b[1;33m*\u001b[0m\u001b[0margs\u001b[0m\u001b[1;33m,\u001b[0m \u001b[1;33m**\u001b[0m\u001b[0mkwargs\u001b[0m\u001b[1;33m)\u001b[0m\u001b[1;33m\u001b[0m\u001b[1;33m\u001b[0m\u001b[0m\n\u001b[0m\u001b[0;32m    312\u001b[0m \u001b[1;33m\u001b[0m\u001b[0m\n\u001b[0;32m    313\u001b[0m         \u001b[1;32mreturn\u001b[0m \u001b[0mwrapper\u001b[0m\u001b[1;33m\u001b[0m\u001b[1;33m\u001b[0m\u001b[0m\n",
      "\u001b[1;32m~\\anaconda3\\envs\\mlenv\\lib\\site-packages\\pandas\\io\\parsers\\readers.py\u001b[0m in \u001b[0;36mread_csv\u001b[1;34m(filepath_or_buffer, sep, delimiter, header, names, index_col, usecols, squeeze, prefix, mangle_dupe_cols, dtype, engine, converters, true_values, false_values, skipinitialspace, skiprows, skipfooter, nrows, na_values, keep_default_na, na_filter, verbose, skip_blank_lines, parse_dates, infer_datetime_format, keep_date_col, date_parser, dayfirst, cache_dates, iterator, chunksize, compression, thousands, decimal, lineterminator, quotechar, quoting, doublequote, escapechar, comment, encoding, encoding_errors, dialect, error_bad_lines, warn_bad_lines, on_bad_lines, delim_whitespace, low_memory, memory_map, float_precision, storage_options)\u001b[0m\n\u001b[0;32m    584\u001b[0m     \u001b[0mkwds\u001b[0m\u001b[1;33m.\u001b[0m\u001b[0mupdate\u001b[0m\u001b[1;33m(\u001b[0m\u001b[0mkwds_defaults\u001b[0m\u001b[1;33m)\u001b[0m\u001b[1;33m\u001b[0m\u001b[1;33m\u001b[0m\u001b[0m\n\u001b[0;32m    585\u001b[0m \u001b[1;33m\u001b[0m\u001b[0m\n\u001b[1;32m--> 586\u001b[1;33m     \u001b[1;32mreturn\u001b[0m \u001b[0m_read\u001b[0m\u001b[1;33m(\u001b[0m\u001b[0mfilepath_or_buffer\u001b[0m\u001b[1;33m,\u001b[0m \u001b[0mkwds\u001b[0m\u001b[1;33m)\u001b[0m\u001b[1;33m\u001b[0m\u001b[1;33m\u001b[0m\u001b[0m\n\u001b[0m\u001b[0;32m    587\u001b[0m \u001b[1;33m\u001b[0m\u001b[0m\n\u001b[0;32m    588\u001b[0m \u001b[1;33m\u001b[0m\u001b[0m\n",
      "\u001b[1;32m~\\anaconda3\\envs\\mlenv\\lib\\site-packages\\pandas\\io\\parsers\\readers.py\u001b[0m in \u001b[0;36m_read\u001b[1;34m(filepath_or_buffer, kwds)\u001b[0m\n\u001b[0;32m    480\u001b[0m \u001b[1;33m\u001b[0m\u001b[0m\n\u001b[0;32m    481\u001b[0m     \u001b[1;31m# Create the parser.\u001b[0m\u001b[1;33m\u001b[0m\u001b[1;33m\u001b[0m\u001b[1;33m\u001b[0m\u001b[0m\n\u001b[1;32m--> 482\u001b[1;33m     \u001b[0mparser\u001b[0m \u001b[1;33m=\u001b[0m \u001b[0mTextFileReader\u001b[0m\u001b[1;33m(\u001b[0m\u001b[0mfilepath_or_buffer\u001b[0m\u001b[1;33m,\u001b[0m \u001b[1;33m**\u001b[0m\u001b[0mkwds\u001b[0m\u001b[1;33m)\u001b[0m\u001b[1;33m\u001b[0m\u001b[1;33m\u001b[0m\u001b[0m\n\u001b[0m\u001b[0;32m    483\u001b[0m \u001b[1;33m\u001b[0m\u001b[0m\n\u001b[0;32m    484\u001b[0m     \u001b[1;32mif\u001b[0m \u001b[0mchunksize\u001b[0m \u001b[1;32mor\u001b[0m \u001b[0miterator\u001b[0m\u001b[1;33m:\u001b[0m\u001b[1;33m\u001b[0m\u001b[1;33m\u001b[0m\u001b[0m\n",
      "\u001b[1;32m~\\anaconda3\\envs\\mlenv\\lib\\site-packages\\pandas\\io\\parsers\\readers.py\u001b[0m in \u001b[0;36m__init__\u001b[1;34m(self, f, engine, **kwds)\u001b[0m\n\u001b[0;32m    809\u001b[0m             \u001b[0mself\u001b[0m\u001b[1;33m.\u001b[0m\u001b[0moptions\u001b[0m\u001b[1;33m[\u001b[0m\u001b[1;34m\"has_index_names\"\u001b[0m\u001b[1;33m]\u001b[0m \u001b[1;33m=\u001b[0m \u001b[0mkwds\u001b[0m\u001b[1;33m[\u001b[0m\u001b[1;34m\"has_index_names\"\u001b[0m\u001b[1;33m]\u001b[0m\u001b[1;33m\u001b[0m\u001b[1;33m\u001b[0m\u001b[0m\n\u001b[0;32m    810\u001b[0m \u001b[1;33m\u001b[0m\u001b[0m\n\u001b[1;32m--> 811\u001b[1;33m         \u001b[0mself\u001b[0m\u001b[1;33m.\u001b[0m\u001b[0m_engine\u001b[0m \u001b[1;33m=\u001b[0m \u001b[0mself\u001b[0m\u001b[1;33m.\u001b[0m\u001b[0m_make_engine\u001b[0m\u001b[1;33m(\u001b[0m\u001b[0mself\u001b[0m\u001b[1;33m.\u001b[0m\u001b[0mengine\u001b[0m\u001b[1;33m)\u001b[0m\u001b[1;33m\u001b[0m\u001b[1;33m\u001b[0m\u001b[0m\n\u001b[0m\u001b[0;32m    812\u001b[0m \u001b[1;33m\u001b[0m\u001b[0m\n\u001b[0;32m    813\u001b[0m     \u001b[1;32mdef\u001b[0m \u001b[0mclose\u001b[0m\u001b[1;33m(\u001b[0m\u001b[0mself\u001b[0m\u001b[1;33m)\u001b[0m\u001b[1;33m:\u001b[0m\u001b[1;33m\u001b[0m\u001b[1;33m\u001b[0m\u001b[0m\n",
      "\u001b[1;32m~\\anaconda3\\envs\\mlenv\\lib\\site-packages\\pandas\\io\\parsers\\readers.py\u001b[0m in \u001b[0;36m_make_engine\u001b[1;34m(self, engine)\u001b[0m\n\u001b[0;32m   1038\u001b[0m             )\n\u001b[0;32m   1039\u001b[0m         \u001b[1;31m# error: Too many arguments for \"ParserBase\"\u001b[0m\u001b[1;33m\u001b[0m\u001b[1;33m\u001b[0m\u001b[1;33m\u001b[0m\u001b[0m\n\u001b[1;32m-> 1040\u001b[1;33m         \u001b[1;32mreturn\u001b[0m \u001b[0mmapping\u001b[0m\u001b[1;33m[\u001b[0m\u001b[0mengine\u001b[0m\u001b[1;33m]\u001b[0m\u001b[1;33m(\u001b[0m\u001b[0mself\u001b[0m\u001b[1;33m.\u001b[0m\u001b[0mf\u001b[0m\u001b[1;33m,\u001b[0m \u001b[1;33m**\u001b[0m\u001b[0mself\u001b[0m\u001b[1;33m.\u001b[0m\u001b[0moptions\u001b[0m\u001b[1;33m)\u001b[0m  \u001b[1;31m# type: ignore[call-arg]\u001b[0m\u001b[1;33m\u001b[0m\u001b[1;33m\u001b[0m\u001b[0m\n\u001b[0m\u001b[0;32m   1041\u001b[0m \u001b[1;33m\u001b[0m\u001b[0m\n\u001b[0;32m   1042\u001b[0m     \u001b[1;32mdef\u001b[0m \u001b[0m_failover_to_python\u001b[0m\u001b[1;33m(\u001b[0m\u001b[0mself\u001b[0m\u001b[1;33m)\u001b[0m\u001b[1;33m:\u001b[0m\u001b[1;33m\u001b[0m\u001b[1;33m\u001b[0m\u001b[0m\n",
      "\u001b[1;32m~\\anaconda3\\envs\\mlenv\\lib\\site-packages\\pandas\\io\\parsers\\c_parser_wrapper.py\u001b[0m in \u001b[0;36m__init__\u001b[1;34m(self, src, **kwds)\u001b[0m\n\u001b[0;32m     49\u001b[0m \u001b[1;33m\u001b[0m\u001b[0m\n\u001b[0;32m     50\u001b[0m         \u001b[1;31m# open handles\u001b[0m\u001b[1;33m\u001b[0m\u001b[1;33m\u001b[0m\u001b[1;33m\u001b[0m\u001b[0m\n\u001b[1;32m---> 51\u001b[1;33m         \u001b[0mself\u001b[0m\u001b[1;33m.\u001b[0m\u001b[0m_open_handles\u001b[0m\u001b[1;33m(\u001b[0m\u001b[0msrc\u001b[0m\u001b[1;33m,\u001b[0m \u001b[0mkwds\u001b[0m\u001b[1;33m)\u001b[0m\u001b[1;33m\u001b[0m\u001b[1;33m\u001b[0m\u001b[0m\n\u001b[0m\u001b[0;32m     52\u001b[0m         \u001b[1;32massert\u001b[0m \u001b[0mself\u001b[0m\u001b[1;33m.\u001b[0m\u001b[0mhandles\u001b[0m \u001b[1;32mis\u001b[0m \u001b[1;32mnot\u001b[0m \u001b[1;32mNone\u001b[0m\u001b[1;33m\u001b[0m\u001b[1;33m\u001b[0m\u001b[0m\n\u001b[0;32m     53\u001b[0m \u001b[1;33m\u001b[0m\u001b[0m\n",
      "\u001b[1;32m~\\anaconda3\\envs\\mlenv\\lib\\site-packages\\pandas\\io\\parsers\\base_parser.py\u001b[0m in \u001b[0;36m_open_handles\u001b[1;34m(self, src, kwds)\u001b[0m\n\u001b[0;32m    227\u001b[0m             \u001b[0mmemory_map\u001b[0m\u001b[1;33m=\u001b[0m\u001b[0mkwds\u001b[0m\u001b[1;33m.\u001b[0m\u001b[0mget\u001b[0m\u001b[1;33m(\u001b[0m\u001b[1;34m\"memory_map\"\u001b[0m\u001b[1;33m,\u001b[0m \u001b[1;32mFalse\u001b[0m\u001b[1;33m)\u001b[0m\u001b[1;33m,\u001b[0m\u001b[1;33m\u001b[0m\u001b[1;33m\u001b[0m\u001b[0m\n\u001b[0;32m    228\u001b[0m             \u001b[0mstorage_options\u001b[0m\u001b[1;33m=\u001b[0m\u001b[0mkwds\u001b[0m\u001b[1;33m.\u001b[0m\u001b[0mget\u001b[0m\u001b[1;33m(\u001b[0m\u001b[1;34m\"storage_options\"\u001b[0m\u001b[1;33m,\u001b[0m \u001b[1;32mNone\u001b[0m\u001b[1;33m)\u001b[0m\u001b[1;33m,\u001b[0m\u001b[1;33m\u001b[0m\u001b[1;33m\u001b[0m\u001b[0m\n\u001b[1;32m--> 229\u001b[1;33m             \u001b[0merrors\u001b[0m\u001b[1;33m=\u001b[0m\u001b[0mkwds\u001b[0m\u001b[1;33m.\u001b[0m\u001b[0mget\u001b[0m\u001b[1;33m(\u001b[0m\u001b[1;34m\"encoding_errors\"\u001b[0m\u001b[1;33m,\u001b[0m \u001b[1;34m\"strict\"\u001b[0m\u001b[1;33m)\u001b[0m\u001b[1;33m,\u001b[0m\u001b[1;33m\u001b[0m\u001b[1;33m\u001b[0m\u001b[0m\n\u001b[0m\u001b[0;32m    230\u001b[0m         )\n\u001b[0;32m    231\u001b[0m \u001b[1;33m\u001b[0m\u001b[0m\n",
      "\u001b[1;32m~\\anaconda3\\envs\\mlenv\\lib\\site-packages\\pandas\\io\\common.py\u001b[0m in \u001b[0;36mget_handle\u001b[1;34m(path_or_buf, mode, encoding, compression, memory_map, is_text, errors, storage_options)\u001b[0m\n\u001b[0;32m    705\u001b[0m                 \u001b[0mencoding\u001b[0m\u001b[1;33m=\u001b[0m\u001b[0mioargs\u001b[0m\u001b[1;33m.\u001b[0m\u001b[0mencoding\u001b[0m\u001b[1;33m,\u001b[0m\u001b[1;33m\u001b[0m\u001b[1;33m\u001b[0m\u001b[0m\n\u001b[0;32m    706\u001b[0m                 \u001b[0merrors\u001b[0m\u001b[1;33m=\u001b[0m\u001b[0merrors\u001b[0m\u001b[1;33m,\u001b[0m\u001b[1;33m\u001b[0m\u001b[1;33m\u001b[0m\u001b[0m\n\u001b[1;32m--> 707\u001b[1;33m                 \u001b[0mnewline\u001b[0m\u001b[1;33m=\u001b[0m\u001b[1;34m\"\"\u001b[0m\u001b[1;33m,\u001b[0m\u001b[1;33m\u001b[0m\u001b[1;33m\u001b[0m\u001b[0m\n\u001b[0m\u001b[0;32m    708\u001b[0m             )\n\u001b[0;32m    709\u001b[0m         \u001b[1;32melse\u001b[0m\u001b[1;33m:\u001b[0m\u001b[1;33m\u001b[0m\u001b[1;33m\u001b[0m\u001b[0m\n",
      "\u001b[1;31mFileNotFoundError\u001b[0m: [Errno 2] No such file or directory: 'food_cpi_filtered_match.csv'"
     ]
    }
   ],
   "source": [
    "# Read food_cpi_filtered file\n",
    "cpi_df= pd.read_csv(\"food_cpi_filtered_match.csv\",index_col=\"Date\",parse_dates=True)\n",
    "cpi_df.head()"
   ]
  },
  {
   "cell_type": "code",
   "execution_count": null,
   "id": "46f4a875",
   "metadata": {},
   "outputs": [],
   "source": [
    "cpi_df.dtypes"
   ]
  },
  {
   "cell_type": "code",
   "execution_count": null,
   "id": "f9dbb4f6",
   "metadata": {},
   "outputs": [],
   "source": [
    "cpi_df[\"Date\"]=pd.to_datetime(cpi_df[\"Date\"])"
   ]
  },
  {
   "cell_type": "code",
   "execution_count": null,
   "id": "e379326f",
   "metadata": {},
   "outputs": [],
   "source": [
    "cpi_df.dtypes"
   ]
  },
  {
   "cell_type": "code",
   "execution_count": null,
   "id": "df9fefdc",
   "metadata": {},
   "outputs": [],
   "source": [
    "# Read gas_prices_filtered_match file\n",
    "gas_df=pd.read_csv(\"gas_prices_filtered_match.csv\")\n",
    "gas_df.head()"
   ]
  },
  {
   "cell_type": "code",
   "execution_count": null,
   "id": "64de110a",
   "metadata": {},
   "outputs": [],
   "source": [
    "gas_df[\"Date\"]=pd.to_datetime(gas_df[\"Date\"])"
   ]
  },
  {
   "cell_type": "code",
   "execution_count": null,
   "id": "f5fc576d",
   "metadata": {},
   "outputs": [],
   "source": [
    "gas_df[\"Date\"].dtypes"
   ]
  },
  {
   "cell_type": "code",
   "execution_count": null,
   "id": "d99e68e2",
   "metadata": {},
   "outputs": [],
   "source": [
    "# Merge the two dataframe\n",
    "cpi_gas_df=cpi_df.merge(gas_df,on=\"Date\",how=\"inner\")\n",
    "cpi_gas_df.tail()\n"
   ]
  },
  {
   "cell_type": "markdown",
   "id": "42bb6f1b",
   "metadata": {},
   "source": [
    "# Exploring the data\n",
    "Create three line graphs for CPI, gas price and CPI& gas price"
   ]
  },
  {
   "cell_type": "code",
   "execution_count": null,
   "id": "9982e567",
   "metadata": {},
   "outputs": [],
   "source": [
    "import numpy as np\n",
    "# See the trend of food_cpi \n",
    "x_axis=cpi_df[\"Date\"]\n",
    "y_axis=cpi_df[\"CPI\"]\n",
    "plt.subplots(figsize=(15,6))\n",
    "plt.plot(x_axis,y_axis)\n",
    "plt.xlabel(\"Date\")\n",
    "plt.ylabel(\"CPI(food)\")\n",
    "\n",
    "locator = mdates.YearLocator()\n",
    "plt.gca().xaxis.set_major_locator(locator)\n",
    "\n",
    "plt.gcf().autofmt_xdate()\n",
    "plt.xticks(rotation = 90)\n",
    "plt.show()"
   ]
  },
  {
   "cell_type": "code",
   "execution_count": null,
   "id": "bc9a1173",
   "metadata": {},
   "outputs": [],
   "source": [
    "# See the trend of gas_price\n",
    "x_axis=gas_df[\"Date\"]\n",
    "A1_axis=gas_df[\"all_grades_all_formulation\"]\n",
    "A2_axis=gas_df[\"all_grades_conventional\"]\n",
    "A3_axis=gas_df[\"all_grades_reformulated\"]\n",
    "R1_axis=gas_df[\"regular_all_formulation\"]\n",
    "R2_axis=gas_df[\"regular_conventional\"]\n",
    "R3_axis=gas_df[\"regular_reformulated\"]\n",
    "M1_axis=gas_df[\"midgrade_all_formulation\"]\n",
    "M2_axis=gas_df[\"midgrade_conventional\"]\n",
    "M3_axis=gas_df[\"midgrade_reformulated\"]\n",
    "P1_axis=gas_df[\"premium_all_formulation\"]\n",
    "P2_axis=gas_df[\"premium_conventional\"]\n",
    "P3_axis=gas_df[\"premium_reformulated\"]\n",
    "D_axis=gas_df[\"no_2_diesel\"]\n",
    "plt.subplots(figsize=(20,6))\n",
    "plt.plot(x_axis,A1_axis)\n",
    "plt.plot(x_axis,A2_axis)\n",
    "plt.plot(x_axis,A3_axis)\n",
    "plt.plot(x_axis,R1_axis)\n",
    "plt.plot(x_axis,R2_axis)\n",
    "plt.plot(x_axis,R3_axis)\n",
    "plt.plot(x_axis,M1_axis)\n",
    "plt.plot(x_axis,M2_axis)\n",
    "plt.plot(x_axis,M3_axis)\n",
    "plt.plot(x_axis,P1_axis)\n",
    "plt.plot(x_axis,P2_axis)\n",
    "plt.plot(x_axis,P3_axis)\n",
    "plt.plot(x_axis,D_axis)\n",
    "plt.xlabel(\"Date 1995-2021\")\n",
    "plt.ylabel(\"Gasline price\")\n",
    "\n",
    "locator = mdates.YearLocator()\n",
    "plt.gca().xaxis.set_major_locator(locator)\n",
    "\n",
    "plt.gcf().autofmt_xdate()\n",
    "plt.xticks(rotation = 90)\n",
    "plt.show()"
   ]
  },
  {
   "cell_type": "code",
   "execution_count": null,
   "id": "e97fe04a",
   "metadata": {},
   "outputs": [],
   "source": [
    "gas_types=gas_df[gas_df[\"Date\"]==\"1995-01-01\"].drop(\"Date\",1)\n",
    "gas_types"
   ]
  },
  {
   "cell_type": "code",
   "execution_count": null,
   "id": "76d8ebcb",
   "metadata": {},
   "outputs": [],
   "source": [
    "# Extract price from gas_type\n",
    "price=gas_types.values[0]"
   ]
  },
  {
   "cell_type": "code",
   "execution_count": null,
   "id": "a4944add",
   "metadata": {},
   "outputs": [],
   "source": [
    "# Get all names from the gas\n",
    "names=gas_types.columns\n",
    "names"
   ]
  },
  {
   "cell_type": "code",
   "execution_count": null,
   "id": "6d83c2d6",
   "metadata": {},
   "outputs": [],
   "source": [
    "# Create a bar chart to get an general idea of the gas price for each type.\n",
    "# premium_reformulated is most expensive\n",
    "plt.bar(names,price)\n",
    "plt.gcf().autofmt_xdate()\n",
    "plt.xticks(rotation = 90)\n",
    "plt.show()"
   ]
  },
  {
   "cell_type": "code",
   "execution_count": 1,
   "id": "f45ddccb",
   "metadata": {},
   "outputs": [
    {
     "ename": "NameError",
     "evalue": "name 'cpi_gas_df' is not defined",
     "output_type": "error",
     "traceback": [
      "\u001b[1;31m---------------------------------------------------------------------------\u001b[0m",
      "\u001b[1;31mNameError\u001b[0m                                 Traceback (most recent call last)",
      "\u001b[1;32m~\\AppData\\Local\\Temp\\ipykernel_2804\\3526667415.py\u001b[0m in \u001b[0;36m<module>\u001b[1;34m\u001b[0m\n\u001b[0;32m      1\u001b[0m \u001b[1;31m# CPI and gas price graph\u001b[0m\u001b[1;33m\u001b[0m\u001b[1;33m\u001b[0m\u001b[1;33m\u001b[0m\u001b[0m\n\u001b[1;32m----> 2\u001b[1;33m \u001b[0mx_axis\u001b[0m\u001b[1;33m=\u001b[0m\u001b[0mcpi_gas_df\u001b[0m\u001b[1;33m[\u001b[0m\u001b[1;34m\"Date\"\u001b[0m\u001b[1;33m]\u001b[0m\u001b[1;33m\u001b[0m\u001b[1;33m\u001b[0m\u001b[0m\n\u001b[0m\u001b[0;32m      3\u001b[0m \u001b[0max\u001b[0m \u001b[1;33m=\u001b[0m \u001b[0mcpi_gas_df\u001b[0m\u001b[1;33m.\u001b[0m\u001b[0mloc\u001b[0m\u001b[1;33m[\u001b[0m\u001b[1;33m:\u001b[0m\u001b[1;33m,\u001b[0m\u001b[1;34m\"all_grades_all_formulation\"\u001b[0m\u001b[1;33m:\u001b[0m\u001b[1;34m\"no_2_diesel\"\u001b[0m\u001b[1;33m]\u001b[0m\u001b[1;33m.\u001b[0m\u001b[0mplot\u001b[0m\u001b[1;33m(\u001b[0m\u001b[0mlegend\u001b[0m\u001b[1;33m=\u001b[0m\u001b[1;32mTrue\u001b[0m\u001b[1;33m,\u001b[0m \u001b[0mfigsize\u001b[0m\u001b[1;33m=\u001b[0m\u001b[1;33m(\u001b[0m\u001b[1;36m15\u001b[0m\u001b[1;33m,\u001b[0m\u001b[1;36m6\u001b[0m\u001b[1;33m)\u001b[0m\u001b[1;33m)\u001b[0m\u001b[1;33m\u001b[0m\u001b[1;33m\u001b[0m\u001b[0m\n\u001b[0;32m      4\u001b[0m \u001b[1;33m\u001b[0m\u001b[0m\n\u001b[0;32m      5\u001b[0m \u001b[0max\u001b[0m \u001b[1;33m=\u001b[0m \u001b[0mcpi_gas_df\u001b[0m\u001b[1;33m[\u001b[0m\u001b[1;33m[\u001b[0m\u001b[1;34m\"CPI\"\u001b[0m\u001b[1;33m]\u001b[0m\u001b[1;33m]\u001b[0m\u001b[1;33m.\u001b[0m\u001b[0mplot\u001b[0m\u001b[1;33m(\u001b[0m\u001b[0msecondary_y\u001b[0m\u001b[1;33m=\u001b[0m\u001b[1;32mTrue\u001b[0m\u001b[1;33m,\u001b[0m \u001b[0max\u001b[0m\u001b[1;33m=\u001b[0m\u001b[0max\u001b[0m\u001b[1;33m,\u001b[0m \u001b[0mlegend\u001b[0m\u001b[1;33m=\u001b[0m\u001b[1;32mTrue\u001b[0m\u001b[1;33m)\u001b[0m\u001b[1;33m\u001b[0m\u001b[1;33m\u001b[0m\u001b[0m\n",
      "\u001b[1;31mNameError\u001b[0m: name 'cpi_gas_df' is not defined"
     ]
    }
   ],
   "source": [
    "# CPI and gas price graph\n",
    "x_axis=cpi_gas_df[\"Date\"]\n",
    "ax = cpi_gas_df.loc[:,\"all_grades_all_formulation\":\"no_2_diesel\"].plot(legend=True, figsize=(15,6))\n",
    "\n",
    "ax = cpi_gas_df[[\"CPI\"]].plot(secondary_y=True, ax=ax, legend=True)\n",
    "ax.set_title('CPI and Gas price ')\n",
    "_ = ax.set_ylabel('CPI')\n",
    "ax.set_ylabel('Gas price/Gallon')\n",
    "\n",
    "plt.show()"
   ]
  },
  {
   "cell_type": "markdown",
   "id": "a80a6069",
   "metadata": {},
   "source": [
    "CPI is in hundreds so we divid it with 100  - manually scale it to the level of gas price. Then we put them in the graph to see the trend of these two data."
   ]
  },
  {
   "cell_type": "code",
   "execution_count": 20,
   "id": "bd204939",
   "metadata": {},
   "outputs": [
    {
     "data": {
      "text/html": [
       "<div>\n",
       "<style scoped>\n",
       "    .dataframe tbody tr th:only-of-type {\n",
       "        vertical-align: middle;\n",
       "    }\n",
       "\n",
       "    .dataframe tbody tr th {\n",
       "        vertical-align: top;\n",
       "    }\n",
       "\n",
       "    .dataframe thead th {\n",
       "        text-align: right;\n",
       "    }\n",
       "</style>\n",
       "<table border=\"1\" class=\"dataframe\">\n",
       "  <thead>\n",
       "    <tr style=\"text-align: right;\">\n",
       "      <th></th>\n",
       "      <th>CPI_scaled</th>\n",
       "    </tr>\n",
       "  </thead>\n",
       "  <tbody>\n",
       "    <tr>\n",
       "      <th>0</th>\n",
       "      <td>1.470</td>\n",
       "    </tr>\n",
       "    <tr>\n",
       "      <th>1</th>\n",
       "      <td>1.477</td>\n",
       "    </tr>\n",
       "    <tr>\n",
       "      <th>2</th>\n",
       "      <td>1.471</td>\n",
       "    </tr>\n",
       "    <tr>\n",
       "      <th>3</th>\n",
       "      <td>1.487</td>\n",
       "    </tr>\n",
       "    <tr>\n",
       "      <th>4</th>\n",
       "      <td>1.487</td>\n",
       "    </tr>\n",
       "  </tbody>\n",
       "</table>\n",
       "</div>"
      ],
      "text/plain": [
       "   CPI_scaled\n",
       "0       1.470\n",
       "1       1.477\n",
       "2       1.471\n",
       "3       1.487\n",
       "4       1.487"
      ]
     },
     "execution_count": 20,
     "metadata": {},
     "output_type": "execute_result"
    }
   ],
   "source": [
    "# Change CPI_scaled  \n",
    "# Divide CPI with 100\n",
    "cpi_gas_df[\"CPI_scaled\"]=cpi_gas_df[\"CPI\"]/100\n",
    "cpi_gas_df[[\"CPI_scaled\"]].head()"
   ]
  },
  {
   "cell_type": "code",
   "execution_count": 21,
   "id": "f221a86a",
   "metadata": {},
   "outputs": [
    {
     "data": {
      "image/png": "[encoded data removed]",
      "text/plain": [
       "<Figure size 1440x432 with 1 Axes>"
      ]
     },
     "metadata": {
      "needs_background": "light"
     },
     "output_type": "display_data"
    }
   ],
   "source": [
    "# Grab one oil type \"all_grades_all_formulation\" compare with CPI - when we divide CPI with 100\n",
    "x_axis=cpi_gas_df[\"Date\"]\n",
    "y1_axis=cpi_gas_df[\"all_grades_all_formulation\"]\n",
    "y2_axis=cpi_gas_df[\"CPI_scaled\"]\n",
    "plt.subplots(figsize=(20,6))\n",
    "plt.plot(x_axis,y1_axis)\n",
    "plt.plot(x_axis,y2_axis)\n",
    "plt.xlabel(\"Date 1995-2021\")\n",
    "plt.ylabel(\"CPI and Gas price trend comparison\")\n",
    "locator = mdates.YearLocator()\n",
    "plt.gca().xaxis.set_major_locator(locator)\n",
    "\n",
    "plt.gcf().autofmt_xdate()\n",
    "plt.xticks(rotation = 90)\n",
    "plt.show()"
   ]
  },
  {
   "cell_type": "markdown",
   "id": "e79af0fa",
   "metadata": {},
   "source": [
    "# Machine Learning\n",
    "Use 13 types of gasline to predict the CPI (food). We will have three models: Random Forest Regressor, LinearRegression and Brown exponential smoothing. The time frame for the datasets are from 1995-01 to 2021-01. These are monthly reports. We will take out last 22 months (after COVID) as testing data for prediction. The purpose is to analyze the data after and before COVID"
   ]
  },
  {
   "cell_type": "code",
   "execution_count": 22,
   "id": "2a7e3e0f",
   "metadata": {},
   "outputs": [
    {
     "data": {
      "text/html": [
       "<div>\n",
       "<style scoped>\n",
       "    .dataframe tbody tr th:only-of-type {\n",
       "        vertical-align: middle;\n",
       "    }\n",
       "\n",
       "    .dataframe tbody tr th {\n",
       "        vertical-align: top;\n",
       "    }\n",
       "\n",
       "    .dataframe thead th {\n",
       "        text-align: right;\n",
       "    }\n",
       "</style>\n",
       "<table border=\"1\" class=\"dataframe\">\n",
       "  <thead>\n",
       "    <tr style=\"text-align: right;\">\n",
       "      <th></th>\n",
       "      <th>Date</th>\n",
       "      <th>CPI</th>\n",
       "      <th>all_grades_all_formulation</th>\n",
       "      <th>all_grades_conventional</th>\n",
       "      <th>all_grades_reformulated</th>\n",
       "      <th>regular_all_formulation</th>\n",
       "      <th>regular_conventional</th>\n",
       "      <th>regular_reformulated</th>\n",
       "      <th>midgrade_all_formulation</th>\n",
       "      <th>midgrade_conventional</th>\n",
       "      <th>midgrade_reformulated</th>\n",
       "      <th>premium_all_formulation</th>\n",
       "      <th>premium_conventional</th>\n",
       "      <th>premium_reformulated</th>\n",
       "      <th>no_2_diesel</th>\n",
       "      <th>CPI_scaled</th>\n",
       "    </tr>\n",
       "  </thead>\n",
       "  <tbody>\n",
       "    <tr>\n",
       "      <th>0</th>\n",
       "      <td>1995-01-01</td>\n",
       "      <td>147.0</td>\n",
       "      <td>1.127</td>\n",
       "      <td>1.104</td>\n",
       "      <td>1.231</td>\n",
       "      <td>1.079</td>\n",
       "      <td>1.063</td>\n",
       "      <td>1.167</td>\n",
       "      <td>1.17</td>\n",
       "      <td>1.159</td>\n",
       "      <td>1.298</td>\n",
       "      <td>1.272</td>\n",
       "      <td>1.25</td>\n",
       "      <td>1.386</td>\n",
       "      <td>1.104</td>\n",
       "      <td>1.47</td>\n",
       "    </tr>\n",
       "  </tbody>\n",
       "</table>\n",
       "</div>"
      ],
      "text/plain": [
       "        Date    CPI  all_grades_all_formulation  all_grades_conventional  \\\n",
       "0 1995-01-01  147.0                       1.127                    1.104   \n",
       "\n",
       "   all_grades_reformulated  regular_all_formulation  regular_conventional  \\\n",
       "0                    1.231                    1.079                 1.063   \n",
       "\n",
       "   regular_reformulated  midgrade_all_formulation  midgrade_conventional  \\\n",
       "0                 1.167                      1.17                  1.159   \n",
       "\n",
       "   midgrade_reformulated  premium_all_formulation  premium_conventional  \\\n",
       "0                  1.298                    1.272                  1.25   \n",
       "\n",
       "   premium_reformulated  no_2_diesel  CPI_scaled  \n",
       "0                 1.386        1.104        1.47  "
      ]
     },
     "execution_count": 22,
     "metadata": {},
     "output_type": "execute_result"
    }
   ],
   "source": [
    "# Get first date from the dataframe\n",
    "cpi_gas_df.head(1)"
   ]
  },
  {
   "cell_type": "code",
   "execution_count": 23,
   "id": "163303a3",
   "metadata": {},
   "outputs": [
    {
     "data": {
      "text/html": [
       "<div>\n",
       "<style scoped>\n",
       "    .dataframe tbody tr th:only-of-type {\n",
       "        vertical-align: middle;\n",
       "    }\n",
       "\n",
       "    .dataframe tbody tr th {\n",
       "        vertical-align: top;\n",
       "    }\n",
       "\n",
       "    .dataframe thead th {\n",
       "        text-align: right;\n",
       "    }\n",
       "</style>\n",
       "<table border=\"1\" class=\"dataframe\">\n",
       "  <thead>\n",
       "    <tr style=\"text-align: right;\">\n",
       "      <th></th>\n",
       "      <th>Date</th>\n",
       "      <th>CPI</th>\n",
       "      <th>all_grades_all_formulation</th>\n",
       "      <th>all_grades_conventional</th>\n",
       "      <th>all_grades_reformulated</th>\n",
       "      <th>regular_all_formulation</th>\n",
       "      <th>regular_conventional</th>\n",
       "      <th>regular_reformulated</th>\n",
       "      <th>midgrade_all_formulation</th>\n",
       "      <th>midgrade_conventional</th>\n",
       "      <th>midgrade_reformulated</th>\n",
       "      <th>premium_all_formulation</th>\n",
       "      <th>premium_conventional</th>\n",
       "      <th>premium_reformulated</th>\n",
       "      <th>no_2_diesel</th>\n",
       "      <th>CPI_scaled</th>\n",
       "    </tr>\n",
       "  </thead>\n",
       "  <tbody>\n",
       "    <tr>\n",
       "      <th>312</th>\n",
       "      <td>2021-01-01</td>\n",
       "      <td>252.27</td>\n",
       "      <td>2.336</td>\n",
       "      <td>2.227</td>\n",
       "      <td>2.549</td>\n",
       "      <td>2.249</td>\n",
       "      <td>2.16</td>\n",
       "      <td>2.437</td>\n",
       "      <td>2.639</td>\n",
       "      <td>2.484</td>\n",
       "      <td>2.867</td>\n",
       "      <td>2.895</td>\n",
       "      <td>2.771</td>\n",
       "      <td>3.042</td>\n",
       "      <td>2.64</td>\n",
       "      <td>2.5227</td>\n",
       "    </tr>\n",
       "  </tbody>\n",
       "</table>\n",
       "</div>"
      ],
      "text/plain": [
       "          Date     CPI  all_grades_all_formulation  all_grades_conventional  \\\n",
       "312 2021-01-01  252.27                       2.336                    2.227   \n",
       "\n",
       "     all_grades_reformulated  regular_all_formulation  regular_conventional  \\\n",
       "312                    2.549                    2.249                  2.16   \n",
       "\n",
       "     regular_reformulated  midgrade_all_formulation  midgrade_conventional  \\\n",
       "312                 2.437                     2.639                  2.484   \n",
       "\n",
       "     midgrade_reformulated  premium_all_formulation  premium_conventional  \\\n",
       "312                  2.867                    2.895                 2.771   \n",
       "\n",
       "     premium_reformulated  no_2_diesel  CPI_scaled  \n",
       "312                 3.042         2.64      2.5227  "
      ]
     },
     "execution_count": 23,
     "metadata": {},
     "output_type": "execute_result"
    }
   ],
   "source": [
    "# # Get last date from the dataframe\n",
    "cpi_gas_df.tail(1)"
   ]
  },
  {
   "cell_type": "markdown",
   "id": "606c2139",
   "metadata": {},
   "source": [
    "Later will use the date to determine our training and test sets"
   ]
  },
  {
   "cell_type": "markdown",
   "id": "ef332a83",
   "metadata": {},
   "source": [
    "## First model - Random Forest Regressor"
   ]
  },
  {
   "cell_type": "code",
   "execution_count": 67,
   "id": "b62d44ae",
   "metadata": {},
   "outputs": [],
   "source": [
    "# Import our dependencies\n",
    "from sklearn.model_selection import train_test_split\n",
    "import pandas as pd"
   ]
  },
  {
   "cell_type": "code",
   "execution_count": 68,
   "id": "df3df4a2",
   "metadata": {},
   "outputs": [
    {
     "name": "stderr",
     "output_type": "stream",
     "text": [
      "C:\\Users\\julie\\anaconda3\\envs\\mlenv\\lib\\site-packages\\ipykernel_launcher.py:2: FutureWarning: In a future version of pandas all arguments of DataFrame.drop except for the argument 'labels' will be keyword-only\n",
      "  \n"
     ]
    }
   ],
   "source": [
    "# Define our features (X) and outcome(y)\n",
    "X=cpi_gas_df.drop([\"CPI\",\"CPI_scaled\",\"Date\"],1)\n",
    "y=cpi_gas_df[\"CPI\"]"
   ]
  },
  {
   "cell_type": "code",
   "execution_count": 69,
   "id": "bf9c71b6",
   "metadata": {},
   "outputs": [
    {
     "data": {
      "text/html": [
       "<div>\n",
       "<style scoped>\n",
       "    .dataframe tbody tr th:only-of-type {\n",
       "        vertical-align: middle;\n",
       "    }\n",
       "\n",
       "    .dataframe tbody tr th {\n",
       "        vertical-align: top;\n",
       "    }\n",
       "\n",
       "    .dataframe thead th {\n",
       "        text-align: right;\n",
       "    }\n",
       "</style>\n",
       "<table border=\"1\" class=\"dataframe\">\n",
       "  <thead>\n",
       "    <tr style=\"text-align: right;\">\n",
       "      <th></th>\n",
       "      <th>all_grades_all_formulation</th>\n",
       "      <th>all_grades_conventional</th>\n",
       "      <th>all_grades_reformulated</th>\n",
       "      <th>regular_all_formulation</th>\n",
       "      <th>regular_conventional</th>\n",
       "      <th>regular_reformulated</th>\n",
       "      <th>midgrade_all_formulation</th>\n",
       "      <th>midgrade_conventional</th>\n",
       "      <th>midgrade_reformulated</th>\n",
       "      <th>premium_all_formulation</th>\n",
       "      <th>premium_conventional</th>\n",
       "      <th>premium_reformulated</th>\n",
       "      <th>no_2_diesel</th>\n",
       "    </tr>\n",
       "  </thead>\n",
       "  <tbody>\n",
       "    <tr>\n",
       "      <th>0</th>\n",
       "      <td>1.127</td>\n",
       "      <td>1.104</td>\n",
       "      <td>1.231</td>\n",
       "      <td>1.079</td>\n",
       "      <td>1.063</td>\n",
       "      <td>1.167</td>\n",
       "      <td>1.170</td>\n",
       "      <td>1.159</td>\n",
       "      <td>1.298</td>\n",
       "      <td>1.272</td>\n",
       "      <td>1.250</td>\n",
       "      <td>1.386</td>\n",
       "      <td>1.104</td>\n",
       "    </tr>\n",
       "    <tr>\n",
       "      <th>1</th>\n",
       "      <td>1.124</td>\n",
       "      <td>1.103</td>\n",
       "      <td>1.218</td>\n",
       "      <td>1.076</td>\n",
       "      <td>1.062</td>\n",
       "      <td>1.159</td>\n",
       "      <td>1.169</td>\n",
       "      <td>1.157</td>\n",
       "      <td>1.288</td>\n",
       "      <td>1.270</td>\n",
       "      <td>1.250</td>\n",
       "      <td>1.368</td>\n",
       "      <td>1.086</td>\n",
       "    </tr>\n",
       "    <tr>\n",
       "      <th>2</th>\n",
       "      <td>1.123</td>\n",
       "      <td>1.103</td>\n",
       "      <td>1.209</td>\n",
       "      <td>1.076</td>\n",
       "      <td>1.063</td>\n",
       "      <td>1.149</td>\n",
       "      <td>1.167</td>\n",
       "      <td>1.157</td>\n",
       "      <td>1.275</td>\n",
       "      <td>1.263</td>\n",
       "      <td>1.244</td>\n",
       "      <td>1.358</td>\n",
       "      <td>1.089</td>\n",
       "    </tr>\n",
       "    <tr>\n",
       "      <th>3</th>\n",
       "      <td>1.133</td>\n",
       "      <td>1.116</td>\n",
       "      <td>1.198</td>\n",
       "      <td>1.087</td>\n",
       "      <td>1.077</td>\n",
       "      <td>1.140</td>\n",
       "      <td>1.174</td>\n",
       "      <td>1.167</td>\n",
       "      <td>1.266</td>\n",
       "      <td>1.270</td>\n",
       "      <td>1.255</td>\n",
       "      <td>1.350</td>\n",
       "      <td>1.094</td>\n",
       "    </tr>\n",
       "    <tr>\n",
       "      <th>4</th>\n",
       "      <td>1.194</td>\n",
       "      <td>1.181</td>\n",
       "      <td>1.242</td>\n",
       "      <td>1.148</td>\n",
       "      <td>1.141</td>\n",
       "      <td>1.188</td>\n",
       "      <td>1.236</td>\n",
       "      <td>1.234</td>\n",
       "      <td>1.305</td>\n",
       "      <td>1.332</td>\n",
       "      <td>1.323</td>\n",
       "      <td>1.389</td>\n",
       "      <td>1.119</td>\n",
       "    </tr>\n",
       "  </tbody>\n",
       "</table>\n",
       "</div>"
      ],
      "text/plain": [
       "   all_grades_all_formulation  all_grades_conventional  \\\n",
       "0                       1.127                    1.104   \n",
       "1                       1.124                    1.103   \n",
       "2                       1.123                    1.103   \n",
       "3                       1.133                    1.116   \n",
       "4                       1.194                    1.181   \n",
       "\n",
       "   all_grades_reformulated  regular_all_formulation  regular_conventional  \\\n",
       "0                    1.231                    1.079                 1.063   \n",
       "1                    1.218                    1.076                 1.062   \n",
       "2                    1.209                    1.076                 1.063   \n",
       "3                    1.198                    1.087                 1.077   \n",
       "4                    1.242                    1.148                 1.141   \n",
       "\n",
       "   regular_reformulated  midgrade_all_formulation  midgrade_conventional  \\\n",
       "0                 1.167                     1.170                  1.159   \n",
       "1                 1.159                     1.169                  1.157   \n",
       "2                 1.149                     1.167                  1.157   \n",
       "3                 1.140                     1.174                  1.167   \n",
       "4                 1.188                     1.236                  1.234   \n",
       "\n",
       "   midgrade_reformulated  premium_all_formulation  premium_conventional  \\\n",
       "0                  1.298                    1.272                 1.250   \n",
       "1                  1.288                    1.270                 1.250   \n",
       "2                  1.275                    1.263                 1.244   \n",
       "3                  1.266                    1.270                 1.255   \n",
       "4                  1.305                    1.332                 1.323   \n",
       "\n",
       "   premium_reformulated  no_2_diesel  \n",
       "0                 1.386        1.104  \n",
       "1                 1.368        1.086  \n",
       "2                 1.358        1.089  \n",
       "3                 1.350        1.094  \n",
       "4                 1.389        1.119  "
      ]
     },
     "execution_count": 69,
     "metadata": {},
     "output_type": "execute_result"
    }
   ],
   "source": [
    "X.iloc[:-22].head(5)"
   ]
  },
  {
   "cell_type": "code",
   "execution_count": 70,
   "id": "303cf7be",
   "metadata": {},
   "outputs": [],
   "source": [
    "# Split the training and test set\n",
    "X_train = X.iloc[:-22].values\n",
    "y_train=y.iloc[:-22].values\n",
    "X_test = X.iloc[-22:].values\n",
    "y_test=y.iloc[-22:].values\n"
   ]
  },
  {
   "cell_type": "code",
   "execution_count": 71,
   "id": "af1878f9",
   "metadata": {},
   "outputs": [
    {
     "data": {
      "text/plain": [
       "array([241.484, 241.969, 241.371, 241.134, 241.014, 241.435, 241.892,\n",
       "       242.474, 242.527, 243.179, 244.115, 245.207, 251.29 , 253.635,\n",
       "       254.85 , 252.215, 252.148, 251.303, 251.478, 251.241, 252.009,\n",
       "       252.27 ])"
      ]
     },
     "execution_count": 71,
     "metadata": {},
     "output_type": "execute_result"
    }
   ],
   "source": [
    "y_test"
   ]
  },
  {
   "cell_type": "code",
   "execution_count": 72,
   "id": "8038c984",
   "metadata": {},
   "outputs": [
    {
     "data": {
      "text/plain": [
       "StandardScaler()"
      ]
     },
     "execution_count": 72,
     "metadata": {},
     "output_type": "execute_result"
    }
   ],
   "source": [
    "# Create StandardScaler instance and Fit the scaler\n",
    "scaler=StandardScaler()\n",
    "scaler.fit(X_train)"
   ]
  },
  {
   "cell_type": "code",
   "execution_count": 73,
   "id": "5530d128",
   "metadata": {},
   "outputs": [],
   "source": [
    "# Scale the data\n",
    "X_train_scaled=scaler.transform(X_train)\n",
    "X_test_scaled=scaler.transform(X_test)"
   ]
  },
  {
   "cell_type": "code",
   "execution_count": 74,
   "id": "249c1635",
   "metadata": {},
   "outputs": [
    {
     "name": "stdout",
     "output_type": "stream",
     "text": [
      "RandomForestRegressor()\n"
     ]
    },
    {
     "data": {
      "text/plain": [
       "RandomForestRegressor(criterion='mse')"
      ]
     },
     "execution_count": 74,
     "metadata": {},
     "output_type": "execute_result"
    }
   ],
   "source": [
    "from sklearn.ensemble import RandomForestRegressor\n",
    "rfr = RandomForestRegressor()\n",
    "print(rfr)\n",
    "RandomForestRegressor(bootstrap=True, ccp_alpha=0.0, criterion='mse',\n",
    "                      max_depth=None, max_features='auto', max_leaf_nodes=None,\n",
    "                      max_samples=None, min_impurity_decrease=0.0,\n",
    "                       min_samples_leaf=1,\n",
    "                      min_samples_split=2, min_weight_fraction_leaf=0.0,\n",
    "                      n_estimators=100, n_jobs=None, oob_score=False,\n",
    "                      random_state=None, verbose=0, warm_start=False) \n"
   ]
  },
  {
   "cell_type": "code",
   "execution_count": 75,
   "id": "8932aad4",
   "metadata": {},
   "outputs": [
    {
     "name": "stdout",
     "output_type": "stream",
     "text": [
      "R-squared: 0.9895325129149485\n"
     ]
    }
   ],
   "source": [
    "rfr.fit(X_train_scaled, y_train)\n",
    "score = rfr.score(X_train_scaled, y_train)\n",
    "print(\"R-squared:\", score) "
   ]
  },
  {
   "cell_type": "code",
   "execution_count": 76,
   "id": "74c04137",
   "metadata": {},
   "outputs": [
    {
     "data": {
      "text/plain": [
       "array([236.91713, 237.93386, 238.81841, 239.55083, 238.64057, 239.65486,\n",
       "       239.2186 , 239.68269, 239.55035, 239.47589, 240.64868, 240.36256,\n",
       "       238.47028, 236.91485, 238.6482 , 239.25635, 239.20185, 239.31864,\n",
       "       239.29859, 239.46339, 239.83084, 239.91558])"
      ]
     },
     "execution_count": 76,
     "metadata": {},
     "output_type": "execute_result"
    }
   ],
   "source": [
    "# Predict last 22 months CPI\n",
    "y_pred=rfr.predict(X_test_scaled)\n",
    "y_pred"
   ]
  },
  {
   "cell_type": "code",
   "execution_count": 66,
   "id": "3c63e2fe",
   "metadata": {},
   "outputs": [
    {
     "name": "stdout",
     "output_type": "stream",
     "text": [
      "MSE:  81.57033803563132\n",
      "RMSE:  40.78516901781566\n"
     ]
    }
   ],
   "source": [
    "from sklearn.metrics import mean_squared_error\n",
    "mse = mean_squared_error(y_test, y_pred)\n",
    "print(\"MSE: \", mse)\n",
    "print(\"RMSE: \", mse*(1/2.0)) "
   ]
  },
  {
   "cell_type": "markdown",
   "id": "35d48d98",
   "metadata": {},
   "source": [
    "## Second model: Linear Regression model"
   ]
  },
  {
   "cell_type": "code",
   "execution_count": 77,
   "id": "cb752799",
   "metadata": {},
   "outputs": [],
   "source": [
    "import numpy as np\n",
    "import pandas as pd\n",
    "from sklearn.datasets import load_diabetes\n",
    "from sklearn.metrics import mean_squared_error\n",
    "from sklearn.linear_model import LinearRegression"
   ]
  },
  {
   "cell_type": "code",
   "execution_count": 78,
   "id": "2118e8f0",
   "metadata": {},
   "outputs": [
    {
     "name": "stderr",
     "output_type": "stream",
     "text": [
      "C:\\Users\\julie\\anaconda3\\envs\\mlenv\\lib\\site-packages\\ipykernel_launcher.py:2: FutureWarning: In a future version of pandas all arguments of DataFrame.drop except for the argument 'labels' will be keyword-only\n",
      "  \n"
     ]
    }
   ],
   "source": [
    "# Define our features (X) and outcome(y)\n",
    "X=cpi_gas_df.drop([\"CPI\",\"CPI_scaled\",\"Date\"],1)\n",
    "y=cpi_gas_df[\"CPI\"]"
   ]
  },
  {
   "cell_type": "code",
   "execution_count": 79,
   "id": "c68fd8f7",
   "metadata": {},
   "outputs": [],
   "source": [
    "# Split the training and test set\n",
    "X_train = X.iloc[:-22].values\n",
    "y_train=y.iloc[:-22].values\n",
    "X_test = X.iloc[-22:].values\n",
    "y_test=y.iloc[-22:].values"
   ]
  },
  {
   "cell_type": "code",
   "execution_count": null,
   "id": "61a437d0",
   "metadata": {},
   "outputs": [],
   "source": [
    "# Create StandardScaler instance and Fit the scaler\n",
    "scaler=StandardScaler()\n",
    "scaler.fit(X_train)"
   ]
  },
  {
   "cell_type": "code",
   "execution_count": 80,
   "id": "0a827279",
   "metadata": {},
   "outputs": [],
   "source": [
    "# Scale the data\n",
    "X_train_scaled=scaler.transform(X_train)\n",
    "X_test_scaled=scaler.transform(X_test)"
   ]
  },
  {
   "cell_type": "code",
   "execution_count": 81,
   "id": "00e25220",
   "metadata": {},
   "outputs": [
    {
     "data": {
      "text/plain": [
       "LinearRegression()"
      ]
     },
     "execution_count": 81,
     "metadata": {},
     "output_type": "execute_result"
    }
   ],
   "source": [
    "linreg = LinearRegression()\n",
    "linreg.fit(X_train_scaled, y_train)"
   ]
  },
  {
   "cell_type": "code",
   "execution_count": 82,
   "id": "fb8a85eb",
   "metadata": {},
   "outputs": [
    {
     "name": "stdout",
     "output_type": "stream",
     "text": [
      "R-squared: 0.9746453058668233\n"
     ]
    }
   ],
   "source": [
    "linreg.fit(X_train_scaled, y_train)\n",
    "score = linreg.score(X_train_scaled, y_train)\n",
    "print(\"R-squared:\", score) "
   ]
  },
  {
   "cell_type": "code",
   "execution_count": 83,
   "id": "9bac2914",
   "metadata": {},
   "outputs": [
    {
     "name": "stdout",
     "output_type": "stream",
     "text": [
      "MSE:  86.43224741647171\n",
      "RMSE:  43.216123708235855\n"
     ]
    }
   ],
   "source": [
    "mse = mean_squared_error(y_test, y_pred)\n",
    "print(\"MSE: \", mse)\n",
    "print(\"RMSE: \", mse*(1/2.0)) "
   ]
  },
  {
   "cell_type": "markdown",
   "id": "ffacc85a",
   "metadata": {},
   "source": [
    "## Third model: Brown Simple Exponential Smoothing Method"
   ]
  },
  {
   "cell_type": "code",
   "execution_count": 116,
   "id": "e8206636",
   "metadata": {},
   "outputs": [],
   "source": [
    "import statsmodels.tsa.holtwinters as ets"
   ]
  },
  {
   "cell_type": "code",
   "execution_count": 117,
   "id": "7c4de92d",
   "metadata": {},
   "outputs": [
    {
     "data": {
      "text/html": [
       "<div>\n",
       "<style scoped>\n",
       "    .dataframe tbody tr th:only-of-type {\n",
       "        vertical-align: middle;\n",
       "    }\n",
       "\n",
       "    .dataframe tbody tr th {\n",
       "        vertical-align: top;\n",
       "    }\n",
       "\n",
       "    .dataframe thead th {\n",
       "        text-align: right;\n",
       "    }\n",
       "</style>\n",
       "<table border=\"1\" class=\"dataframe\">\n",
       "  <thead>\n",
       "    <tr style=\"text-align: right;\">\n",
       "      <th></th>\n",
       "      <th>CPI</th>\n",
       "    </tr>\n",
       "    <tr>\n",
       "      <th>Date</th>\n",
       "      <th></th>\n",
       "    </tr>\n",
       "  </thead>\n",
       "  <tbody>\n",
       "    <tr>\n",
       "      <th>1995-01-01</th>\n",
       "      <td>147.0</td>\n",
       "    </tr>\n",
       "    <tr>\n",
       "      <th>1995-02-01</th>\n",
       "      <td>147.7</td>\n",
       "    </tr>\n",
       "    <tr>\n",
       "      <th>1995-03-01</th>\n",
       "      <td>147.1</td>\n",
       "    </tr>\n",
       "    <tr>\n",
       "      <th>1995-04-01</th>\n",
       "      <td>148.7</td>\n",
       "    </tr>\n",
       "    <tr>\n",
       "      <th>1995-05-01</th>\n",
       "      <td>148.7</td>\n",
       "    </tr>\n",
       "  </tbody>\n",
       "</table>\n",
       "</div>"
      ],
      "text/plain": [
       "              CPI\n",
       "Date             \n",
       "1995-01-01  147.0\n",
       "1995-02-01  147.7\n",
       "1995-03-01  147.1\n",
       "1995-04-01  148.7\n",
       "1995-05-01  148.7"
      ]
     },
     "execution_count": 117,
     "metadata": {},
     "output_type": "execute_result"
    }
   ],
   "source": [
    "cpi_df.head()"
   ]
  },
  {
   "cell_type": "code",
   "execution_count": 118,
   "id": "6b49fc49",
   "metadata": {},
   "outputs": [],
   "source": [
    "CPI_train=cpi_df[:-22]\n",
    "CPI_test =cpi_df[-22:]"
   ]
  },
  {
   "cell_type": "code",
   "execution_count": 119,
   "id": "bdf30e3a",
   "metadata": {},
   "outputs": [
    {
     "name": "stderr",
     "output_type": "stream",
     "text": [
      "C:\\Users\\julie\\anaconda3\\envs\\mlenv\\lib\\site-packages\\ipykernel_launcher.py:1: FutureWarning: the 'damped'' keyword is deprecated, use 'damped_trend' instead\n",
      "  \"\"\"Entry point for launching an IPython kernel.\n",
      "C:\\Users\\julie\\anaconda3\\envs\\mlenv\\lib\\site-packages\\statsmodels\\tsa\\base\\tsa_model.py:471: ValueWarning: No frequency information was provided, so inferred frequency MS will be used.\n",
      "  self._init_dates(dates, freq)\n"
     ]
    }
   ],
   "source": [
    "model=ets.ExponentialSmoothing(CPI_train, trend=None,damped=False, seasonal=None).fit()\n",
    "predictions=brownt.forecast(steps=len(CPI_test))\n",
    "predictions=pd.DataFrame(brownf).set_index(CPI_test.index)"
   ]
  },
  {
   "cell_type": "code",
   "execution_count": 120,
   "id": "9b962f1c",
   "metadata": {},
   "outputs": [
    {
     "data": {
      "text/html": [
       "<div>\n",
       "<style scoped>\n",
       "    .dataframe tbody tr th:only-of-type {\n",
       "        vertical-align: middle;\n",
       "    }\n",
       "\n",
       "    .dataframe tbody tr th {\n",
       "        vertical-align: top;\n",
       "    }\n",
       "\n",
       "    .dataframe thead th {\n",
       "        text-align: right;\n",
       "    }\n",
       "</style>\n",
       "<table border=\"1\" class=\"dataframe\">\n",
       "  <thead>\n",
       "    <tr style=\"text-align: right;\">\n",
       "      <th></th>\n",
       "      <th>0</th>\n",
       "    </tr>\n",
       "    <tr>\n",
       "      <th>Date</th>\n",
       "      <th></th>\n",
       "    </tr>\n",
       "  </thead>\n",
       "  <tbody>\n",
       "    <tr>\n",
       "      <th>2019-04-01</th>\n",
       "      <td>242.603</td>\n",
       "    </tr>\n",
       "    <tr>\n",
       "      <th>2019-05-01</th>\n",
       "      <td>242.603</td>\n",
       "    </tr>\n",
       "    <tr>\n",
       "      <th>2019-06-01</th>\n",
       "      <td>242.603</td>\n",
       "    </tr>\n",
       "    <tr>\n",
       "      <th>2019-07-01</th>\n",
       "      <td>242.603</td>\n",
       "    </tr>\n",
       "    <tr>\n",
       "      <th>2019-08-01</th>\n",
       "      <td>242.603</td>\n",
       "    </tr>\n",
       "    <tr>\n",
       "      <th>2019-09-01</th>\n",
       "      <td>242.603</td>\n",
       "    </tr>\n",
       "    <tr>\n",
       "      <th>2019-10-01</th>\n",
       "      <td>242.603</td>\n",
       "    </tr>\n",
       "    <tr>\n",
       "      <th>2019-11-01</th>\n",
       "      <td>242.603</td>\n",
       "    </tr>\n",
       "    <tr>\n",
       "      <th>2019-12-01</th>\n",
       "      <td>242.603</td>\n",
       "    </tr>\n",
       "    <tr>\n",
       "      <th>2020-01-01</th>\n",
       "      <td>242.603</td>\n",
       "    </tr>\n",
       "    <tr>\n",
       "      <th>2020-02-01</th>\n",
       "      <td>242.603</td>\n",
       "    </tr>\n",
       "    <tr>\n",
       "      <th>2020-03-01</th>\n",
       "      <td>242.603</td>\n",
       "    </tr>\n",
       "    <tr>\n",
       "      <th>2020-04-01</th>\n",
       "      <td>242.603</td>\n",
       "    </tr>\n",
       "    <tr>\n",
       "      <th>2020-05-01</th>\n",
       "      <td>242.603</td>\n",
       "    </tr>\n",
       "    <tr>\n",
       "      <th>2020-06-01</th>\n",
       "      <td>242.603</td>\n",
       "    </tr>\n",
       "    <tr>\n",
       "      <th>2020-07-01</th>\n",
       "      <td>242.603</td>\n",
       "    </tr>\n",
       "    <tr>\n",
       "      <th>2020-08-01</th>\n",
       "      <td>242.603</td>\n",
       "    </tr>\n",
       "    <tr>\n",
       "      <th>2020-09-01</th>\n",
       "      <td>242.603</td>\n",
       "    </tr>\n",
       "    <tr>\n",
       "      <th>2020-10-01</th>\n",
       "      <td>242.603</td>\n",
       "    </tr>\n",
       "    <tr>\n",
       "      <th>2020-11-01</th>\n",
       "      <td>242.603</td>\n",
       "    </tr>\n",
       "    <tr>\n",
       "      <th>2020-12-01</th>\n",
       "      <td>242.603</td>\n",
       "    </tr>\n",
       "    <tr>\n",
       "      <th>2021-01-01</th>\n",
       "      <td>242.603</td>\n",
       "    </tr>\n",
       "  </tbody>\n",
       "</table>\n",
       "</div>"
      ],
      "text/plain": [
       "                  0\n",
       "Date               \n",
       "2019-04-01  242.603\n",
       "2019-05-01  242.603\n",
       "2019-06-01  242.603\n",
       "2019-07-01  242.603\n",
       "2019-08-01  242.603\n",
       "2019-09-01  242.603\n",
       "2019-10-01  242.603\n",
       "2019-11-01  242.603\n",
       "2019-12-01  242.603\n",
       "2020-01-01  242.603\n",
       "2020-02-01  242.603\n",
       "2020-03-01  242.603\n",
       "2020-04-01  242.603\n",
       "2020-05-01  242.603\n",
       "2020-06-01  242.603\n",
       "2020-07-01  242.603\n",
       "2020-08-01  242.603\n",
       "2020-09-01  242.603\n",
       "2020-10-01  242.603\n",
       "2020-11-01  242.603\n",
       "2020-12-01  242.603\n",
       "2021-01-01  242.603"
      ]
     },
     "execution_count": 120,
     "metadata": {},
     "output_type": "execute_result"
    }
   ],
   "source": [
    "predictions"
   ]
  },
  {
   "cell_type": "code",
   "execution_count": 127,
   "id": "d42b13bc",
   "metadata": {},
   "outputs": [
    {
     "data": {
      "image/png": "[encoded data removed]",
      "text/plain": [
       "<Figure size 720x432 with 1 Axes>"
      ]
     },
     "metadata": {
      "needs_background": "light"
     },
     "output_type": "display_data"
    }
   ],
   "source": [
    "figl,ax=plt.subplots(figsize=(10,6))\n",
    "ax.plot(CPI_train,label=\"CPI_train\")\n",
    "ax.plot(CPI_test,label=\"CPI_test\")\n",
    "ax.plot(predictions_df,label=\"predictions\")\n",
    "\n",
    "plt.legend(loc=\"upper left\")\n",
    "plt.title(\"Brown Simple Exponential Smoothing Method\")\n",
    "plt.ylabel(\"CPI\")\n",
    "plt.xlabel(\"Date\")\n",
    "plt.show()"
   ]
  },
  {
   "cell_type": "code",
   "execution_count": null,
   "id": "940d3039",
   "metadata": {},
   "outputs": [],
   "source": []
  }
 ],
 "metadata": {
  "kernelspec": {
   "display_name": "mlenv",
   "language": "python",
   "name": "mlenv"
  },
  "language_info": {
   "codemirror_mode": {
    "name": "ipython",
    "version": 3
   },
   "file_extension": ".py",
   "mimetype": "text/x-python",
   "name": "python",
   "nbconvert_exporter": "python",
   "pygments_lexer": "ipython3",
   "version": "3.7.13"
  }
 },
 "nbformat": 4,
 "nbformat_minor": 5
}
