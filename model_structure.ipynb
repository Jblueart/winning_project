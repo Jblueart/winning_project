{
 "cells": [
  {
   "cell_type": "code",
   "execution_count": null,
   "id": "73f6d3e3",
   "metadata": {},
   "outputs": [],
   "source": [
    "import pandas as pd"
   ]
  },
  {
   "cell_type": "code",
   "execution_count": null,
   "id": "954772db",
   "metadata": {},
   "outputs": [],
   "source": [
    "# Read the dataset1\n",
    "gas_df = pd.read_csv(\"gasline_price.csv\")"
   ]
  },
  {
   "cell_type": "code",
   "execution_count": null,
   "id": "b7f801b1",
   "metadata": {},
   "outputs": [],
   "source": [
    "# Restructure/clean the dataset to the desire dataframe"
   ]
  },
  {
   "cell_type": "code",
   "execution_count": null,
   "id": "728f725b",
   "metadata": {},
   "outputs": [],
   "source": [
    "# Read the dataset2\n",
    "CPI_df=pd.read_csv(\"CPI_Urban_US_City_avg (version 1).csv\")"
   ]
  },
  {
   "cell_type": "code",
   "execution_count": null,
   "id": "030657b7",
   "metadata": {},
   "outputs": [],
   "source": [
    "# Restructure/clean the dataset to the desire dataframe"
   ]
  },
  {
   "cell_type": "code",
   "execution_count": null,
   "id": "061187c3",
   "metadata": {},
   "outputs": [],
   "source": [
    "# Merge the two datasets\n",
    "CPI_gas_df=pd.merge(gas_price_mean,CPI2_df,on=\"Date\",how=\"left\")"
   ]
  },
  {
   "cell_type": "code",
   "execution_count": null,
   "id": "9f03605f",
   "metadata": {},
   "outputs": [],
   "source": [
    "# Run linear regression to explore the data"
   ]
  },
  {
   "cell_type": "code",
   "execution_count": null,
   "id": "3f769bee",
   "metadata": {},
   "outputs": [],
   "source": [
    "# Split our preprocessed data into our features and target arrays\n",
    "# The outcome is CPI and the features are the oil prices\n",
    "y=CPI_gas_df[\"CPI\"]\n",
    "X=CPI_gas_df.drop[\"CPI\"]"
   ]
  },
  {
   "cell_type": "code",
   "execution_count": null,
   "id": "6ba51c59",
   "metadata": {},
   "outputs": [],
   "source": [
    "# Split the preprocessed data into a training and testing dataset. \n",
    "# The training set is between 1995-01 to 2019-02. The test set is between 2019-03 to 2021-\n",
    "X_train,X_test,y_train,y_test=train_test_split(X,y,random_state=78)"
   ]
  },
  {
   "cell_type": "code",
   "execution_count": null,
   "id": "b4efa9e3",
   "metadata": {},
   "outputs": [],
   "source": [
    "# Create a StandardScaler instance\n",
    "scaler=StandardScaler()"
   ]
  },
  {
   "cell_type": "code",
   "execution_count": null,
   "id": "a38750d8",
   "metadata": {},
   "outputs": [],
   "source": [
    "# Fit the StandardScaler\n",
    "X_scaler=scaler.fit(X_train)"
   ]
  },
  {
   "cell_type": "code",
   "execution_count": null,
   "id": "b9b3624c",
   "metadata": {},
   "outputs": [],
   "source": [
    "# Scale the data\n",
    "X_train_scaled=X_scaler.transform(X_train)\n",
    "X_test_scaled=X_scaler.transform(X_test)"
   ]
  },
  {
   "cell_type": "code",
   "execution_count": null,
   "id": "767edd87",
   "metadata": {},
   "outputs": [],
   "source": [
    "# Create teh model"
   ]
  },
  {
   "cell_type": "code",
   "execution_count": null,
   "id": "b23b4560",
   "metadata": {},
   "outputs": [],
   "source": [
    "# Train the model"
   ]
  },
  {
   "cell_type": "code",
   "execution_count": null,
   "id": "affa0b37",
   "metadata": {},
   "outputs": [],
   "source": [
    "# Predict(with test set)"
   ]
  },
  {
   "cell_type": "code",
   "execution_count": null,
   "id": "75987d9a",
   "metadata": {},
   "outputs": [],
   "source": [
    "# Evaluate the model"
   ]
  }
 ],
 "metadata": {
  "kernelspec": {
   "display_name": "mlenv",
   "language": "python",
   "name": "mlenv"
  },
  "language_info": {
   "codemirror_mode": {
    "name": "ipython",
    "version": 3
   },
   "file_extension": ".py",
   "mimetype": "text/x-python",
   "name": "python",
   "nbconvert_exporter": "python",
   "pygments_lexer": "ipython3",
   "version": "3.7.13"
  }
 },
 "nbformat": 4,
 "nbformat_minor": 5
}
