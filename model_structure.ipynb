{
 "cells": [
  {
   "cell_type": "code",
   "execution_count": null,
   "id": "73f6d3e3",
   "metadata": {},
   "outputs": [],
   "source": [
    "import pandas as pd"
   ]
  },
  {
   "cell_type": "code",
   "execution_count": null,
   "id": "954772db",
   "metadata": {},
   "outputs": [],
   "source": [
    "# Read the dataset1\n",
    "gas_df = pd.read_csv(\"gasline_price.csv\")"
   ]
  },
  {
   "cell_type": "code",
   "execution_count": null,
   "id": "b7f801b1",
   "metadata": {},
   "outputs": [],
   "source": [
    "# Restructure/clean the dataset to the desired dataframe"
   ]
  },
  {
   "cell_type": "code",
   "execution_count": null,
   "id": "728f725b",
   "metadata": {},
   "outputs": [],
   "source": [
    "# Read the dataset2\n",
    "CPI_df=pd.read_csv(\"CPI_Urban_US_City_avg (version 1).csv\")"
   ]
  },
  {
   "cell_type": "code",
   "execution_count": null,
   "id": "030657b7",
   "metadata": {},
   "outputs": [],
   "source": [
    "# Restructure/clean the dataset to the desire dataframe"
   ]
  },
  {
   "cell_type": "code",
   "execution_count": null,
   "id": "061187c3",
   "metadata": {},
   "outputs": [],
   "source": [
    "# Merge the two datasets and drop index column\n",
    "CPI_gas_df=pd.merge(gas_price_mean,CPI2_df,on=\"Date\",how=\"left\")"
   ]
  },
  {
   "cell_type": "markdown",
   "id": "dadb71d0",
   "metadata": {},
   "source": [
    "MACHINE LEARNING MODEL \n",
    "P1 - PREDICTING WITHOUT IMPACT OF COVID - The time horizon for training is between 1995-01 to 2017-12. The time horizon for testing is between 2017-12 to 2019-12\n",
    "P2 - PREDICTING WITH IMPACT OF COVID - The time horizon for training is between 1995-01 to 2019-12. The time horizon for testing is between 2019-12 to 2021-01\n",
    "The following steps are common for both models"
   ]
  },
  {
   "cell_type": "code",
   "execution_count": null,
   "id": "67ed164b",
   "metadata": {},
   "outputs": [],
   "source": [
    "# Split our preprocessed data into our features and target arrays\n",
    "# The target is gasoline prices and features are CPI\n",
    "y=CPI_gas_df[\"CPI\"]\n",
    "X=CPI_gas_df.drop[\"CPI\"]"
   ]
  },
  {
   "cell_type": "code",
   "execution_count": null,
   "id": "2098d891",
   "metadata": {},
   "outputs": [],
   "source": [
    "# Split the preprocessed data into a training and testing dataset\n",
    "X_train,X_test,y_train,y_test=train_test_split(X,y,random_state=78)"
   ]
  },
  {
   "cell_type": "code",
   "execution_count": null,
   "id": "29e8308d",
   "metadata": {},
   "outputs": [],
   "source": [
    "# Create a StandardScaler instance\n",
    "scaler=StandardScaler()"
   ]
  },
  {
   "cell_type": "code",
   "execution_count": null,
   "id": "df7da8b2",
   "metadata": {},
   "outputs": [],
   "source": [
    "# Fit the StandardScaler\n",
    "X_scaler=scaler.fit(X_train)"
   ]
  },
  {
   "cell_type": "code",
   "execution_count": null,
   "id": "510a7d5d",
   "metadata": {},
   "outputs": [],
   "source": [
    "# Scale the data\n",
    "X_train_scaled=X_scaler.transform(X_train)\n",
    "X_test_scaled=X_scaler.transform(X_test)"
   ]
  },
  {
   "cell_type": "code",
   "execution_count": null,
   "id": "643e0473",
   "metadata": {},
   "outputs": [],
   "source": [
    "# Train the model with training data sets"
   ]
  },
  {
   "cell_type": "code",
   "execution_count": null,
   "id": "ccc41281",
   "metadata": {},
   "outputs": [],
   "source": [
    "# Predict with test data sets"
   ]
  },
  {
   "cell_type": "code",
   "execution_count": null,
   "id": "53536826",
   "metadata": {},
   "outputs": [],
   "source": [
    "# Evaluate the model"
   ]
  },
  {
   "cell_type": "markdown",
   "id": "af5883c8",
   "metadata": {},
   "source": [
    "FORECAST MODEL - TIME SERIES SIMPLE EXPONENTIAL SMOOTHING ANALYSIS\n",
    "P1 - FORECASTING WITHOUT IMPACT OF COVID - The time horizon for training is between 1995-01 to 2017-12. The time horizon for testing is between 2017-12 to 2019-12\n",
    "P2 - FORECASTING WITH IMPACT OF COVID - The time horizon for training is between 1995-01 to 2019-12. The time horizon for testing is between 2019-12 to 2021-01\n",
    "The following steps are common for both models\n",
    "\n",
    "Purpose - We can forecast CPI until 2025 using time series analysis and fit the output CPI data into the machine learning model to predict gasoline prices till 2025"
   ]
  },
  {
   "cell_type": "code",
   "execution_count": null,
   "id": "9f03605f",
   "metadata": {},
   "outputs": [],
   "source": [
    "# Create dataframe with date and CPI columns"
   ]
  },
  {
   "cell_type": "code",
   "execution_count": null,
   "id": "e1a56787",
   "metadata": {},
   "outputs": [],
   "source": [
    "# Create dataframe with date and gasoline price columns (optional)"
   ]
  },
  {
   "cell_type": "code",
   "execution_count": null,
   "id": "5193e614",
   "metadata": {},
   "outputs": [],
   "source": [
    "# Create the forecast model: Time series simole exponential smoothing\n",
    "# Run timeseries analysis to fit the data\n",
    "model = ExponentialSmoothing(endog=df.fit())"
   ]
  },
  {
   "cell_type": "code",
   "execution_count": null,
   "id": "e2ace35b",
   "metadata": {},
   "outputs": [],
   "source": [
    "# Forecast for future - CPI\n",
    "predictions= model.forecast(20)"
   ]
  },
  {
   "cell_type": "code",
   "execution_count": null,
   "id": "e6bee843",
   "metadata": {},
   "outputs": [],
   "source": [
    "# Forecast for future - gasoline price (optional)\n",
    "predictions= model.forecast(20)"
   ]
  },
  {
   "cell_type": "code",
   "execution_count": null,
   "id": "d8faac1b",
   "metadata": {},
   "outputs": [],
   "source": [
    "# Export predictions output table as csv file"
   ]
  }
 ],
 "metadata": {
  "kernelspec": {
   "display_name": "mlenv",
   "language": "python",
   "name": "mlenv"
  },
  "language_info": {
   "codemirror_mode": {
    "name": "ipython",
    "version": 3
   },
   "file_extension": ".py",
   "mimetype": "text/x-python",
   "name": "python",
   "nbconvert_exporter": "python",
   "pygments_lexer": "ipython3",
   "version": "3.7.13"
  }
 },
 "nbformat": 4,
 "nbformat_minor": 5
}
