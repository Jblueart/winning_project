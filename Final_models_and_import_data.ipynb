{
 "cells": [
  {
   "cell_type": "markdown",
   "id": "9f058b93",
   "metadata": {},
   "source": [
    "# Import data from PgAdmin"
   ]
  },
  {
   "cell_type": "code",
   "execution_count": 1,
   "id": "89965f9b",
   "metadata": {},
   "outputs": [],
   "source": [
    "# SQLAlchemy\n",
    "from sqlalchemy import create_engine\n",
    "from sqlalchemy import inspect\n",
    "# Pandas\n",
    "import pandas as pd\n",
    "from config_file import password \n",
    "import pandas as pd\n",
    "import matplotlib.pyplot as plt\n",
    "import pandas as pd\n",
    "import matplotlib.dates as mdates"
   ]
  },
  {
   "cell_type": "code",
   "execution_count": 2,
   "id": "11a9c1eb",
   "metadata": {},
   "outputs": [],
   "source": [
    "import psycopg2"
   ]
  },
  {
   "cell_type": "markdown",
   "id": "4ef952aa",
   "metadata": {},
   "source": [
    "## Grab Merged table (CPI and Gas prices) for Model 1 and Model 2\n",
    "Model 1 : Random Forest regressor/ Model 2: Linear regression"
   ]
  },
  {
   "cell_type": "code",
   "execution_count": 3,
   "id": "16c90269",
   "metadata": {},
   "outputs": [],
   "source": [
    "# Create connection between PgAdmin and Jupyter Notebook\n",
    "conn = psycopg2.connect(user=\"postgres\",\n",
    "                       password=password,\n",
    "                       host=\"localhost\",\n",
    "                       port=\"5432\",\n",
    "                       database=\"FinalProject\")"
   ]
  },
  {
   "cell_type": "code",
   "execution_count": 4,
   "id": "5e03c9ee",
   "metadata": {},
   "outputs": [],
   "source": [
    "# Select the table from PgAdmin\n",
    "cursor = conn.cursor()\n",
    "postgreSQL_select_Query = \"select * from food_cpi_match_join\"\n",
    "\n",
    "cursor.execute(postgreSQL_select_Query)"
   ]
  },
  {
   "cell_type": "code",
   "execution_count": 5,
   "id": "4f260b41",
   "metadata": {},
   "outputs": [],
   "source": [
    "cpi_gas_df=cursor.fetchall()"
   ]
  },
  {
   "cell_type": "code",
   "execution_count": 6,
   "id": "df922542",
   "metadata": {},
   "outputs": [],
   "source": [
    "cpi_gas_df = pd.read_sql(\"select * from food_cpi_match_join\",conn)"
   ]
  },
  {
   "cell_type": "code",
   "execution_count": 7,
   "id": "83dffb7d",
   "metadata": {},
   "outputs": [
    {
     "data": {
      "text/html": [
       "<div>\n",
       "<style scoped>\n",
       "    .dataframe tbody tr th:only-of-type {\n",
       "        vertical-align: middle;\n",
       "    }\n",
       "\n",
       "    .dataframe tbody tr th {\n",
       "        vertical-align: top;\n",
       "    }\n",
       "\n",
       "    .dataframe thead th {\n",
       "        text-align: right;\n",
       "    }\n",
       "</style>\n",
       "<table border=\"1\" class=\"dataframe\">\n",
       "  <thead>\n",
       "    <tr style=\"text-align: right;\">\n",
       "      <th></th>\n",
       "      <th>CPI</th>\n",
       "      <th>date</th>\n",
       "      <th>all_grades_all_formulation</th>\n",
       "      <th>all_grades_conventional</th>\n",
       "      <th>all_grades_refomulated</th>\n",
       "      <th>regular_all_formulation</th>\n",
       "      <th>regular_conventional</th>\n",
       "      <th>regular_reformulated</th>\n",
       "      <th>midgrade_all_formulation</th>\n",
       "      <th>midgrade_conventional</th>\n",
       "      <th>midgrade_reformulated</th>\n",
       "      <th>premium_all_formulation</th>\n",
       "      <th>premium_conventional</th>\n",
       "      <th>premium_reformulated</th>\n",
       "      <th>no_2_diesel</th>\n",
       "    </tr>\n",
       "  </thead>\n",
       "  <tbody>\n",
       "    <tr>\n",
       "      <th>0</th>\n",
       "      <td>147.0</td>\n",
       "      <td>1995-01-01</td>\n",
       "      <td>1.127</td>\n",
       "      <td>1.104</td>\n",
       "      <td>1.231</td>\n",
       "      <td>1.079</td>\n",
       "      <td>1.063</td>\n",
       "      <td>1.167</td>\n",
       "      <td>1.170</td>\n",
       "      <td>1.159</td>\n",
       "      <td>1.298</td>\n",
       "      <td>1.272</td>\n",
       "      <td>1.250</td>\n",
       "      <td>1.386</td>\n",
       "      <td>1.104</td>\n",
       "    </tr>\n",
       "    <tr>\n",
       "      <th>1</th>\n",
       "      <td>147.7</td>\n",
       "      <td>1995-02-01</td>\n",
       "      <td>1.124</td>\n",
       "      <td>1.103</td>\n",
       "      <td>1.218</td>\n",
       "      <td>1.076</td>\n",
       "      <td>1.062</td>\n",
       "      <td>1.159</td>\n",
       "      <td>1.169</td>\n",
       "      <td>1.157</td>\n",
       "      <td>1.288</td>\n",
       "      <td>1.270</td>\n",
       "      <td>1.250</td>\n",
       "      <td>1.368</td>\n",
       "      <td>1.086</td>\n",
       "    </tr>\n",
       "    <tr>\n",
       "      <th>2</th>\n",
       "      <td>147.1</td>\n",
       "      <td>1995-03-01</td>\n",
       "      <td>1.123</td>\n",
       "      <td>1.103</td>\n",
       "      <td>1.209</td>\n",
       "      <td>1.076</td>\n",
       "      <td>1.063</td>\n",
       "      <td>1.149</td>\n",
       "      <td>1.167</td>\n",
       "      <td>1.157</td>\n",
       "      <td>1.275</td>\n",
       "      <td>1.263</td>\n",
       "      <td>1.244</td>\n",
       "      <td>1.358</td>\n",
       "      <td>1.089</td>\n",
       "    </tr>\n",
       "    <tr>\n",
       "      <th>3</th>\n",
       "      <td>148.7</td>\n",
       "      <td>1995-04-01</td>\n",
       "      <td>1.133</td>\n",
       "      <td>1.116</td>\n",
       "      <td>1.198</td>\n",
       "      <td>1.087</td>\n",
       "      <td>1.077</td>\n",
       "      <td>1.140</td>\n",
       "      <td>1.174</td>\n",
       "      <td>1.167</td>\n",
       "      <td>1.266</td>\n",
       "      <td>1.270</td>\n",
       "      <td>1.255</td>\n",
       "      <td>1.350</td>\n",
       "      <td>1.094</td>\n",
       "    </tr>\n",
       "    <tr>\n",
       "      <th>4</th>\n",
       "      <td>148.7</td>\n",
       "      <td>1995-05-01</td>\n",
       "      <td>1.194</td>\n",
       "      <td>1.181</td>\n",
       "      <td>1.242</td>\n",
       "      <td>1.148</td>\n",
       "      <td>1.141</td>\n",
       "      <td>1.188</td>\n",
       "      <td>1.236</td>\n",
       "      <td>1.234</td>\n",
       "      <td>1.305</td>\n",
       "      <td>1.332</td>\n",
       "      <td>1.323</td>\n",
       "      <td>1.389</td>\n",
       "      <td>1.119</td>\n",
       "    </tr>\n",
       "  </tbody>\n",
       "</table>\n",
       "</div>"
      ],
      "text/plain": [
       "     CPI        date  all_grades_all_formulation  all_grades_conventional  \\\n",
       "0  147.0  1995-01-01                       1.127                    1.104   \n",
       "1  147.7  1995-02-01                       1.124                    1.103   \n",
       "2  147.1  1995-03-01                       1.123                    1.103   \n",
       "3  148.7  1995-04-01                       1.133                    1.116   \n",
       "4  148.7  1995-05-01                       1.194                    1.181   \n",
       "\n",
       "   all_grades_refomulated  regular_all_formulation  regular_conventional  \\\n",
       "0                   1.231                    1.079                 1.063   \n",
       "1                   1.218                    1.076                 1.062   \n",
       "2                   1.209                    1.076                 1.063   \n",
       "3                   1.198                    1.087                 1.077   \n",
       "4                   1.242                    1.148                 1.141   \n",
       "\n",
       "   regular_reformulated  midgrade_all_formulation  midgrade_conventional  \\\n",
       "0                 1.167                     1.170                  1.159   \n",
       "1                 1.159                     1.169                  1.157   \n",
       "2                 1.149                     1.167                  1.157   \n",
       "3                 1.140                     1.174                  1.167   \n",
       "4                 1.188                     1.236                  1.234   \n",
       "\n",
       "   midgrade_reformulated  premium_all_formulation  premium_conventional  \\\n",
       "0                  1.298                    1.272                 1.250   \n",
       "1                  1.288                    1.270                 1.250   \n",
       "2                  1.275                    1.263                 1.244   \n",
       "3                  1.266                    1.270                 1.255   \n",
       "4                  1.305                    1.332                 1.323   \n",
       "\n",
       "   premium_reformulated  no_2_diesel  \n",
       "0                 1.386        1.104  \n",
       "1                 1.368        1.086  \n",
       "2                 1.358        1.089  \n",
       "3                 1.350        1.094  \n",
       "4                 1.389        1.119  "
      ]
     },
     "execution_count": 7,
     "metadata": {},
     "output_type": "execute_result"
    }
   ],
   "source": [
    "cpi_gas_df.head(5)"
   ]
  },
  {
   "cell_type": "markdown",
   "id": "f20d1b61",
   "metadata": {},
   "source": [
    "## Grab CPI table for Model 3\n",
    "Model 3 : Exponential Smoothing"
   ]
  },
  {
   "cell_type": "code",
   "execution_count": 8,
   "id": "49a18cf7",
   "metadata": {},
   "outputs": [],
   "source": [
    "postgreSQL_select_Query = \"select * from food_cpi_match\"\n",
    "\n",
    "cursor.execute(postgreSQL_select_Query)"
   ]
  },
  {
   "cell_type": "code",
   "execution_count": 9,
   "id": "696493ab",
   "metadata": {},
   "outputs": [],
   "source": [
    "cpi_df=cursor.fetchall()"
   ]
  },
  {
   "cell_type": "code",
   "execution_count": 10,
   "id": "c017ffb9",
   "metadata": {},
   "outputs": [
    {
     "data": {
      "text/html": [
       "<div>\n",
       "<style scoped>\n",
       "    .dataframe tbody tr th:only-of-type {\n",
       "        vertical-align: middle;\n",
       "    }\n",
       "\n",
       "    .dataframe tbody tr th {\n",
       "        vertical-align: top;\n",
       "    }\n",
       "\n",
       "    .dataframe thead th {\n",
       "        text-align: right;\n",
       "    }\n",
       "</style>\n",
       "<table border=\"1\" class=\"dataframe\">\n",
       "  <thead>\n",
       "    <tr style=\"text-align: right;\">\n",
       "      <th></th>\n",
       "      <th>date</th>\n",
       "      <th>CPI</th>\n",
       "    </tr>\n",
       "  </thead>\n",
       "  <tbody>\n",
       "    <tr>\n",
       "      <th>0</th>\n",
       "      <td>1995-01-01</td>\n",
       "      <td>147.0</td>\n",
       "    </tr>\n",
       "    <tr>\n",
       "      <th>1</th>\n",
       "      <td>1995-02-01</td>\n",
       "      <td>147.7</td>\n",
       "    </tr>\n",
       "    <tr>\n",
       "      <th>2</th>\n",
       "      <td>1995-03-01</td>\n",
       "      <td>147.1</td>\n",
       "    </tr>\n",
       "    <tr>\n",
       "      <th>3</th>\n",
       "      <td>1995-04-01</td>\n",
       "      <td>148.7</td>\n",
       "    </tr>\n",
       "    <tr>\n",
       "      <th>4</th>\n",
       "      <td>1995-05-01</td>\n",
       "      <td>148.7</td>\n",
       "    </tr>\n",
       "  </tbody>\n",
       "</table>\n",
       "</div>"
      ],
      "text/plain": [
       "         date    CPI\n",
       "0  1995-01-01  147.0\n",
       "1  1995-02-01  147.7\n",
       "2  1995-03-01  147.1\n",
       "3  1995-04-01  148.7\n",
       "4  1995-05-01  148.7"
      ]
     },
     "execution_count": 10,
     "metadata": {},
     "output_type": "execute_result"
    }
   ],
   "source": [
    "cpi_df = pd.read_sql(\"select * from food_cpi_match\",conn)\n",
    "cpi_df.head(5)"
   ]
  },
  {
   "cell_type": "code",
   "execution_count": 11,
   "id": "a1adb15b",
   "metadata": {},
   "outputs": [],
   "source": [
    "cpi_df=cpi_df.rename(columns={\"date\":\"Date\"})\n"
   ]
  },
  {
   "cell_type": "code",
   "execution_count": 12,
   "id": "0245c6d0",
   "metadata": {},
   "outputs": [
    {
     "name": "stdout",
     "output_type": "stream",
     "text": [
      "<class 'pandas.core.frame.DataFrame'>\n",
      "RangeIndex: 313 entries, 0 to 312\n",
      "Data columns (total 2 columns):\n",
      " #   Column  Non-Null Count  Dtype  \n",
      "---  ------  --------------  -----  \n",
      " 0   Date    313 non-null    object \n",
      " 1   CPI     313 non-null    float64\n",
      "dtypes: float64(1), object(1)\n",
      "memory usage: 5.0+ KB\n"
     ]
    }
   ],
   "source": [
    "cpi_df.info()"
   ]
  },
  {
   "cell_type": "code",
   "execution_count": 13,
   "id": "b0b555b8",
   "metadata": {},
   "outputs": [],
   "source": [
    "cpi_df[\"Date\"]=pd.to_datetime(cpi_df[\"Date\"])"
   ]
  },
  {
   "cell_type": "code",
   "execution_count": 14,
   "id": "e382e8db",
   "metadata": {},
   "outputs": [
    {
     "data": {
      "text/html": [
       "<div>\n",
       "<style scoped>\n",
       "    .dataframe tbody tr th:only-of-type {\n",
       "        vertical-align: middle;\n",
       "    }\n",
       "\n",
       "    .dataframe tbody tr th {\n",
       "        vertical-align: top;\n",
       "    }\n",
       "\n",
       "    .dataframe thead th {\n",
       "        text-align: right;\n",
       "    }\n",
       "</style>\n",
       "<table border=\"1\" class=\"dataframe\">\n",
       "  <thead>\n",
       "    <tr style=\"text-align: right;\">\n",
       "      <th></th>\n",
       "      <th>Date</th>\n",
       "      <th>CPI</th>\n",
       "    </tr>\n",
       "  </thead>\n",
       "  <tbody>\n",
       "    <tr>\n",
       "      <th>0</th>\n",
       "      <td>1995-01-01</td>\n",
       "      <td>147.000</td>\n",
       "    </tr>\n",
       "    <tr>\n",
       "      <th>1</th>\n",
       "      <td>1995-02-01</td>\n",
       "      <td>147.700</td>\n",
       "    </tr>\n",
       "    <tr>\n",
       "      <th>2</th>\n",
       "      <td>1995-03-01</td>\n",
       "      <td>147.100</td>\n",
       "    </tr>\n",
       "    <tr>\n",
       "      <th>3</th>\n",
       "      <td>1995-04-01</td>\n",
       "      <td>148.700</td>\n",
       "    </tr>\n",
       "    <tr>\n",
       "      <th>4</th>\n",
       "      <td>1995-05-01</td>\n",
       "      <td>148.700</td>\n",
       "    </tr>\n",
       "    <tr>\n",
       "      <th>...</th>\n",
       "      <td>...</td>\n",
       "      <td>...</td>\n",
       "    </tr>\n",
       "    <tr>\n",
       "      <th>308</th>\n",
       "      <td>2020-09-01</td>\n",
       "      <td>251.303</td>\n",
       "    </tr>\n",
       "    <tr>\n",
       "      <th>309</th>\n",
       "      <td>2020-10-01</td>\n",
       "      <td>251.478</td>\n",
       "    </tr>\n",
       "    <tr>\n",
       "      <th>310</th>\n",
       "      <td>2020-11-01</td>\n",
       "      <td>251.241</td>\n",
       "    </tr>\n",
       "    <tr>\n",
       "      <th>311</th>\n",
       "      <td>2020-12-01</td>\n",
       "      <td>252.009</td>\n",
       "    </tr>\n",
       "    <tr>\n",
       "      <th>312</th>\n",
       "      <td>2021-01-01</td>\n",
       "      <td>252.270</td>\n",
       "    </tr>\n",
       "  </tbody>\n",
       "</table>\n",
       "<p>313 rows × 2 columns</p>\n",
       "</div>"
      ],
      "text/plain": [
       "          Date      CPI\n",
       "0   1995-01-01  147.000\n",
       "1   1995-02-01  147.700\n",
       "2   1995-03-01  147.100\n",
       "3   1995-04-01  148.700\n",
       "4   1995-05-01  148.700\n",
       "..         ...      ...\n",
       "308 2020-09-01  251.303\n",
       "309 2020-10-01  251.478\n",
       "310 2020-11-01  251.241\n",
       "311 2020-12-01  252.009\n",
       "312 2021-01-01  252.270\n",
       "\n",
       "[313 rows x 2 columns]"
      ]
     },
     "execution_count": 14,
     "metadata": {},
     "output_type": "execute_result"
    }
   ],
   "source": [
    "cpi_df"
   ]
  },
  {
   "cell_type": "code",
   "execution_count": 15,
   "id": "9808b2a2",
   "metadata": {},
   "outputs": [
    {
     "data": {
      "text/html": [
       "<div>\n",
       "<style scoped>\n",
       "    .dataframe tbody tr th:only-of-type {\n",
       "        vertical-align: middle;\n",
       "    }\n",
       "\n",
       "    .dataframe tbody tr th {\n",
       "        vertical-align: top;\n",
       "    }\n",
       "\n",
       "    .dataframe thead th {\n",
       "        text-align: right;\n",
       "    }\n",
       "</style>\n",
       "<table border=\"1\" class=\"dataframe\">\n",
       "  <thead>\n",
       "    <tr style=\"text-align: right;\">\n",
       "      <th></th>\n",
       "      <th>CPI</th>\n",
       "    </tr>\n",
       "    <tr>\n",
       "      <th>Date</th>\n",
       "      <th></th>\n",
       "    </tr>\n",
       "  </thead>\n",
       "  <tbody>\n",
       "    <tr>\n",
       "      <th>1995-01-01</th>\n",
       "      <td>147.000</td>\n",
       "    </tr>\n",
       "    <tr>\n",
       "      <th>1995-02-01</th>\n",
       "      <td>147.700</td>\n",
       "    </tr>\n",
       "    <tr>\n",
       "      <th>1995-03-01</th>\n",
       "      <td>147.100</td>\n",
       "    </tr>\n",
       "    <tr>\n",
       "      <th>1995-04-01</th>\n",
       "      <td>148.700</td>\n",
       "    </tr>\n",
       "    <tr>\n",
       "      <th>1995-05-01</th>\n",
       "      <td>148.700</td>\n",
       "    </tr>\n",
       "    <tr>\n",
       "      <th>...</th>\n",
       "      <td>...</td>\n",
       "    </tr>\n",
       "    <tr>\n",
       "      <th>2020-09-01</th>\n",
       "      <td>251.303</td>\n",
       "    </tr>\n",
       "    <tr>\n",
       "      <th>2020-10-01</th>\n",
       "      <td>251.478</td>\n",
       "    </tr>\n",
       "    <tr>\n",
       "      <th>2020-11-01</th>\n",
       "      <td>251.241</td>\n",
       "    </tr>\n",
       "    <tr>\n",
       "      <th>2020-12-01</th>\n",
       "      <td>252.009</td>\n",
       "    </tr>\n",
       "    <tr>\n",
       "      <th>2021-01-01</th>\n",
       "      <td>252.270</td>\n",
       "    </tr>\n",
       "  </tbody>\n",
       "</table>\n",
       "<p>313 rows × 1 columns</p>\n",
       "</div>"
      ],
      "text/plain": [
       "                CPI\n",
       "Date               \n",
       "1995-01-01  147.000\n",
       "1995-02-01  147.700\n",
       "1995-03-01  147.100\n",
       "1995-04-01  148.700\n",
       "1995-05-01  148.700\n",
       "...             ...\n",
       "2020-09-01  251.303\n",
       "2020-10-01  251.478\n",
       "2020-11-01  251.241\n",
       "2020-12-01  252.009\n",
       "2021-01-01  252.270\n",
       "\n",
       "[313 rows x 1 columns]"
      ]
     },
     "execution_count": 15,
     "metadata": {},
     "output_type": "execute_result"
    }
   ],
   "source": [
    "# Set Date as index \n",
    "cpi_df.set_index(\"Date\")"
   ]
  },
  {
   "cell_type": "code",
   "execution_count": 16,
   "id": "2a7e3e0f",
   "metadata": {},
   "outputs": [
    {
     "data": {
      "text/html": [
       "<div>\n",
       "<style scoped>\n",
       "    .dataframe tbody tr th:only-of-type {\n",
       "        vertical-align: middle;\n",
       "    }\n",
       "\n",
       "    .dataframe tbody tr th {\n",
       "        vertical-align: top;\n",
       "    }\n",
       "\n",
       "    .dataframe thead th {\n",
       "        text-align: right;\n",
       "    }\n",
       "</style>\n",
       "<table border=\"1\" class=\"dataframe\">\n",
       "  <thead>\n",
       "    <tr style=\"text-align: right;\">\n",
       "      <th></th>\n",
       "      <th>CPI</th>\n",
       "      <th>date</th>\n",
       "      <th>all_grades_all_formulation</th>\n",
       "      <th>all_grades_conventional</th>\n",
       "      <th>all_grades_refomulated</th>\n",
       "      <th>regular_all_formulation</th>\n",
       "      <th>regular_conventional</th>\n",
       "      <th>regular_reformulated</th>\n",
       "      <th>midgrade_all_formulation</th>\n",
       "      <th>midgrade_conventional</th>\n",
       "      <th>midgrade_reformulated</th>\n",
       "      <th>premium_all_formulation</th>\n",
       "      <th>premium_conventional</th>\n",
       "      <th>premium_reformulated</th>\n",
       "      <th>no_2_diesel</th>\n",
       "    </tr>\n",
       "  </thead>\n",
       "  <tbody>\n",
       "    <tr>\n",
       "      <th>0</th>\n",
       "      <td>147.0</td>\n",
       "      <td>1995-01-01</td>\n",
       "      <td>1.127</td>\n",
       "      <td>1.104</td>\n",
       "      <td>1.231</td>\n",
       "      <td>1.079</td>\n",
       "      <td>1.063</td>\n",
       "      <td>1.167</td>\n",
       "      <td>1.17</td>\n",
       "      <td>1.159</td>\n",
       "      <td>1.298</td>\n",
       "      <td>1.272</td>\n",
       "      <td>1.25</td>\n",
       "      <td>1.386</td>\n",
       "      <td>1.104</td>\n",
       "    </tr>\n",
       "  </tbody>\n",
       "</table>\n",
       "</div>"
      ],
      "text/plain": [
       "     CPI        date  all_grades_all_formulation  all_grades_conventional  \\\n",
       "0  147.0  1995-01-01                       1.127                    1.104   \n",
       "\n",
       "   all_grades_refomulated  regular_all_formulation  regular_conventional  \\\n",
       "0                   1.231                    1.079                 1.063   \n",
       "\n",
       "   regular_reformulated  midgrade_all_formulation  midgrade_conventional  \\\n",
       "0                 1.167                      1.17                  1.159   \n",
       "\n",
       "   midgrade_reformulated  premium_all_formulation  premium_conventional  \\\n",
       "0                  1.298                    1.272                  1.25   \n",
       "\n",
       "   premium_reformulated  no_2_diesel  \n",
       "0                 1.386        1.104  "
      ]
     },
     "execution_count": 16,
     "metadata": {},
     "output_type": "execute_result"
    }
   ],
   "source": [
    "# Get first date from the dataframe\n",
    "cpi_gas_df.head(1)"
   ]
  },
  {
   "cell_type": "code",
   "execution_count": 17,
   "id": "163303a3",
   "metadata": {},
   "outputs": [
    {
     "data": {
      "text/html": [
       "<div>\n",
       "<style scoped>\n",
       "    .dataframe tbody tr th:only-of-type {\n",
       "        vertical-align: middle;\n",
       "    }\n",
       "\n",
       "    .dataframe tbody tr th {\n",
       "        vertical-align: top;\n",
       "    }\n",
       "\n",
       "    .dataframe thead th {\n",
       "        text-align: right;\n",
       "    }\n",
       "</style>\n",
       "<table border=\"1\" class=\"dataframe\">\n",
       "  <thead>\n",
       "    <tr style=\"text-align: right;\">\n",
       "      <th></th>\n",
       "      <th>CPI</th>\n",
       "      <th>date</th>\n",
       "      <th>all_grades_all_formulation</th>\n",
       "      <th>all_grades_conventional</th>\n",
       "      <th>all_grades_refomulated</th>\n",
       "      <th>regular_all_formulation</th>\n",
       "      <th>regular_conventional</th>\n",
       "      <th>regular_reformulated</th>\n",
       "      <th>midgrade_all_formulation</th>\n",
       "      <th>midgrade_conventional</th>\n",
       "      <th>midgrade_reformulated</th>\n",
       "      <th>premium_all_formulation</th>\n",
       "      <th>premium_conventional</th>\n",
       "      <th>premium_reformulated</th>\n",
       "      <th>no_2_diesel</th>\n",
       "    </tr>\n",
       "  </thead>\n",
       "  <tbody>\n",
       "    <tr>\n",
       "      <th>312</th>\n",
       "      <td>252.27</td>\n",
       "      <td>2021-01-01</td>\n",
       "      <td>2.336</td>\n",
       "      <td>2.227</td>\n",
       "      <td>2.549</td>\n",
       "      <td>2.249</td>\n",
       "      <td>2.16</td>\n",
       "      <td>2.437</td>\n",
       "      <td>2.639</td>\n",
       "      <td>2.484</td>\n",
       "      <td>2.867</td>\n",
       "      <td>2.895</td>\n",
       "      <td>2.771</td>\n",
       "      <td>3.042</td>\n",
       "      <td>2.64</td>\n",
       "    </tr>\n",
       "  </tbody>\n",
       "</table>\n",
       "</div>"
      ],
      "text/plain": [
       "        CPI        date  all_grades_all_formulation  all_grades_conventional  \\\n",
       "312  252.27  2021-01-01                       2.336                    2.227   \n",
       "\n",
       "     all_grades_refomulated  regular_all_formulation  regular_conventional  \\\n",
       "312                   2.549                    2.249                  2.16   \n",
       "\n",
       "     regular_reformulated  midgrade_all_formulation  midgrade_conventional  \\\n",
       "312                 2.437                     2.639                  2.484   \n",
       "\n",
       "     midgrade_reformulated  premium_all_formulation  premium_conventional  \\\n",
       "312                  2.867                    2.895                 2.771   \n",
       "\n",
       "     premium_reformulated  no_2_diesel  \n",
       "312                 3.042         2.64  "
      ]
     },
     "execution_count": 17,
     "metadata": {},
     "output_type": "execute_result"
    }
   ],
   "source": [
    "# # Get last date from the dataframe\n",
    "cpi_gas_df.tail(1)"
   ]
  },
  {
   "cell_type": "code",
   "execution_count": 18,
   "id": "59da438b",
   "metadata": {},
   "outputs": [
    {
     "name": "stdout",
     "output_type": "stream",
     "text": [
      "<class 'pandas.core.frame.DataFrame'>\n",
      "RangeIndex: 313 entries, 0 to 312\n",
      "Data columns (total 15 columns):\n",
      " #   Column                      Non-Null Count  Dtype  \n",
      "---  ------                      --------------  -----  \n",
      " 0   CPI                         313 non-null    float64\n",
      " 1   date                        313 non-null    object \n",
      " 2   all_grades_all_formulation  313 non-null    float64\n",
      " 3   all_grades_conventional     313 non-null    float64\n",
      " 4   all_grades_refomulated      313 non-null    float64\n",
      " 5   regular_all_formulation     313 non-null    float64\n",
      " 6   regular_conventional        313 non-null    float64\n",
      " 7   regular_reformulated        313 non-null    float64\n",
      " 8   midgrade_all_formulation    313 non-null    float64\n",
      " 9   midgrade_conventional       313 non-null    float64\n",
      " 10  midgrade_reformulated       313 non-null    float64\n",
      " 11  premium_all_formulation     313 non-null    float64\n",
      " 12  premium_conventional        313 non-null    float64\n",
      " 13  premium_reformulated        313 non-null    float64\n",
      " 14  no_2_diesel                 313 non-null    float64\n",
      "dtypes: float64(14), object(1)\n",
      "memory usage: 36.8+ KB\n"
     ]
    }
   ],
   "source": [
    "cpi_gas_df.info()"
   ]
  },
  {
   "cell_type": "code",
   "execution_count": 19,
   "id": "b3135e0c",
   "metadata": {},
   "outputs": [],
   "source": [
    "# Change the column nae\n",
    "cpi_gas_df=cpi_gas_df.rename(columns={\"date\":\"Date\"})"
   ]
  },
  {
   "cell_type": "code",
   "execution_count": 20,
   "id": "828cd170",
   "metadata": {},
   "outputs": [
    {
     "name": "stdout",
     "output_type": "stream",
     "text": [
      "<class 'pandas.core.frame.DataFrame'>\n",
      "RangeIndex: 313 entries, 0 to 312\n",
      "Data columns (total 15 columns):\n",
      " #   Column                      Non-Null Count  Dtype  \n",
      "---  ------                      --------------  -----  \n",
      " 0   CPI                         313 non-null    float64\n",
      " 1   Date                        313 non-null    object \n",
      " 2   all_grades_all_formulation  313 non-null    float64\n",
      " 3   all_grades_conventional     313 non-null    float64\n",
      " 4   all_grades_refomulated      313 non-null    float64\n",
      " 5   regular_all_formulation     313 non-null    float64\n",
      " 6   regular_conventional        313 non-null    float64\n",
      " 7   regular_reformulated        313 non-null    float64\n",
      " 8   midgrade_all_formulation    313 non-null    float64\n",
      " 9   midgrade_conventional       313 non-null    float64\n",
      " 10  midgrade_reformulated       313 non-null    float64\n",
      " 11  premium_all_formulation     313 non-null    float64\n",
      " 12  premium_conventional        313 non-null    float64\n",
      " 13  premium_reformulated        313 non-null    float64\n",
      " 14  no_2_diesel                 313 non-null    float64\n",
      "dtypes: float64(14), object(1)\n",
      "memory usage: 36.8+ KB\n"
     ]
    }
   ],
   "source": [
    "cpi_gas_df.info()"
   ]
  },
  {
   "cell_type": "code",
   "execution_count": 21,
   "id": "18bc7d3a",
   "metadata": {},
   "outputs": [],
   "source": [
    "# Change the Date datatype to datetime\n",
    "cpi_gas_df[\"Date\"]=pd.to_datetime(cpi_gas_df[\"Date\"])"
   ]
  },
  {
   "cell_type": "code",
   "execution_count": 22,
   "id": "10234bb1",
   "metadata": {},
   "outputs": [],
   "source": [
    "# Set up Date as Index\n",
    "cpi_gas_df=cpi_gas_df.set_index(\"Date\")"
   ]
  },
  {
   "cell_type": "markdown",
   "id": "606c2139",
   "metadata": {},
   "source": [
    "Later will use the date to determine our training and test sets"
   ]
  },
  {
   "cell_type": "markdown",
   "id": "ef332a83",
   "metadata": {},
   "source": [
    "## First model - Random Forest Regressor"
   ]
  },
  {
   "cell_type": "code",
   "execution_count": 23,
   "id": "b62d44ae",
   "metadata": {},
   "outputs": [],
   "source": [
    "# Import our dependencies\n",
    "from sklearn.model_selection import train_test_split\n",
    "import pandas as pd"
   ]
  },
  {
   "cell_type": "code",
   "execution_count": 83,
   "id": "df3df4a2",
   "metadata": {},
   "outputs": [
    {
     "name": "stderr",
     "output_type": "stream",
     "text": [
      "C:\\Users\\julie\\anaconda3\\envs\\mlenv\\lib\\site-packages\\ipykernel_launcher.py:2: FutureWarning: In a future version of pandas all arguments of DataFrame.drop except for the argument 'labels' will be keyword-only\n",
      "  \n"
     ]
    }
   ],
   "source": [
    "# Define our features (X) and outcome(y)\n",
    "X=cpi_gas_df.drop([\"CPI\"],1)\n",
    "y=cpi_gas_df[[\"CPI\"]]"
   ]
  },
  {
   "cell_type": "code",
   "execution_count": 84,
   "id": "bf9c71b6",
   "metadata": {},
   "outputs": [
    {
     "data": {
      "text/html": [
       "<div>\n",
       "<style scoped>\n",
       "    .dataframe tbody tr th:only-of-type {\n",
       "        vertical-align: middle;\n",
       "    }\n",
       "\n",
       "    .dataframe tbody tr th {\n",
       "        vertical-align: top;\n",
       "    }\n",
       "\n",
       "    .dataframe thead th {\n",
       "        text-align: right;\n",
       "    }\n",
       "</style>\n",
       "<table border=\"1\" class=\"dataframe\">\n",
       "  <thead>\n",
       "    <tr style=\"text-align: right;\">\n",
       "      <th></th>\n",
       "      <th>all_grades_all_formulation</th>\n",
       "      <th>all_grades_conventional</th>\n",
       "      <th>all_grades_refomulated</th>\n",
       "      <th>regular_all_formulation</th>\n",
       "      <th>regular_conventional</th>\n",
       "      <th>regular_reformulated</th>\n",
       "      <th>midgrade_all_formulation</th>\n",
       "      <th>midgrade_conventional</th>\n",
       "      <th>midgrade_reformulated</th>\n",
       "      <th>premium_all_formulation</th>\n",
       "      <th>premium_conventional</th>\n",
       "      <th>premium_reformulated</th>\n",
       "      <th>no_2_diesel</th>\n",
       "    </tr>\n",
       "    <tr>\n",
       "      <th>Date</th>\n",
       "      <th></th>\n",
       "      <th></th>\n",
       "      <th></th>\n",
       "      <th></th>\n",
       "      <th></th>\n",
       "      <th></th>\n",
       "      <th></th>\n",
       "      <th></th>\n",
       "      <th></th>\n",
       "      <th></th>\n",
       "      <th></th>\n",
       "      <th></th>\n",
       "      <th></th>\n",
       "    </tr>\n",
       "  </thead>\n",
       "  <tbody>\n",
       "    <tr>\n",
       "      <th>1995-01-01</th>\n",
       "      <td>1.127</td>\n",
       "      <td>1.104</td>\n",
       "      <td>1.231</td>\n",
       "      <td>1.079</td>\n",
       "      <td>1.063</td>\n",
       "      <td>1.167</td>\n",
       "      <td>1.170</td>\n",
       "      <td>1.159</td>\n",
       "      <td>1.298</td>\n",
       "      <td>1.272</td>\n",
       "      <td>1.250</td>\n",
       "      <td>1.386</td>\n",
       "      <td>1.104</td>\n",
       "    </tr>\n",
       "    <tr>\n",
       "      <th>1995-02-01</th>\n",
       "      <td>1.124</td>\n",
       "      <td>1.103</td>\n",
       "      <td>1.218</td>\n",
       "      <td>1.076</td>\n",
       "      <td>1.062</td>\n",
       "      <td>1.159</td>\n",
       "      <td>1.169</td>\n",
       "      <td>1.157</td>\n",
       "      <td>1.288</td>\n",
       "      <td>1.270</td>\n",
       "      <td>1.250</td>\n",
       "      <td>1.368</td>\n",
       "      <td>1.086</td>\n",
       "    </tr>\n",
       "    <tr>\n",
       "      <th>1995-03-01</th>\n",
       "      <td>1.123</td>\n",
       "      <td>1.103</td>\n",
       "      <td>1.209</td>\n",
       "      <td>1.076</td>\n",
       "      <td>1.063</td>\n",
       "      <td>1.149</td>\n",
       "      <td>1.167</td>\n",
       "      <td>1.157</td>\n",
       "      <td>1.275</td>\n",
       "      <td>1.263</td>\n",
       "      <td>1.244</td>\n",
       "      <td>1.358</td>\n",
       "      <td>1.089</td>\n",
       "    </tr>\n",
       "    <tr>\n",
       "      <th>1995-04-01</th>\n",
       "      <td>1.133</td>\n",
       "      <td>1.116</td>\n",
       "      <td>1.198</td>\n",
       "      <td>1.087</td>\n",
       "      <td>1.077</td>\n",
       "      <td>1.140</td>\n",
       "      <td>1.174</td>\n",
       "      <td>1.167</td>\n",
       "      <td>1.266</td>\n",
       "      <td>1.270</td>\n",
       "      <td>1.255</td>\n",
       "      <td>1.350</td>\n",
       "      <td>1.094</td>\n",
       "    </tr>\n",
       "    <tr>\n",
       "      <th>1995-05-01</th>\n",
       "      <td>1.194</td>\n",
       "      <td>1.181</td>\n",
       "      <td>1.242</td>\n",
       "      <td>1.148</td>\n",
       "      <td>1.141</td>\n",
       "      <td>1.188</td>\n",
       "      <td>1.236</td>\n",
       "      <td>1.234</td>\n",
       "      <td>1.305</td>\n",
       "      <td>1.332</td>\n",
       "      <td>1.323</td>\n",
       "      <td>1.389</td>\n",
       "      <td>1.119</td>\n",
       "    </tr>\n",
       "  </tbody>\n",
       "</table>\n",
       "</div>"
      ],
      "text/plain": [
       "            all_grades_all_formulation  all_grades_conventional  \\\n",
       "Date                                                              \n",
       "1995-01-01                       1.127                    1.104   \n",
       "1995-02-01                       1.124                    1.103   \n",
       "1995-03-01                       1.123                    1.103   \n",
       "1995-04-01                       1.133                    1.116   \n",
       "1995-05-01                       1.194                    1.181   \n",
       "\n",
       "            all_grades_refomulated  regular_all_formulation  \\\n",
       "Date                                                          \n",
       "1995-01-01                   1.231                    1.079   \n",
       "1995-02-01                   1.218                    1.076   \n",
       "1995-03-01                   1.209                    1.076   \n",
       "1995-04-01                   1.198                    1.087   \n",
       "1995-05-01                   1.242                    1.148   \n",
       "\n",
       "            regular_conventional  regular_reformulated  \\\n",
       "Date                                                     \n",
       "1995-01-01                 1.063                 1.167   \n",
       "1995-02-01                 1.062                 1.159   \n",
       "1995-03-01                 1.063                 1.149   \n",
       "1995-04-01                 1.077                 1.140   \n",
       "1995-05-01                 1.141                 1.188   \n",
       "\n",
       "            midgrade_all_formulation  midgrade_conventional  \\\n",
       "Date                                                          \n",
       "1995-01-01                     1.170                  1.159   \n",
       "1995-02-01                     1.169                  1.157   \n",
       "1995-03-01                     1.167                  1.157   \n",
       "1995-04-01                     1.174                  1.167   \n",
       "1995-05-01                     1.236                  1.234   \n",
       "\n",
       "            midgrade_reformulated  premium_all_formulation  \\\n",
       "Date                                                         \n",
       "1995-01-01                  1.298                    1.272   \n",
       "1995-02-01                  1.288                    1.270   \n",
       "1995-03-01                  1.275                    1.263   \n",
       "1995-04-01                  1.266                    1.270   \n",
       "1995-05-01                  1.305                    1.332   \n",
       "\n",
       "            premium_conventional  premium_reformulated  no_2_diesel  \n",
       "Date                                                                 \n",
       "1995-01-01                 1.250                 1.386        1.104  \n",
       "1995-02-01                 1.250                 1.368        1.086  \n",
       "1995-03-01                 1.244                 1.358        1.089  \n",
       "1995-04-01                 1.255                 1.350        1.094  \n",
       "1995-05-01                 1.323                 1.389        1.119  "
      ]
     },
     "execution_count": 84,
     "metadata": {},
     "output_type": "execute_result"
    }
   ],
   "source": [
    "X.iloc[:-22].head(5)"
   ]
  },
  {
   "cell_type": "code",
   "execution_count": 95,
   "id": "20b2ea9d",
   "metadata": {},
   "outputs": [
    {
     "data": {
      "text/html": [
       "<div>\n",
       "<style scoped>\n",
       "    .dataframe tbody tr th:only-of-type {\n",
       "        vertical-align: middle;\n",
       "    }\n",
       "\n",
       "    .dataframe tbody tr th {\n",
       "        vertical-align: top;\n",
       "    }\n",
       "\n",
       "    .dataframe thead th {\n",
       "        text-align: right;\n",
       "    }\n",
       "</style>\n",
       "<table border=\"1\" class=\"dataframe\">\n",
       "  <thead>\n",
       "    <tr style=\"text-align: right;\">\n",
       "      <th></th>\n",
       "      <th>CPI</th>\n",
       "    </tr>\n",
       "    <tr>\n",
       "      <th>Date</th>\n",
       "      <th></th>\n",
       "    </tr>\n",
       "  </thead>\n",
       "  <tbody>\n",
       "    <tr>\n",
       "      <th>1995-01-01</th>\n",
       "      <td>147.0</td>\n",
       "    </tr>\n",
       "    <tr>\n",
       "      <th>1995-02-01</th>\n",
       "      <td>147.7</td>\n",
       "    </tr>\n",
       "    <tr>\n",
       "      <th>1995-03-01</th>\n",
       "      <td>147.1</td>\n",
       "    </tr>\n",
       "    <tr>\n",
       "      <th>1995-04-01</th>\n",
       "      <td>148.7</td>\n",
       "    </tr>\n",
       "    <tr>\n",
       "      <th>1995-05-01</th>\n",
       "      <td>148.7</td>\n",
       "    </tr>\n",
       "  </tbody>\n",
       "</table>\n",
       "</div>"
      ],
      "text/plain": [
       "              CPI\n",
       "Date             \n",
       "1995-01-01  147.0\n",
       "1995-02-01  147.7\n",
       "1995-03-01  147.1\n",
       "1995-04-01  148.7\n",
       "1995-05-01  148.7"
      ]
     },
     "execution_count": 95,
     "metadata": {},
     "output_type": "execute_result"
    }
   ],
   "source": [
    "y.iloc[:-22].head(5)"
   ]
  },
  {
   "cell_type": "code",
   "execution_count": 85,
   "id": "303cf7be",
   "metadata": {},
   "outputs": [],
   "source": [
    "# Split the training and test set\n",
    "X_train = X.iloc[:-22].values\n",
    "y_train=y.iloc[:-22].values\n",
    "X_test = X.iloc[-22:].values\n",
    "y_test=y.iloc[-22:].values\n"
   ]
  },
  {
   "cell_type": "code",
   "execution_count": 86,
   "id": "717ccd0a",
   "metadata": {},
   "outputs": [
    {
     "data": {
      "text/html": [
       "<div>\n",
       "<style scoped>\n",
       "    .dataframe tbody tr th:only-of-type {\n",
       "        vertical-align: middle;\n",
       "    }\n",
       "\n",
       "    .dataframe tbody tr th {\n",
       "        vertical-align: top;\n",
       "    }\n",
       "\n",
       "    .dataframe thead th {\n",
       "        text-align: right;\n",
       "    }\n",
       "</style>\n",
       "<table border=\"1\" class=\"dataframe\">\n",
       "  <thead>\n",
       "    <tr style=\"text-align: right;\">\n",
       "      <th></th>\n",
       "      <th>all_grades_all_formulation</th>\n",
       "      <th>all_grades_conventional</th>\n",
       "      <th>all_grades_refomulated</th>\n",
       "      <th>regular_all_formulation</th>\n",
       "      <th>regular_conventional</th>\n",
       "      <th>regular_reformulated</th>\n",
       "      <th>midgrade_all_formulation</th>\n",
       "      <th>midgrade_conventional</th>\n",
       "      <th>midgrade_reformulated</th>\n",
       "      <th>premium_all_formulation</th>\n",
       "      <th>premium_conventional</th>\n",
       "      <th>premium_reformulated</th>\n",
       "      <th>no_2_diesel</th>\n",
       "    </tr>\n",
       "    <tr>\n",
       "      <th>Date</th>\n",
       "      <th></th>\n",
       "      <th></th>\n",
       "      <th></th>\n",
       "      <th></th>\n",
       "      <th></th>\n",
       "      <th></th>\n",
       "      <th></th>\n",
       "      <th></th>\n",
       "      <th></th>\n",
       "      <th></th>\n",
       "      <th></th>\n",
       "      <th></th>\n",
       "      <th></th>\n",
       "    </tr>\n",
       "  </thead>\n",
       "  <tbody>\n",
       "    <tr>\n",
       "      <th>1995-01-01</th>\n",
       "      <td>1.127</td>\n",
       "      <td>1.104</td>\n",
       "      <td>1.231</td>\n",
       "      <td>1.079</td>\n",
       "      <td>1.063</td>\n",
       "      <td>1.167</td>\n",
       "      <td>1.170</td>\n",
       "      <td>1.159</td>\n",
       "      <td>1.298</td>\n",
       "      <td>1.272</td>\n",
       "      <td>1.250</td>\n",
       "      <td>1.386</td>\n",
       "      <td>1.104</td>\n",
       "    </tr>\n",
       "    <tr>\n",
       "      <th>1995-02-01</th>\n",
       "      <td>1.124</td>\n",
       "      <td>1.103</td>\n",
       "      <td>1.218</td>\n",
       "      <td>1.076</td>\n",
       "      <td>1.062</td>\n",
       "      <td>1.159</td>\n",
       "      <td>1.169</td>\n",
       "      <td>1.157</td>\n",
       "      <td>1.288</td>\n",
       "      <td>1.270</td>\n",
       "      <td>1.250</td>\n",
       "      <td>1.368</td>\n",
       "      <td>1.086</td>\n",
       "    </tr>\n",
       "    <tr>\n",
       "      <th>1995-03-01</th>\n",
       "      <td>1.123</td>\n",
       "      <td>1.103</td>\n",
       "      <td>1.209</td>\n",
       "      <td>1.076</td>\n",
       "      <td>1.063</td>\n",
       "      <td>1.149</td>\n",
       "      <td>1.167</td>\n",
       "      <td>1.157</td>\n",
       "      <td>1.275</td>\n",
       "      <td>1.263</td>\n",
       "      <td>1.244</td>\n",
       "      <td>1.358</td>\n",
       "      <td>1.089</td>\n",
       "    </tr>\n",
       "    <tr>\n",
       "      <th>1995-04-01</th>\n",
       "      <td>1.133</td>\n",
       "      <td>1.116</td>\n",
       "      <td>1.198</td>\n",
       "      <td>1.087</td>\n",
       "      <td>1.077</td>\n",
       "      <td>1.140</td>\n",
       "      <td>1.174</td>\n",
       "      <td>1.167</td>\n",
       "      <td>1.266</td>\n",
       "      <td>1.270</td>\n",
       "      <td>1.255</td>\n",
       "      <td>1.350</td>\n",
       "      <td>1.094</td>\n",
       "    </tr>\n",
       "    <tr>\n",
       "      <th>1995-05-01</th>\n",
       "      <td>1.194</td>\n",
       "      <td>1.181</td>\n",
       "      <td>1.242</td>\n",
       "      <td>1.148</td>\n",
       "      <td>1.141</td>\n",
       "      <td>1.188</td>\n",
       "      <td>1.236</td>\n",
       "      <td>1.234</td>\n",
       "      <td>1.305</td>\n",
       "      <td>1.332</td>\n",
       "      <td>1.323</td>\n",
       "      <td>1.389</td>\n",
       "      <td>1.119</td>\n",
       "    </tr>\n",
       "  </tbody>\n",
       "</table>\n",
       "</div>"
      ],
      "text/plain": [
       "            all_grades_all_formulation  all_grades_conventional  \\\n",
       "Date                                                              \n",
       "1995-01-01                       1.127                    1.104   \n",
       "1995-02-01                       1.124                    1.103   \n",
       "1995-03-01                       1.123                    1.103   \n",
       "1995-04-01                       1.133                    1.116   \n",
       "1995-05-01                       1.194                    1.181   \n",
       "\n",
       "            all_grades_refomulated  regular_all_formulation  \\\n",
       "Date                                                          \n",
       "1995-01-01                   1.231                    1.079   \n",
       "1995-02-01                   1.218                    1.076   \n",
       "1995-03-01                   1.209                    1.076   \n",
       "1995-04-01                   1.198                    1.087   \n",
       "1995-05-01                   1.242                    1.148   \n",
       "\n",
       "            regular_conventional  regular_reformulated  \\\n",
       "Date                                                     \n",
       "1995-01-01                 1.063                 1.167   \n",
       "1995-02-01                 1.062                 1.159   \n",
       "1995-03-01                 1.063                 1.149   \n",
       "1995-04-01                 1.077                 1.140   \n",
       "1995-05-01                 1.141                 1.188   \n",
       "\n",
       "            midgrade_all_formulation  midgrade_conventional  \\\n",
       "Date                                                          \n",
       "1995-01-01                     1.170                  1.159   \n",
       "1995-02-01                     1.169                  1.157   \n",
       "1995-03-01                     1.167                  1.157   \n",
       "1995-04-01                     1.174                  1.167   \n",
       "1995-05-01                     1.236                  1.234   \n",
       "\n",
       "            midgrade_reformulated  premium_all_formulation  \\\n",
       "Date                                                         \n",
       "1995-01-01                  1.298                    1.272   \n",
       "1995-02-01                  1.288                    1.270   \n",
       "1995-03-01                  1.275                    1.263   \n",
       "1995-04-01                  1.266                    1.270   \n",
       "1995-05-01                  1.305                    1.332   \n",
       "\n",
       "            premium_conventional  premium_reformulated  no_2_diesel  \n",
       "Date                                                                 \n",
       "1995-01-01                 1.250                 1.386        1.104  \n",
       "1995-02-01                 1.250                 1.368        1.086  \n",
       "1995-03-01                 1.244                 1.358        1.089  \n",
       "1995-04-01                 1.255                 1.350        1.094  \n",
       "1995-05-01                 1.323                 1.389        1.119  "
      ]
     },
     "execution_count": 86,
     "metadata": {},
     "output_type": "execute_result"
    }
   ],
   "source": [
    "X.iloc[:-22].head(5)\n"
   ]
  },
  {
   "cell_type": "code",
   "execution_count": 88,
   "id": "8038c984",
   "metadata": {},
   "outputs": [
    {
     "data": {
      "text/plain": [
       "StandardScaler()"
      ]
     },
     "execution_count": 88,
     "metadata": {},
     "output_type": "execute_result"
    }
   ],
   "source": [
    "# Create StandardScaler instance and Fit the scaler\n",
    "from sklearn.preprocessing import StandardScaler\n",
    "scaler=StandardScaler()\n",
    "scaler.fit(X_train)"
   ]
  },
  {
   "cell_type": "code",
   "execution_count": 89,
   "id": "5530d128",
   "metadata": {},
   "outputs": [],
   "source": [
    "# Scale the data\n",
    "X_train_scaled=scaler.transform(X_train)\n",
    "X_test_scaled=scaler.transform(X_test)"
   ]
  },
  {
   "cell_type": "code",
   "execution_count": 90,
   "id": "249c1635",
   "metadata": {},
   "outputs": [
    {
     "name": "stdout",
     "output_type": "stream",
     "text": [
      "RandomForestRegressor()\n"
     ]
    },
    {
     "data": {
      "text/plain": [
       "RandomForestRegressor(criterion='mse', n_estimators=300)"
      ]
     },
     "execution_count": 90,
     "metadata": {},
     "output_type": "execute_result"
    }
   ],
   "source": [
    "from sklearn.ensemble import RandomForestRegressor\n",
    "rfr = RandomForestRegressor()\n",
    "print(rfr)\n",
    "RandomForestRegressor(bootstrap=True, ccp_alpha=0.0, criterion='mse',\n",
    "                      max_depth=None, max_features='auto', max_leaf_nodes=None,\n",
    "                      max_samples=None, min_impurity_decrease=0.0,\n",
    "                       min_samples_leaf=1,\n",
    "                      min_samples_split=2, min_weight_fraction_leaf=0.0,\n",
    "                      n_estimators=300, n_jobs=None, oob_score=False,\n",
    "                      random_state=None, verbose=0, warm_start=False) \n"
   ]
  },
  {
   "cell_type": "code",
   "execution_count": 91,
   "id": "8932aad4",
   "metadata": {},
   "outputs": [
    {
     "name": "stdout",
     "output_type": "stream",
     "text": [
      "R-squared: 0.9891653210532949\n"
     ]
    },
    {
     "name": "stderr",
     "output_type": "stream",
     "text": [
      "C:\\Users\\julie\\anaconda3\\envs\\mlenv\\lib\\site-packages\\ipykernel_launcher.py:2: DataConversionWarning: A column-vector y was passed when a 1d array was expected. Please change the shape of y to (n_samples,), for example using ravel().\n",
      "  \n"
     ]
    }
   ],
   "source": [
    "# Train the model and get score\n",
    "rfr.fit(X_train_scaled, y_train)\n",
    "score = rfr.score(X_train_scaled, y_train)\n",
    "print(\"R-squared:\", score) "
   ]
  },
  {
   "cell_type": "code",
   "execution_count": 92,
   "id": "74c04137",
   "metadata": {},
   "outputs": [
    {
     "data": {
      "text/plain": [
       "array([238.03298, 237.73478, 238.19529, 238.58405, 238.7926 , 238.67832,\n",
       "       239.44955, 239.51026, 238.91943, 238.76427, 240.42906, 240.34557,\n",
       "       240.61239, 237.19825, 239.71293, 238.74773, 238.81965, 239.20626,\n",
       "       238.80158, 238.31317, 239.60261, 240.26605])"
      ]
     },
     "execution_count": 92,
     "metadata": {},
     "output_type": "execute_result"
    }
   ],
   "source": [
    "# Predict last 22 months CPI\n",
    "y_pred=rfr.predict(X_test_scaled)\n",
    "y_pred"
   ]
  },
  {
   "cell_type": "code",
   "execution_count": 111,
   "id": "fc267169",
   "metadata": {},
   "outputs": [
    {
     "name": "stderr",
     "output_type": "stream",
     "text": [
      "C:\\Users\\julie\\anaconda3\\envs\\mlenv\\lib\\site-packages\\ipykernel_launcher.py:2: SettingWithCopyWarning: \n",
      "A value is trying to be set on a copy of a slice from a DataFrame.\n",
      "Try using .loc[row_indexer,col_indexer] = value instead\n",
      "\n",
      "See the caveats in the documentation: https://pandas.pydata.org/pandas-docs/stable/user_guide/indexing.html#returning-a-view-versus-a-copy\n",
      "  \n"
     ]
    }
   ],
   "source": [
    "y_graph=y.iloc[-22:]\n",
    "y_graph[\"y_pred\"]=y_pred"
   ]
  },
  {
   "cell_type": "code",
   "execution_count": 112,
   "id": "41b54dd2",
   "metadata": {},
   "outputs": [
    {
     "data": {
      "text/html": [
       "<div>\n",
       "<style scoped>\n",
       "    .dataframe tbody tr th:only-of-type {\n",
       "        vertical-align: middle;\n",
       "    }\n",
       "\n",
       "    .dataframe tbody tr th {\n",
       "        vertical-align: top;\n",
       "    }\n",
       "\n",
       "    .dataframe thead th {\n",
       "        text-align: right;\n",
       "    }\n",
       "</style>\n",
       "<table border=\"1\" class=\"dataframe\">\n",
       "  <thead>\n",
       "    <tr style=\"text-align: right;\">\n",
       "      <th></th>\n",
       "      <th>CPI</th>\n",
       "      <th>y_pred</th>\n",
       "    </tr>\n",
       "    <tr>\n",
       "      <th>Date</th>\n",
       "      <th></th>\n",
       "      <th></th>\n",
       "    </tr>\n",
       "  </thead>\n",
       "  <tbody>\n",
       "    <tr>\n",
       "      <th>2019-04-01</th>\n",
       "      <td>241.484</td>\n",
       "      <td>238.03298</td>\n",
       "    </tr>\n",
       "    <tr>\n",
       "      <th>2019-05-01</th>\n",
       "      <td>241.969</td>\n",
       "      <td>237.73478</td>\n",
       "    </tr>\n",
       "    <tr>\n",
       "      <th>2019-06-01</th>\n",
       "      <td>241.371</td>\n",
       "      <td>238.19529</td>\n",
       "    </tr>\n",
       "    <tr>\n",
       "      <th>2019-07-01</th>\n",
       "      <td>241.134</td>\n",
       "      <td>238.58405</td>\n",
       "    </tr>\n",
       "    <tr>\n",
       "      <th>2019-08-01</th>\n",
       "      <td>241.014</td>\n",
       "      <td>238.79260</td>\n",
       "    </tr>\n",
       "    <tr>\n",
       "      <th>2019-09-01</th>\n",
       "      <td>241.435</td>\n",
       "      <td>238.67832</td>\n",
       "    </tr>\n",
       "    <tr>\n",
       "      <th>2019-10-01</th>\n",
       "      <td>241.892</td>\n",
       "      <td>239.44955</td>\n",
       "    </tr>\n",
       "    <tr>\n",
       "      <th>2019-11-01</th>\n",
       "      <td>242.474</td>\n",
       "      <td>239.51026</td>\n",
       "    </tr>\n",
       "    <tr>\n",
       "      <th>2019-12-01</th>\n",
       "      <td>242.527</td>\n",
       "      <td>238.91943</td>\n",
       "    </tr>\n",
       "    <tr>\n",
       "      <th>2020-01-01</th>\n",
       "      <td>243.179</td>\n",
       "      <td>238.76427</td>\n",
       "    </tr>\n",
       "    <tr>\n",
       "      <th>2020-02-01</th>\n",
       "      <td>244.115</td>\n",
       "      <td>240.42906</td>\n",
       "    </tr>\n",
       "    <tr>\n",
       "      <th>2020-03-01</th>\n",
       "      <td>245.207</td>\n",
       "      <td>240.34557</td>\n",
       "    </tr>\n",
       "    <tr>\n",
       "      <th>2020-04-01</th>\n",
       "      <td>251.290</td>\n",
       "      <td>240.61239</td>\n",
       "    </tr>\n",
       "    <tr>\n",
       "      <th>2020-05-01</th>\n",
       "      <td>253.635</td>\n",
       "      <td>237.19825</td>\n",
       "    </tr>\n",
       "    <tr>\n",
       "      <th>2020-06-01</th>\n",
       "      <td>254.850</td>\n",
       "      <td>239.71293</td>\n",
       "    </tr>\n",
       "    <tr>\n",
       "      <th>2020-07-01</th>\n",
       "      <td>252.215</td>\n",
       "      <td>238.74773</td>\n",
       "    </tr>\n",
       "    <tr>\n",
       "      <th>2020-08-01</th>\n",
       "      <td>252.148</td>\n",
       "      <td>238.81965</td>\n",
       "    </tr>\n",
       "    <tr>\n",
       "      <th>2020-09-01</th>\n",
       "      <td>251.303</td>\n",
       "      <td>239.20626</td>\n",
       "    </tr>\n",
       "    <tr>\n",
       "      <th>2020-10-01</th>\n",
       "      <td>251.478</td>\n",
       "      <td>238.80158</td>\n",
       "    </tr>\n",
       "    <tr>\n",
       "      <th>2020-11-01</th>\n",
       "      <td>251.241</td>\n",
       "      <td>238.31317</td>\n",
       "    </tr>\n",
       "    <tr>\n",
       "      <th>2020-12-01</th>\n",
       "      <td>252.009</td>\n",
       "      <td>239.60261</td>\n",
       "    </tr>\n",
       "    <tr>\n",
       "      <th>2021-01-01</th>\n",
       "      <td>252.270</td>\n",
       "      <td>240.26605</td>\n",
       "    </tr>\n",
       "  </tbody>\n",
       "</table>\n",
       "</div>"
      ],
      "text/plain": [
       "                CPI     y_pred\n",
       "Date                          \n",
       "2019-04-01  241.484  238.03298\n",
       "2019-05-01  241.969  237.73478\n",
       "2019-06-01  241.371  238.19529\n",
       "2019-07-01  241.134  238.58405\n",
       "2019-08-01  241.014  238.79260\n",
       "2019-09-01  241.435  238.67832\n",
       "2019-10-01  241.892  239.44955\n",
       "2019-11-01  242.474  239.51026\n",
       "2019-12-01  242.527  238.91943\n",
       "2020-01-01  243.179  238.76427\n",
       "2020-02-01  244.115  240.42906\n",
       "2020-03-01  245.207  240.34557\n",
       "2020-04-01  251.290  240.61239\n",
       "2020-05-01  253.635  237.19825\n",
       "2020-06-01  254.850  239.71293\n",
       "2020-07-01  252.215  238.74773\n",
       "2020-08-01  252.148  238.81965\n",
       "2020-09-01  251.303  239.20626\n",
       "2020-10-01  251.478  238.80158\n",
       "2020-11-01  251.241  238.31317\n",
       "2020-12-01  252.009  239.60261\n",
       "2021-01-01  252.270  240.26605"
      ]
     },
     "execution_count": 112,
     "metadata": {},
     "output_type": "execute_result"
    }
   ],
   "source": [
    "y_graph\n"
   ]
  },
  {
   "cell_type": "code",
   "execution_count": 118,
   "id": "04176e7c",
   "metadata": {},
   "outputs": [],
   "source": [
    "y_graph=y_graph.drop(\"CPI\",axis=1)"
   ]
  },
  {
   "cell_type": "code",
   "execution_count": 123,
   "id": "dfdbd3da",
   "metadata": {},
   "outputs": [
    {
     "data": {
      "image/png": "[encoded data removed]",
      "text/plain": [
       "<Figure size 720x432 with 1 Axes>"
      ]
     },
     "metadata": {
      "needs_background": "light"
     },
     "output_type": "display_data"
    }
   ],
   "source": [
    "figl,ax=plt.subplots(figsize=(10,6))\n",
    "ax.plot(y.iloc[:-22],label=\"CPI_train\")\n",
    "ax.plot(y.iloc[-22:],label=\"CPI_test\")\n",
    "ax.plot(y_graph,label=\"predictions\")\n",
    "\n",
    "plt.legend(loc=\"upper left\")\n",
    "plt.title(\"Random Forest Regressor\")\n",
    "plt.ylabel(\"CPI\")\n",
    "plt.xlabel(\"Date\")\n",
    "plt.show()"
   ]
  },
  {
   "cell_type": "code",
   "execution_count": 94,
   "id": "3c63e2fe",
   "metadata": {},
   "outputs": [
    {
     "name": "stdout",
     "output_type": "stream",
     "text": [
      "MSE:  85.81449739348153\n",
      "RMSE:  9.26361146602563\n"
     ]
    }
   ],
   "source": [
    "from sklearn.metrics import mean_squared_error\n",
    "mse = mean_squared_error(y_test, y_pred)\n",
    "print(\"MSE: \", mse)\n",
    "print(\"RMSE: \", mse**(1/2.0)) "
   ]
  },
  {
   "cell_type": "markdown",
   "id": "d3947a41",
   "metadata": {},
   "source": [
    "## Second model: Linear Regression model"
   ]
  },
  {
   "cell_type": "code",
   "execution_count": 35,
   "id": "84e9e090",
   "metadata": {},
   "outputs": [],
   "source": [
    "import numpy as np\n",
    "import pandas as pd\n",
    "from sklearn.datasets import load_diabetes\n",
    "from sklearn.metrics import mean_squared_error\n",
    "from sklearn.linear_model import LinearRegression"
   ]
  },
  {
   "cell_type": "code",
   "execution_count": 36,
   "id": "57f32e23",
   "metadata": {},
   "outputs": [
    {
     "name": "stderr",
     "output_type": "stream",
     "text": [
      "C:\\Users\\julie\\anaconda3\\envs\\mlenv\\lib\\site-packages\\ipykernel_launcher.py:2: FutureWarning: In a future version of pandas all arguments of DataFrame.drop except for the argument 'labels' will be keyword-only\n",
      "  \n"
     ]
    }
   ],
   "source": [
    "# Define our features (X) and outcome(y)\n",
    "X=cpi_gas_df.drop([\"CPI\"],1)\n",
    "y=cpi_gas_df[\"CPI\"]"
   ]
  },
  {
   "cell_type": "code",
   "execution_count": 37,
   "id": "84aafc62",
   "metadata": {},
   "outputs": [],
   "source": [
    "# Split the training and test set\n",
    "X_train = X.iloc[:-22].values\n",
    "y_train=y.iloc[:-22].values\n",
    "X_test = X.iloc[-22:].values\n",
    "y_test=y.iloc[-22:].values"
   ]
  },
  {
   "cell_type": "code",
   "execution_count": 38,
   "id": "4562877e",
   "metadata": {},
   "outputs": [
    {
     "data": {
      "text/plain": [
       "StandardScaler()"
      ]
     },
     "execution_count": 38,
     "metadata": {},
     "output_type": "execute_result"
    }
   ],
   "source": [
    "# Create StandardScaler instance and Fit the scaler\n",
    "scaler=StandardScaler()\n",
    "scaler.fit(X_train)"
   ]
  },
  {
   "cell_type": "code",
   "execution_count": 39,
   "id": "af91daf6",
   "metadata": {},
   "outputs": [],
   "source": [
    "# Scale the data\n",
    "X_train_scaled=scaler.transform(X_train)\n",
    "X_test_scaled=scaler.transform(X_test)"
   ]
  },
  {
   "cell_type": "code",
   "execution_count": 40,
   "id": "2da85a56",
   "metadata": {},
   "outputs": [
    {
     "data": {
      "text/plain": [
       "LinearRegression()"
      ]
     },
     "execution_count": 40,
     "metadata": {},
     "output_type": "execute_result"
    }
   ],
   "source": [
    "linreg = LinearRegression()\n",
    "linreg.fit(X_train_scaled, y_train)"
   ]
  },
  {
   "cell_type": "code",
   "execution_count": 41,
   "id": "98e4a191",
   "metadata": {},
   "outputs": [
    {
     "data": {
      "text/plain": [
       "array([270.66137835, 274.25855853, 259.2695272 , 252.76458311,\n",
       "       261.94330551, 261.67126825, 304.43461923, 284.79198885,\n",
       "       254.81494935, 242.41299153, 255.76782866, 259.40268689,\n",
       "       236.66257263, 241.16189401, 245.373491  , 238.79700284,\n",
       "       230.76615353, 233.75473846, 241.81681629, 246.36373786,\n",
       "       247.69540564, 257.0298217 ])"
      ]
     },
     "execution_count": 41,
     "metadata": {},
     "output_type": "execute_result"
    }
   ],
   "source": [
    "y_pre_LR=linreg.predict(X_test_scaled)\n",
    "y_pre_LR"
   ]
  },
  {
   "cell_type": "code",
   "execution_count": 130,
   "id": "c4a82391",
   "metadata": {},
   "outputs": [
    {
     "name": "stderr",
     "output_type": "stream",
     "text": [
      "C:\\Users\\julie\\anaconda3\\envs\\mlenv\\lib\\site-packages\\ipykernel_launcher.py:2: SettingWithCopyWarning: \n",
      "A value is trying to be set on a copy of a slice from a DataFrame.\n",
      "Try using .loc[row_indexer,col_indexer] = value instead\n",
      "\n",
      "See the caveats in the documentation: https://pandas.pydata.org/pandas-docs/stable/user_guide/indexing.html#returning-a-view-versus-a-copy\n",
      "  \n"
     ]
    }
   ],
   "source": [
    "y_graph_LR=y.iloc[-22:]\n",
    "y_graph_LR[\"y_pred\"]=y_pre_LR"
   ]
  },
  {
   "cell_type": "code",
   "execution_count": 131,
   "id": "f5904e22",
   "metadata": {},
   "outputs": [],
   "source": [
    "y_graph_LR=y_graph_LR.drop(\"CPI\",axis=1)"
   ]
  },
  {
   "cell_type": "code",
   "execution_count": 133,
   "id": "0ff6b58c",
   "metadata": {},
   "outputs": [
    {
     "data": {
      "image/png": "[encoded data removed]",
      "text/plain": [
       "<Figure size 720x432 with 1 Axes>"
      ]
     },
     "metadata": {
      "needs_background": "light"
     },
     "output_type": "display_data"
    }
   ],
   "source": [
    "figl,ax=plt.subplots(figsize=(10,6))\n",
    "ax.plot(y.iloc[:-22],label=\"CPI_train\")\n",
    "ax.plot(y.iloc[-22:],label=\"CPI_test\")\n",
    "ax.plot(y_graph_LR,label=\"predictions\")\n",
    "\n",
    "plt.legend(loc=\"upper left\")\n",
    "plt.title(\"Linear Regression Model\")\n",
    "plt.ylabel(\"CPI\")\n",
    "plt.xlabel(\"Date\")\n",
    "plt.show()"
   ]
  },
  {
   "cell_type": "code",
   "execution_count": 124,
   "id": "102f440e",
   "metadata": {},
   "outputs": [
    {
     "name": "stdout",
     "output_type": "stream",
     "text": [
      "R-squared: 0.9746453058668233\n"
     ]
    }
   ],
   "source": [
    "score = linreg.score(X_train_scaled, y_train)\n",
    "print(\"R-squared:\", score) "
   ]
  },
  {
   "cell_type": "code",
   "execution_count": 121,
   "id": "b22a2fe5",
   "metadata": {},
   "outputs": [
    {
     "name": "stdout",
     "output_type": "stream",
     "text": [
      "MSE:  497.7856273713054\n",
      "RMSE:  22.311109953816853\n"
     ]
    }
   ],
   "source": [
    "mse = mean_squared_error(y_test, y_pre_LR)\n",
    "print(\"MSE: \", mse)\n",
    "print(\"RMSE: \", mse**(1/2.0)) "
   ]
  },
  {
   "cell_type": "markdown",
   "id": "f687b941",
   "metadata": {},
   "source": [
    "## Sub Linear Regression Model: OLS method"
   ]
  },
  {
   "cell_type": "code",
   "execution_count": 125,
   "id": "5b69409e",
   "metadata": {},
   "outputs": [],
   "source": [
    "import statsmodels.api as sm"
   ]
  },
  {
   "cell_type": "code",
   "execution_count": 126,
   "id": "a5732522",
   "metadata": {},
   "outputs": [],
   "source": [
    "X_train_scaled = sm.add_constant(X_train_scaled)\n",
    "model_OLS = sm.OLS(y_train, X_train_scaled).fit()"
   ]
  },
  {
   "cell_type": "code",
   "execution_count": 127,
   "id": "2cf4fa60",
   "metadata": {},
   "outputs": [
    {
     "ename": "ValueError",
     "evalue": "shapes (22,13) and (14,) not aligned: 13 (dim 1) != 14 (dim 0)",
     "output_type": "error",
     "traceback": [
      "\u001b[1;31m---------------------------------------------------------------------------\u001b[0m",
      "\u001b[1;31mValueError\u001b[0m                                Traceback (most recent call last)",
      "\u001b[1;32m~\\AppData\\Local\\Temp\\ipykernel_7268\\2145527963.py\u001b[0m in \u001b[0;36m<module>\u001b[1;34m\u001b[0m\n\u001b[1;32m----> 1\u001b[1;33m \u001b[0my_pre_OLS\u001b[0m\u001b[1;33m=\u001b[0m\u001b[0mmodel_OLS\u001b[0m\u001b[1;33m.\u001b[0m\u001b[0mpredict\u001b[0m\u001b[1;33m(\u001b[0m\u001b[0mX_test_scaled\u001b[0m\u001b[1;33m)\u001b[0m\u001b[1;33m\u001b[0m\u001b[1;33m\u001b[0m\u001b[0m\n\u001b[0m\u001b[0;32m      2\u001b[0m \u001b[0my_pre_OLS\u001b[0m\u001b[1;33m\u001b[0m\u001b[1;33m\u001b[0m\u001b[0m\n",
      "\u001b[1;32m~\\anaconda3\\envs\\mlenv\\lib\\site-packages\\statsmodels\\base\\model.py\u001b[0m in \u001b[0;36mpredict\u001b[1;34m(self, exog, transform, *args, **kwargs)\u001b[0m\n\u001b[0;32m   1158\u001b[0m \u001b[1;33m\u001b[0m\u001b[0m\n\u001b[0;32m   1159\u001b[0m         predict_results = self.model.predict(self.params, exog, *args,\n\u001b[1;32m-> 1160\u001b[1;33m                                              **kwargs)\n\u001b[0m\u001b[0;32m   1161\u001b[0m \u001b[1;33m\u001b[0m\u001b[0m\n\u001b[0;32m   1162\u001b[0m         if exog_index is not None and not hasattr(predict_results,\n",
      "\u001b[1;32m~\\anaconda3\\envs\\mlenv\\lib\\site-packages\\statsmodels\\regression\\linear_model.py\u001b[0m in \u001b[0;36mpredict\u001b[1;34m(self, params, exog)\u001b[0m\n\u001b[0;32m    379\u001b[0m             \u001b[0mexog\u001b[0m \u001b[1;33m=\u001b[0m \u001b[0mself\u001b[0m\u001b[1;33m.\u001b[0m\u001b[0mexog\u001b[0m\u001b[1;33m\u001b[0m\u001b[1;33m\u001b[0m\u001b[0m\n\u001b[0;32m    380\u001b[0m \u001b[1;33m\u001b[0m\u001b[0m\n\u001b[1;32m--> 381\u001b[1;33m         \u001b[1;32mreturn\u001b[0m \u001b[0mnp\u001b[0m\u001b[1;33m.\u001b[0m\u001b[0mdot\u001b[0m\u001b[1;33m(\u001b[0m\u001b[0mexog\u001b[0m\u001b[1;33m,\u001b[0m \u001b[0mparams\u001b[0m\u001b[1;33m)\u001b[0m\u001b[1;33m\u001b[0m\u001b[1;33m\u001b[0m\u001b[0m\n\u001b[0m\u001b[0;32m    382\u001b[0m \u001b[1;33m\u001b[0m\u001b[0m\n\u001b[0;32m    383\u001b[0m     \u001b[1;32mdef\u001b[0m \u001b[0mget_distribution\u001b[0m\u001b[1;33m(\u001b[0m\u001b[0mself\u001b[0m\u001b[1;33m,\u001b[0m \u001b[0mparams\u001b[0m\u001b[1;33m,\u001b[0m \u001b[0mscale\u001b[0m\u001b[1;33m,\u001b[0m \u001b[0mexog\u001b[0m\u001b[1;33m=\u001b[0m\u001b[1;32mNone\u001b[0m\u001b[1;33m,\u001b[0m \u001b[0mdist_class\u001b[0m\u001b[1;33m=\u001b[0m\u001b[1;32mNone\u001b[0m\u001b[1;33m)\u001b[0m\u001b[1;33m:\u001b[0m\u001b[1;33m\u001b[0m\u001b[1;33m\u001b[0m\u001b[0m\n",
      "\u001b[1;32m<__array_function__ internals>\u001b[0m in \u001b[0;36mdot\u001b[1;34m(*args, **kwargs)\u001b[0m\n",
      "\u001b[1;31mValueError\u001b[0m: shapes (22,13) and (14,) not aligned: 13 (dim 1) != 14 (dim 0)"
     ]
    }
   ],
   "source": [
    "y_pred_OLS=model_OLS.predict(X_test_scaled)\n",
    "y_pred_OLS"
   ]
  },
  {
   "cell_type": "code",
   "execution_count": 128,
   "id": "4338a2a8",
   "metadata": {},
   "outputs": [
    {
     "name": "stdout",
     "output_type": "stream",
     "text": [
      "                            OLS Regression Results                            \n",
      "==============================================================================\n",
      "Dep. Variable:                      y   R-squared:                       0.975\n",
      "Model:                            OLS   Adj. R-squared:                  0.973\n",
      "Method:                 Least Squares   F-statistic:                     819.1\n",
      "Date:                Wed, 05 Oct 2022   Prob (F-statistic):          1.88e-212\n",
      "Time:                        19:01:20   Log-Likelihood:                -883.84\n",
      "No. Observations:                 291   AIC:                             1796.\n",
      "Df Residuals:                     277   BIC:                             1847.\n",
      "Df Model:                          13                                         \n",
      "Covariance Type:            nonrobust                                         \n",
      "==============================================================================\n",
      "                 coef    std err          t      P>|t|      [0.025      0.975]\n",
      "------------------------------------------------------------------------------\n",
      "const        199.9798      0.303    659.777      0.000     199.383     200.576\n",
      "x1          -838.7968    257.321     -3.260      0.001   -1345.350    -332.244\n",
      "x2          1490.4934    276.078      5.399      0.000     947.015    2033.972\n",
      "x3          -169.2657    150.639     -1.124      0.262    -465.807     127.276\n",
      "x4          -364.0531    388.161     -0.938      0.349   -1128.174     400.068\n",
      "x5          -156.0001    288.520     -0.541      0.589    -723.970     411.970\n",
      "x6           208.8176    117.575      1.776      0.077     -22.637     440.272\n",
      "x7           656.5766    199.776      3.287      0.001     263.305    1049.849\n",
      "x8         -1211.4012    139.995     -8.653      0.000   -1486.991    -935.811\n",
      "x9           159.9196     83.481      1.916      0.056      -4.418     324.257\n",
      "x10          737.8902    284.792      2.591      0.010     177.258    1298.523\n",
      "x11         -201.5862    195.174     -1.033      0.303    -585.799     182.627\n",
      "x12         -291.8205    107.619     -2.712      0.007    -503.675     -79.966\n",
      "x13            7.0246      2.114      3.323      0.001       2.864      11.185\n",
      "==============================================================================\n",
      "Omnibus:                       10.814   Durbin-Watson:                   0.643\n",
      "Prob(Omnibus):                  0.004   Jarque-Bera (JB):               14.088\n",
      "Skew:                           0.306   Prob(JB):                     0.000873\n",
      "Kurtosis:                       3.888   Cond. No.                     6.81e+03\n",
      "==============================================================================\n",
      "\n",
      "Notes:\n",
      "[1] Standard Errors assume that the covariance matrix of the errors is correctly specified.\n",
      "[2] The condition number is large, 6.81e+03. This might indicate that there are\n",
      "strong multicollinearity or other numerical problems.\n"
     ]
    }
   ],
   "source": [
    "# Score the model\n",
    "print(model_OLS.summary())"
   ]
  },
  {
   "cell_type": "code",
   "execution_count": 129,
   "id": "80d6305b",
   "metadata": {},
   "outputs": [
    {
     "name": "stdout",
     "output_type": "stream",
     "text": [
      "MSE:  85.81449739348153\n",
      "RMSE:  9.26361146602563\n"
     ]
    }
   ],
   "source": [
    "mse = mean_squared_error(y_test, y_pred)\n",
    "print(\"MSE: \", mse)\n",
    "print(\"RMSE: \", mse**(1/2.0)) "
   ]
  },
  {
   "cell_type": "markdown",
   "id": "eb5bd1f4",
   "metadata": {},
   "source": [
    "## Third model: Brown Simple Exponential Smoothing Method"
   ]
  },
  {
   "cell_type": "code",
   "execution_count": 44,
   "id": "cd5d220a",
   "metadata": {},
   "outputs": [],
   "source": [
    "import statsmodels.tsa.holtwinters as ets"
   ]
  },
  {
   "cell_type": "code",
   "execution_count": 45,
   "id": "04a723d2",
   "metadata": {},
   "outputs": [
    {
     "data": {
      "text/html": [
       "<div>\n",
       "<style scoped>\n",
       "    .dataframe tbody tr th:only-of-type {\n",
       "        vertical-align: middle;\n",
       "    }\n",
       "\n",
       "    .dataframe tbody tr th {\n",
       "        vertical-align: top;\n",
       "    }\n",
       "\n",
       "    .dataframe thead th {\n",
       "        text-align: right;\n",
       "    }\n",
       "</style>\n",
       "<table border=\"1\" class=\"dataframe\">\n",
       "  <thead>\n",
       "    <tr style=\"text-align: right;\">\n",
       "      <th></th>\n",
       "      <th>Date</th>\n",
       "      <th>CPI</th>\n",
       "    </tr>\n",
       "  </thead>\n",
       "  <tbody>\n",
       "    <tr>\n",
       "      <th>0</th>\n",
       "      <td>1995-01-01</td>\n",
       "      <td>147.0</td>\n",
       "    </tr>\n",
       "    <tr>\n",
       "      <th>1</th>\n",
       "      <td>1995-02-01</td>\n",
       "      <td>147.7</td>\n",
       "    </tr>\n",
       "    <tr>\n",
       "      <th>2</th>\n",
       "      <td>1995-03-01</td>\n",
       "      <td>147.1</td>\n",
       "    </tr>\n",
       "    <tr>\n",
       "      <th>3</th>\n",
       "      <td>1995-04-01</td>\n",
       "      <td>148.7</td>\n",
       "    </tr>\n",
       "    <tr>\n",
       "      <th>4</th>\n",
       "      <td>1995-05-01</td>\n",
       "      <td>148.7</td>\n",
       "    </tr>\n",
       "  </tbody>\n",
       "</table>\n",
       "</div>"
      ],
      "text/plain": [
       "        Date    CPI\n",
       "0 1995-01-01  147.0\n",
       "1 1995-02-01  147.7\n",
       "2 1995-03-01  147.1\n",
       "3 1995-04-01  148.7\n",
       "4 1995-05-01  148.7"
      ]
     },
     "execution_count": 45,
     "metadata": {},
     "output_type": "execute_result"
    }
   ],
   "source": [
    "cpi_df.head()"
   ]
  },
  {
   "cell_type": "code",
   "execution_count": 49,
   "id": "e30f54ae",
   "metadata": {},
   "outputs": [],
   "source": [
    "cpi_df=cpi_df.set_index(\"Date\")"
   ]
  },
  {
   "cell_type": "code",
   "execution_count": 50,
   "id": "0403d55e",
   "metadata": {},
   "outputs": [],
   "source": [
    "CPI_train=cpi_df[:-22]\n",
    "CPI_test =cpi_df[-22:]"
   ]
  },
  {
   "cell_type": "code",
   "execution_count": 51,
   "id": "dc71c912",
   "metadata": {},
   "outputs": [
    {
     "data": {
      "text/html": [
       "<div>\n",
       "<style scoped>\n",
       "    .dataframe tbody tr th:only-of-type {\n",
       "        vertical-align: middle;\n",
       "    }\n",
       "\n",
       "    .dataframe tbody tr th {\n",
       "        vertical-align: top;\n",
       "    }\n",
       "\n",
       "    .dataframe thead th {\n",
       "        text-align: right;\n",
       "    }\n",
       "</style>\n",
       "<table border=\"1\" class=\"dataframe\">\n",
       "  <thead>\n",
       "    <tr style=\"text-align: right;\">\n",
       "      <th></th>\n",
       "      <th>CPI</th>\n",
       "    </tr>\n",
       "    <tr>\n",
       "      <th>Date</th>\n",
       "      <th></th>\n",
       "    </tr>\n",
       "  </thead>\n",
       "  <tbody>\n",
       "    <tr>\n",
       "      <th>1995-01-01</th>\n",
       "      <td>147.000</td>\n",
       "    </tr>\n",
       "    <tr>\n",
       "      <th>1995-02-01</th>\n",
       "      <td>147.700</td>\n",
       "    </tr>\n",
       "    <tr>\n",
       "      <th>1995-03-01</th>\n",
       "      <td>147.100</td>\n",
       "    </tr>\n",
       "    <tr>\n",
       "      <th>1995-04-01</th>\n",
       "      <td>148.700</td>\n",
       "    </tr>\n",
       "    <tr>\n",
       "      <th>1995-05-01</th>\n",
       "      <td>148.700</td>\n",
       "    </tr>\n",
       "    <tr>\n",
       "      <th>...</th>\n",
       "      <td>...</td>\n",
       "    </tr>\n",
       "    <tr>\n",
       "      <th>2018-11-01</th>\n",
       "      <td>239.990</td>\n",
       "    </tr>\n",
       "    <tr>\n",
       "      <th>2018-12-01</th>\n",
       "      <td>240.786</td>\n",
       "    </tr>\n",
       "    <tr>\n",
       "      <th>2019-01-01</th>\n",
       "      <td>241.320</td>\n",
       "    </tr>\n",
       "    <tr>\n",
       "      <th>2019-02-01</th>\n",
       "      <td>242.077</td>\n",
       "    </tr>\n",
       "    <tr>\n",
       "      <th>2019-03-01</th>\n",
       "      <td>242.603</td>\n",
       "    </tr>\n",
       "  </tbody>\n",
       "</table>\n",
       "<p>291 rows × 1 columns</p>\n",
       "</div>"
      ],
      "text/plain": [
       "                CPI\n",
       "Date               \n",
       "1995-01-01  147.000\n",
       "1995-02-01  147.700\n",
       "1995-03-01  147.100\n",
       "1995-04-01  148.700\n",
       "1995-05-01  148.700\n",
       "...             ...\n",
       "2018-11-01  239.990\n",
       "2018-12-01  240.786\n",
       "2019-01-01  241.320\n",
       "2019-02-01  242.077\n",
       "2019-03-01  242.603\n",
       "\n",
       "[291 rows x 1 columns]"
      ]
     },
     "execution_count": 51,
     "metadata": {},
     "output_type": "execute_result"
    }
   ],
   "source": [
    "CPI_train"
   ]
  },
  {
   "cell_type": "code",
   "execution_count": 52,
   "id": "49ef8a3a",
   "metadata": {},
   "outputs": [
    {
     "name": "stderr",
     "output_type": "stream",
     "text": [
      "C:\\Users\\julie\\anaconda3\\envs\\mlenv\\lib\\site-packages\\ipykernel_launcher.py:1: FutureWarning: the 'damped'' keyword is deprecated, use 'damped_trend' instead\n",
      "  \"\"\"Entry point for launching an IPython kernel.\n",
      "C:\\Users\\julie\\anaconda3\\envs\\mlenv\\lib\\site-packages\\statsmodels\\tsa\\base\\tsa_model.py:471: ValueWarning: No frequency information was provided, so inferred frequency MS will be used.\n",
      "  self._init_dates(dates, freq)\n"
     ]
    }
   ],
   "source": [
    "model=ets.ExponentialSmoothing(CPI_train,trend=\"additive\",damped=False, seasonal=None).fit()\n"
   ]
  },
  {
   "cell_type": "code",
   "execution_count": null,
   "id": "4bd86b40",
   "metadata": {},
   "outputs": [],
   "source": [
    "model=ets.ExponentialSmoothing(CPI_train,trend=\"additive\",damped=False, seasonal=None).fit()"
   ]
  },
  {
   "cell_type": "code",
   "execution_count": null,
   "id": "4979cbb0",
   "metadata": {},
   "outputs": [],
   "source": [
    "predictions=model.forecast(steps=len(CPI_test))\n"
   ]
  },
  {
   "cell_type": "code",
   "execution_count": 53,
   "id": "96484a4a",
   "metadata": {},
   "outputs": [
    {
     "data": {
      "text/plain": [
       "2019-04-01    243.100247\n",
       "2019-05-01    243.597493\n",
       "2019-06-01    244.094740\n",
       "2019-07-01    244.591986\n",
       "2019-08-01    245.089233\n",
       "2019-09-01    245.586480\n",
       "2019-10-01    246.083726\n",
       "2019-11-01    246.580973\n",
       "2019-12-01    247.078219\n",
       "2020-01-01    247.575466\n",
       "2020-02-01    248.072713\n",
       "2020-03-01    248.569959\n",
       "2020-04-01    249.067206\n",
       "2020-05-01    249.564453\n",
       "2020-06-01    250.061699\n",
       "2020-07-01    250.558946\n",
       "2020-08-01    251.056192\n",
       "2020-09-01    251.553439\n",
       "2020-10-01    252.050686\n",
       "2020-11-01    252.547932\n",
       "2020-12-01    253.045179\n",
       "2021-01-01    253.542425\n",
       "Freq: MS, dtype: float64"
      ]
     },
     "execution_count": 53,
     "metadata": {},
     "output_type": "execute_result"
    }
   ],
   "source": [
    "predictions"
   ]
  },
  {
   "cell_type": "code",
   "execution_count": 54,
   "id": "520a0cef",
   "metadata": {},
   "outputs": [
    {
     "data": {
      "image/png": "[encoded data removed]",
      "text/plain": [
       "<Figure size 720x432 with 1 Axes>"
      ]
     },
     "metadata": {
      "needs_background": "light"
     },
     "output_type": "display_data"
    }
   ],
   "source": [
    "figl,ax=plt.subplots(figsize=(10,6))\n",
    "ax.plot(CPI_train,label=\"CPI_train\")\n",
    "ax.plot(CPI_test,label=\"CPI_test\")\n",
    "ax.plot(predictions,label=\"predictions\")\n",
    "\n",
    "plt.legend(loc=\"upper left\")\n",
    "plt.title(\"Brown Simple Exponential Smoothing Method\")\n",
    "plt.ylabel(\"CPI\")\n",
    "plt.xlabel(\"Date\")\n",
    "plt.show()"
   ]
  },
  {
   "cell_type": "code",
   "execution_count": 55,
   "id": "db6105f1",
   "metadata": {},
   "outputs": [
    {
     "name": "stdout",
     "output_type": "stream",
     "text": [
      "MSE:  9.686378243459739\n",
      "RMSE:  3.1122946909731635\n"
     ]
    }
   ],
   "source": [
    "mse = mean_squared_error(CPI_test, predictions)\n",
    "print(\"MSE: \", mse)\n",
    "print(\"RMSE: \", mse**(1/2.0)) "
   ]
  },
  {
   "cell_type": "markdown",
   "id": "4a374a1c",
   "metadata": {},
   "source": [
    "## Triple Exponential smoothing \n",
    "Almost exactly like Brown Exponential smoothing. Just for testing purpose.  \n"
   ]
  },
  {
   "cell_type": "code",
   "execution_count": 56,
   "id": "b2b65ec5",
   "metadata": {},
   "outputs": [],
   "source": [
    "from statsmodels.tsa.holtwinters import ExponentialSmoothing"
   ]
  },
  {
   "cell_type": "code",
   "execution_count": 57,
   "id": "cf0b7902",
   "metadata": {},
   "outputs": [
    {
     "name": "stderr",
     "output_type": "stream",
     "text": [
      "C:\\Users\\julie\\anaconda3\\envs\\mlenv\\lib\\site-packages\\statsmodels\\tsa\\base\\tsa_model.py:471: ValueWarning: No frequency information was provided, so inferred frequency MS will be used.\n",
      "  self._init_dates(dates, freq)\n"
     ]
    }
   ],
   "source": [
    "model_t = ExponentialSmoothing(CPI_train,trend=\"additive\",seasonal=\"mul\",seasonal_periods=12).fit()"
   ]
  },
  {
   "cell_type": "code",
   "execution_count": 58,
   "id": "eeeb9454",
   "metadata": {},
   "outputs": [
    {
     "data": {
      "image/png": "[encoded data removed]",
      "text/plain": [
       "<Figure size 720x432 with 1 Axes>"
      ]
     },
     "metadata": {
      "needs_background": "light"
     },
     "output_type": "display_data"
    }
   ],
   "source": [
    "figl,ax=plt.subplots(figsize=(10,6))\n",
    "ax.plot(CPI_train,label=\"CPI_train\")\n",
    "ax.plot(CPI_test,label=\"CPI_test\")\n",
    "ax.plot(model.forecast(22),label=\"predictions\")\n",
    "\n",
    "plt.legend(loc=\"upper left\")\n",
    "plt.title(\"Triple Exponential Smoothing Method\")\n",
    "plt.ylabel(\"CPI\")\n",
    "plt.xlabel(\"Date\")\n",
    "plt.show()"
   ]
  },
  {
   "cell_type": "code",
   "execution_count": 59,
   "id": "f8430140",
   "metadata": {},
   "outputs": [],
   "source": [
    "predictions_triple=model_t.forecast(22)"
   ]
  },
  {
   "cell_type": "code",
   "execution_count": 60,
   "id": "fe4c3c58",
   "metadata": {},
   "outputs": [
    {
     "name": "stdout",
     "output_type": "stream",
     "text": [
      "MSE:  9.914741564956175\n",
      "RMSE:  3.1487682615518366\n"
     ]
    }
   ],
   "source": [
    "mse = mean_squared_error(CPI_test, predictions_triple)\n",
    "print(\"MSE: \", mse)\n",
    "print(\"RMSE: \", mse**(1/2.0)) "
   ]
  },
  {
   "cell_type": "markdown",
   "id": "f2c20cfa",
   "metadata": {},
   "source": [
    "## Apply Exponential Smoothing Model to gas type all_grades_all_formulation "
   ]
  },
  {
   "cell_type": "code",
   "execution_count": 135,
   "id": "72f76b7b",
   "metadata": {},
   "outputs": [
    {
     "data": {
      "text/html": [
       "<div>\n",
       "<style scoped>\n",
       "    .dataframe tbody tr th:only-of-type {\n",
       "        vertical-align: middle;\n",
       "    }\n",
       "\n",
       "    .dataframe tbody tr th {\n",
       "        vertical-align: top;\n",
       "    }\n",
       "\n",
       "    .dataframe thead th {\n",
       "        text-align: right;\n",
       "    }\n",
       "</style>\n",
       "<table border=\"1\" class=\"dataframe\">\n",
       "  <thead>\n",
       "    <tr style=\"text-align: right;\">\n",
       "      <th></th>\n",
       "      <th>all_grades_all_formulation</th>\n",
       "    </tr>\n",
       "    <tr>\n",
       "      <th>Date</th>\n",
       "      <th></th>\n",
       "    </tr>\n",
       "  </thead>\n",
       "  <tbody>\n",
       "    <tr>\n",
       "      <th>1995-01-01</th>\n",
       "      <td>1.127</td>\n",
       "    </tr>\n",
       "    <tr>\n",
       "      <th>1995-02-01</th>\n",
       "      <td>1.124</td>\n",
       "    </tr>\n",
       "    <tr>\n",
       "      <th>1995-03-01</th>\n",
       "      <td>1.123</td>\n",
       "    </tr>\n",
       "    <tr>\n",
       "      <th>1995-04-01</th>\n",
       "      <td>1.133</td>\n",
       "    </tr>\n",
       "    <tr>\n",
       "      <th>1995-05-01</th>\n",
       "      <td>1.194</td>\n",
       "    </tr>\n",
       "  </tbody>\n",
       "</table>\n",
       "</div>"
      ],
      "text/plain": [
       "            all_grades_all_formulation\n",
       "Date                                  \n",
       "1995-01-01                       1.127\n",
       "1995-02-01                       1.124\n",
       "1995-03-01                       1.123\n",
       "1995-04-01                       1.133\n",
       "1995-05-01                       1.194"
      ]
     },
     "execution_count": 135,
     "metadata": {},
     "output_type": "execute_result"
    }
   ],
   "source": [
    "# Pull out all_grades_all_formulation data from the main dataset\n",
    "AGAF_df=cpi_gas_df[[\"all_grades_all_formulation\"]]\n",
    "AGAF_df.head(5)"
   ]
  },
  {
   "cell_type": "code",
   "execution_count": 136,
   "id": "db2f7a41",
   "metadata": {},
   "outputs": [],
   "source": [
    "AGAF_train=AGAF_df[:-22]\n",
    "AGAF_test =AGAF_df[-22:]"
   ]
  },
  {
   "cell_type": "code",
   "execution_count": 137,
   "id": "2870af36",
   "metadata": {},
   "outputs": [
    {
     "name": "stderr",
     "output_type": "stream",
     "text": [
      "C:\\Users\\julie\\anaconda3\\envs\\mlenv\\lib\\site-packages\\ipykernel_launcher.py:1: FutureWarning: the 'damped'' keyword is deprecated, use 'damped_trend' instead\n",
      "  \"\"\"Entry point for launching an IPython kernel.\n",
      "C:\\Users\\julie\\anaconda3\\envs\\mlenv\\lib\\site-packages\\statsmodels\\tsa\\base\\tsa_model.py:471: ValueWarning: No frequency information was provided, so inferred frequency MS will be used.\n",
      "  self._init_dates(dates, freq)\n"
     ]
    }
   ],
   "source": [
    "# Build and train the model\n",
    "model_AGAF=ets.ExponentialSmoothing(AGAF_train,trend=\"additive\",damped=False, seasonal=None).fit()"
   ]
  },
  {
   "cell_type": "code",
   "execution_count": null,
   "id": "cbd22195",
   "metadata": {},
   "outputs": [],
   "source": [
    "#predictions_AGAF=model_AGAF.forecast(steps=len(CPI_test))"
   ]
  },
  {
   "cell_type": "code",
   "execution_count": 149,
   "id": "f9330c38",
   "metadata": {},
   "outputs": [
    {
     "data": {
      "image/png": "[encoded data removed]",
      "text/plain": [
       "<Figure size 720x432 with 1 Axes>"
      ]
     },
     "metadata": {
      "needs_background": "light"
     },
     "output_type": "display_data"
    }
   ],
   "source": [
    "# Set up the prediction from 2019-04-01 to 2022-12-01 (45 months)\n",
    "figl,ax=plt.subplots(figsize=(10,6))\n",
    "ax.plot(AGAF_train,label=\"AGAF_train\")\n",
    "ax.plot(AGAF_test,label=\"AGAF_test\")\n",
    "ax.plot(model_AGAF.forecast(45),label=\"predictions\")\n",
    "\n",
    "plt.legend(loc=\"upper left\")\n",
    "plt.title(\"Triple Exponential Smoothing Method\")\n",
    "plt.ylabel(\"CPI\")\n",
    "plt.xlabel(\"Date\")\n",
    "plt.show()"
   ]
  },
  {
   "cell_type": "code",
   "execution_count": 150,
   "id": "51b8bd59",
   "metadata": {},
   "outputs": [
    {
     "data": {
      "text/plain": [
       "2019-04-01    2.506742\n",
       "2019-05-01    2.511484\n",
       "2019-06-01    2.516225\n",
       "2019-07-01    2.520967\n",
       "2019-08-01    2.525709\n",
       "2019-09-01    2.530451\n",
       "2019-10-01    2.535192\n",
       "2019-11-01    2.539934\n",
       "2019-12-01    2.544676\n",
       "2020-01-01    2.549418\n",
       "2020-02-01    2.554160\n",
       "2020-03-01    2.558901\n",
       "2020-04-01    2.563643\n",
       "2020-05-01    2.568385\n",
       "2020-06-01    2.573127\n",
       "2020-07-01    2.577868\n",
       "2020-08-01    2.582610\n",
       "2020-09-01    2.587352\n",
       "2020-10-01    2.592094\n",
       "2020-11-01    2.596836\n",
       "2020-12-01    2.601577\n",
       "2021-01-01    2.606319\n",
       "2021-02-01    2.611061\n",
       "2021-03-01    2.615803\n",
       "2021-04-01    2.620544\n",
       "2021-05-01    2.625286\n",
       "2021-06-01    2.630028\n",
       "2021-07-01    2.634770\n",
       "2021-08-01    2.639511\n",
       "2021-09-01    2.644253\n",
       "2021-10-01    2.648995\n",
       "2021-11-01    2.653737\n",
       "2021-12-01    2.658479\n",
       "2022-01-01    2.663220\n",
       "2022-02-01    2.667962\n",
       "2022-03-01    2.672704\n",
       "2022-04-01    2.677446\n",
       "2022-05-01    2.682187\n",
       "2022-06-01    2.686929\n",
       "2022-07-01    2.691671\n",
       "2022-08-01    2.696413\n",
       "2022-09-01    2.701155\n",
       "2022-10-01    2.705896\n",
       "2022-11-01    2.710638\n",
       "2022-12-01    2.715380\n",
       "Freq: MS, dtype: float64"
      ]
     },
     "execution_count": 150,
     "metadata": {},
     "output_type": "execute_result"
    }
   ],
   "source": [
    "prediction_AGAF=model_AGAF.forecast(45)\n",
    "prediction_AGAF\n"
   ]
  },
  {
   "cell_type": "code",
   "execution_count": 153,
   "id": "2e966b5b",
   "metadata": {},
   "outputs": [
    {
     "data": {
      "text/plain": [
       "dtype('float64')"
      ]
     },
     "execution_count": 153,
     "metadata": {},
     "output_type": "execute_result"
    }
   ],
   "source": []
  },
  {
   "cell_type": "code",
   "execution_count": 154,
   "id": "c7099733",
   "metadata": {},
   "outputs": [],
   "source": [
    "prediction_AGAF_df= pd.DataFrame(prediction_AGAF)"
   ]
  },
  {
   "cell_type": "code",
   "execution_count": 155,
   "id": "02286b03",
   "metadata": {},
   "outputs": [
    {
     "data": {
      "text/html": [
       "<div>\n",
       "<style scoped>\n",
       "    .dataframe tbody tr th:only-of-type {\n",
       "        vertical-align: middle;\n",
       "    }\n",
       "\n",
       "    .dataframe tbody tr th {\n",
       "        vertical-align: top;\n",
       "    }\n",
       "\n",
       "    .dataframe thead th {\n",
       "        text-align: right;\n",
       "    }\n",
       "</style>\n",
       "<table border=\"1\" class=\"dataframe\">\n",
       "  <thead>\n",
       "    <tr style=\"text-align: right;\">\n",
       "      <th></th>\n",
       "      <th>0</th>\n",
       "    </tr>\n",
       "  </thead>\n",
       "  <tbody>\n",
       "    <tr>\n",
       "      <th>2019-04-01</th>\n",
       "      <td>2.506742</td>\n",
       "    </tr>\n",
       "    <tr>\n",
       "      <th>2019-05-01</th>\n",
       "      <td>2.511484</td>\n",
       "    </tr>\n",
       "    <tr>\n",
       "      <th>2019-06-01</th>\n",
       "      <td>2.516225</td>\n",
       "    </tr>\n",
       "    <tr>\n",
       "      <th>2019-07-01</th>\n",
       "      <td>2.520967</td>\n",
       "    </tr>\n",
       "    <tr>\n",
       "      <th>2019-08-01</th>\n",
       "      <td>2.525709</td>\n",
       "    </tr>\n",
       "    <tr>\n",
       "      <th>2019-09-01</th>\n",
       "      <td>2.530451</td>\n",
       "    </tr>\n",
       "    <tr>\n",
       "      <th>2019-10-01</th>\n",
       "      <td>2.535192</td>\n",
       "    </tr>\n",
       "    <tr>\n",
       "      <th>2019-11-01</th>\n",
       "      <td>2.539934</td>\n",
       "    </tr>\n",
       "    <tr>\n",
       "      <th>2019-12-01</th>\n",
       "      <td>2.544676</td>\n",
       "    </tr>\n",
       "    <tr>\n",
       "      <th>2020-01-01</th>\n",
       "      <td>2.549418</td>\n",
       "    </tr>\n",
       "    <tr>\n",
       "      <th>2020-02-01</th>\n",
       "      <td>2.554160</td>\n",
       "    </tr>\n",
       "    <tr>\n",
       "      <th>2020-03-01</th>\n",
       "      <td>2.558901</td>\n",
       "    </tr>\n",
       "    <tr>\n",
       "      <th>2020-04-01</th>\n",
       "      <td>2.563643</td>\n",
       "    </tr>\n",
       "    <tr>\n",
       "      <th>2020-05-01</th>\n",
       "      <td>2.568385</td>\n",
       "    </tr>\n",
       "    <tr>\n",
       "      <th>2020-06-01</th>\n",
       "      <td>2.573127</td>\n",
       "    </tr>\n",
       "    <tr>\n",
       "      <th>2020-07-01</th>\n",
       "      <td>2.577868</td>\n",
       "    </tr>\n",
       "    <tr>\n",
       "      <th>2020-08-01</th>\n",
       "      <td>2.582610</td>\n",
       "    </tr>\n",
       "    <tr>\n",
       "      <th>2020-09-01</th>\n",
       "      <td>2.587352</td>\n",
       "    </tr>\n",
       "    <tr>\n",
       "      <th>2020-10-01</th>\n",
       "      <td>2.592094</td>\n",
       "    </tr>\n",
       "    <tr>\n",
       "      <th>2020-11-01</th>\n",
       "      <td>2.596836</td>\n",
       "    </tr>\n",
       "    <tr>\n",
       "      <th>2020-12-01</th>\n",
       "      <td>2.601577</td>\n",
       "    </tr>\n",
       "    <tr>\n",
       "      <th>2021-01-01</th>\n",
       "      <td>2.606319</td>\n",
       "    </tr>\n",
       "    <tr>\n",
       "      <th>2021-02-01</th>\n",
       "      <td>2.611061</td>\n",
       "    </tr>\n",
       "    <tr>\n",
       "      <th>2021-03-01</th>\n",
       "      <td>2.615803</td>\n",
       "    </tr>\n",
       "    <tr>\n",
       "      <th>2021-04-01</th>\n",
       "      <td>2.620544</td>\n",
       "    </tr>\n",
       "    <tr>\n",
       "      <th>2021-05-01</th>\n",
       "      <td>2.625286</td>\n",
       "    </tr>\n",
       "    <tr>\n",
       "      <th>2021-06-01</th>\n",
       "      <td>2.630028</td>\n",
       "    </tr>\n",
       "    <tr>\n",
       "      <th>2021-07-01</th>\n",
       "      <td>2.634770</td>\n",
       "    </tr>\n",
       "    <tr>\n",
       "      <th>2021-08-01</th>\n",
       "      <td>2.639511</td>\n",
       "    </tr>\n",
       "    <tr>\n",
       "      <th>2021-09-01</th>\n",
       "      <td>2.644253</td>\n",
       "    </tr>\n",
       "    <tr>\n",
       "      <th>2021-10-01</th>\n",
       "      <td>2.648995</td>\n",
       "    </tr>\n",
       "    <tr>\n",
       "      <th>2021-11-01</th>\n",
       "      <td>2.653737</td>\n",
       "    </tr>\n",
       "    <tr>\n",
       "      <th>2021-12-01</th>\n",
       "      <td>2.658479</td>\n",
       "    </tr>\n",
       "    <tr>\n",
       "      <th>2022-01-01</th>\n",
       "      <td>2.663220</td>\n",
       "    </tr>\n",
       "    <tr>\n",
       "      <th>2022-02-01</th>\n",
       "      <td>2.667962</td>\n",
       "    </tr>\n",
       "    <tr>\n",
       "      <th>2022-03-01</th>\n",
       "      <td>2.672704</td>\n",
       "    </tr>\n",
       "    <tr>\n",
       "      <th>2022-04-01</th>\n",
       "      <td>2.677446</td>\n",
       "    </tr>\n",
       "    <tr>\n",
       "      <th>2022-05-01</th>\n",
       "      <td>2.682187</td>\n",
       "    </tr>\n",
       "    <tr>\n",
       "      <th>2022-06-01</th>\n",
       "      <td>2.686929</td>\n",
       "    </tr>\n",
       "    <tr>\n",
       "      <th>2022-07-01</th>\n",
       "      <td>2.691671</td>\n",
       "    </tr>\n",
       "    <tr>\n",
       "      <th>2022-08-01</th>\n",
       "      <td>2.696413</td>\n",
       "    </tr>\n",
       "    <tr>\n",
       "      <th>2022-09-01</th>\n",
       "      <td>2.701155</td>\n",
       "    </tr>\n",
       "    <tr>\n",
       "      <th>2022-10-01</th>\n",
       "      <td>2.705896</td>\n",
       "    </tr>\n",
       "    <tr>\n",
       "      <th>2022-11-01</th>\n",
       "      <td>2.710638</td>\n",
       "    </tr>\n",
       "    <tr>\n",
       "      <th>2022-12-01</th>\n",
       "      <td>2.715380</td>\n",
       "    </tr>\n",
       "  </tbody>\n",
       "</table>\n",
       "</div>"
      ],
      "text/plain": [
       "                   0\n",
       "2019-04-01  2.506742\n",
       "2019-05-01  2.511484\n",
       "2019-06-01  2.516225\n",
       "2019-07-01  2.520967\n",
       "2019-08-01  2.525709\n",
       "2019-09-01  2.530451\n",
       "2019-10-01  2.535192\n",
       "2019-11-01  2.539934\n",
       "2019-12-01  2.544676\n",
       "2020-01-01  2.549418\n",
       "2020-02-01  2.554160\n",
       "2020-03-01  2.558901\n",
       "2020-04-01  2.563643\n",
       "2020-05-01  2.568385\n",
       "2020-06-01  2.573127\n",
       "2020-07-01  2.577868\n",
       "2020-08-01  2.582610\n",
       "2020-09-01  2.587352\n",
       "2020-10-01  2.592094\n",
       "2020-11-01  2.596836\n",
       "2020-12-01  2.601577\n",
       "2021-01-01  2.606319\n",
       "2021-02-01  2.611061\n",
       "2021-03-01  2.615803\n",
       "2021-04-01  2.620544\n",
       "2021-05-01  2.625286\n",
       "2021-06-01  2.630028\n",
       "2021-07-01  2.634770\n",
       "2021-08-01  2.639511\n",
       "2021-09-01  2.644253\n",
       "2021-10-01  2.648995\n",
       "2021-11-01  2.653737\n",
       "2021-12-01  2.658479\n",
       "2022-01-01  2.663220\n",
       "2022-02-01  2.667962\n",
       "2022-03-01  2.672704\n",
       "2022-04-01  2.677446\n",
       "2022-05-01  2.682187\n",
       "2022-06-01  2.686929\n",
       "2022-07-01  2.691671\n",
       "2022-08-01  2.696413\n",
       "2022-09-01  2.701155\n",
       "2022-10-01  2.705896\n",
       "2022-11-01  2.710638\n",
       "2022-12-01  2.715380"
      ]
     },
     "execution_count": 155,
     "metadata": {},
     "output_type": "execute_result"
    }
   ],
   "source": [
    "prediction_AGAF_df"
   ]
  },
  {
   "cell_type": "code",
   "execution_count": 157,
   "id": "16a44380",
   "metadata": {},
   "outputs": [],
   "source": [
    "prediction_AGAF_df.to_csv(\"all_grades_all_formulation prediction.csv\")"
   ]
  },
  {
   "cell_type": "code",
   "execution_count": null,
   "id": "83fbd2c0",
   "metadata": {},
   "outputs": [],
   "source": []
  }
 ],
 "metadata": {
  "kernelspec": {
   "display_name": "mlenv",
   "language": "python",
   "name": "mlenv"
  },
  "language_info": {
   "codemirror_mode": {
    "name": "ipython",
    "version": 3
   },
   "file_extension": ".py",
   "mimetype": "text/x-python",
   "name": "python",
   "nbconvert_exporter": "python",
   "pygments_lexer": "ipython3",
   "version": "3.7.13"
  }
 },
 "nbformat": 4,
 "nbformat_minor": 5
}
